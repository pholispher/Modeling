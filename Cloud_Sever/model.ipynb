{
 "cells": [
  {
   "cell_type": "code",
   "execution_count": 1,
   "id": "8c27e732-b5f1-41a9-b79d-c43aade92331",
   "metadata": {},
   "outputs": [
    {
     "name": "stderr",
     "output_type": "stream",
     "text": [
      "2025-05-03 14:11:38.754905: I tensorflow/core/util/port.cc:153] oneDNN custom operations are on. You may see slightly different numerical results due to floating-point round-off errors from different computation orders. To turn them off, set the environment variable `TF_ENABLE_ONEDNN_OPTS=0`.\n",
      "2025-05-03 14:11:38.767007: E external/local_xla/xla/stream_executor/cuda/cuda_fft.cc:467] Unable to register cuFFT factory: Attempting to register factory for plugin cuFFT when one has already been registered\n",
      "WARNING: All log messages before absl::InitializeLog() is called are written to STDERR\n",
      "E0000 00:00:1746252698.780007    1040 cuda_dnn.cc:8579] Unable to register cuDNN factory: Attempting to register factory for plugin cuDNN when one has already been registered\n",
      "E0000 00:00:1746252698.783839    1040 cuda_blas.cc:1407] Unable to register cuBLAS factory: Attempting to register factory for plugin cuBLAS when one has already been registered\n",
      "W0000 00:00:1746252698.794293    1040 computation_placer.cc:177] computation placer already registered. Please check linkage and avoid linking the same target more than once.\n",
      "W0000 00:00:1746252698.794307    1040 computation_placer.cc:177] computation placer already registered. Please check linkage and avoid linking the same target more than once.\n",
      "W0000 00:00:1746252698.794309    1040 computation_placer.cc:177] computation placer already registered. Please check linkage and avoid linking the same target more than once.\n",
      "W0000 00:00:1746252698.794310    1040 computation_placer.cc:177] computation placer already registered. Please check linkage and avoid linking the same target more than once.\n",
      "2025-05-03 14:11:38.797627: I tensorflow/core/platform/cpu_feature_guard.cc:210] This TensorFlow binary is optimized to use available CPU instructions in performance-critical operations.\n",
      "To enable the following instructions: AVX2 AVX512F AVX512_VNNI AVX512_BF16 FMA, in other operations, rebuild TensorFlow with the appropriate compiler flags.\n"
     ]
    }
   ],
   "source": [
    "from statsmodels.tsa.arima.model import ARIMA\n",
    "from tensorflow.keras.layers import Dot\n",
    "# ====== 4. 标准化 ======\n",
    "from sklearn.preprocessing import StandardScaler\n",
    "\n",
    "import shap"
   ]
  },
  {
   "cell_type": "code",
   "execution_count": 3,
   "id": "26295cd0-3563-4338-907f-3d615b25940c",
   "metadata": {},
   "outputs": [],
   "source": [
    "import warnings\n",
    "warnings.filterwarnings(\"ignore\")"
   ]
  },
  {
   "cell_type": "code",
   "execution_count": 2,
   "id": "480d8b9e-2119-4ffa-bd22-62f366d3faf0",
   "metadata": {},
   "outputs": [],
   "source": [
    "from statsmodels.tsa.stattools import adfuller\n",
    "import pandas as pd\n",
    "import os\n",
    "import glob\n",
    "import matplotlib.pyplot as plt\n",
    "from datetime import datetime\n",
    "import seaborn as sns \n",
    "import numpy as np\n",
    "import tensorflow as tf\n",
    "from tensorflow.keras.layers import Input, Conv1D, LSTM, Dense, Attention, Bidirectional, Flatten\n",
    "\n",
    "from pmdarima import auto_arima\n",
    "from statsmodels.tsa.arima.model import ARIMA\n",
    "\n",
    "import tensorflow as tf\n",
    "from tensorflow.keras.layers import Input, Conv1D, LSTM, Dense, Attention, Bidirectional, Flatten"
   ]
  },
  {
   "cell_type": "code",
   "execution_count": 47,
   "id": "97544f60-ac0a-4133-93f2-3d5fa05603ad",
   "metadata": {},
   "outputs": [],
   "source": [
    "import tensorflow as tf"
   ]
  },
  {
   "cell_type": "markdown",
   "id": "284cf1b8-e5b7-4086-b7e6-4e02d3483486",
   "metadata": {},
   "source": [
    "# ARIMA预处理\n",
    "\n",
    "p,d,q"
   ]
  },
  {
   "cell_type": "code",
   "execution_count": 50,
   "id": "3478f87e-5813-4c1b-ade2-d6c96357e4d8",
   "metadata": {},
   "outputs": [],
   "source": [
    "    df=pd.read_csv(\"./data/merge.csv\")"
   ]
  },
  {
   "cell_type": "code",
   "execution_count": 4,
   "id": "700f2d2b-736b-4ec6-bcdf-84d149241fd6",
   "metadata": {},
   "outputs": [],
   "source": [
    "def arima_residual(series):\n",
    "    model = ARIMA(series, order=(2,1,2))  # 自动定阶需优化\n",
    "    results = model.fit()\n",
    "    return results.resid"
   ]
  },
  {
   "cell_type": "code",
   "execution_count": 5,
   "id": "76685360-ec0f-4498-a371-c860e53237da",
   "metadata": {},
   "outputs": [],
   "source": [
    "merged_df=pd.read_csv(\"./data/merge.csv\")"
   ]
  },
  {
   "cell_type": "code",
   "execution_count": 6,
   "id": "7895fbd9-436a-4fa0-9908-67d2a0a36926",
   "metadata": {},
   "outputs": [
    {
     "data": {
      "text/html": [
       "<div>\n",
       "<style scoped>\n",
       "    .dataframe tbody tr th:only-of-type {\n",
       "        vertical-align: middle;\n",
       "    }\n",
       "\n",
       "    .dataframe tbody tr th {\n",
       "        vertical-align: top;\n",
       "    }\n",
       "\n",
       "    .dataframe thead th {\n",
       "        text-align: right;\n",
       "    }\n",
       "</style>\n",
       "<table border=\"1\" class=\"dataframe\">\n",
       "  <thead>\n",
       "    <tr style=\"text-align: right;\">\n",
       "      <th></th>\n",
       "      <th>Unnamed: 0</th>\n",
       "      <th>datetime</th>\n",
       "      <th>contract</th>\n",
       "      <th>symbol</th>\n",
       "      <th>exchange</th>\n",
       "      <th>open</th>\n",
       "      <th>high</th>\n",
       "      <th>low</th>\n",
       "      <th>close</th>\n",
       "      <th>openinterest</th>\n",
       "      <th>...</th>\n",
       "      <th>Signal</th>\n",
       "      <th>Volatility_10</th>\n",
       "      <th>Volume_Change</th>\n",
       "      <th>Price_Volume_Corr</th>\n",
       "      <th>future_close</th>\n",
       "      <th>涨跌幅</th>\n",
       "      <th>hour</th>\n",
       "      <th>minute</th>\n",
       "      <th>session</th>\n",
       "      <th>涨跌幅_scaled</th>\n",
       "    </tr>\n",
       "  </thead>\n",
       "  <tbody>\n",
       "    <tr>\n",
       "      <th>0</th>\n",
       "      <td>13</td>\n",
       "      <td>2017-01-03 09:13:00</td>\n",
       "      <td>HC1705</td>\n",
       "      <td>HC</td>\n",
       "      <td>SHFE</td>\n",
       "      <td>3372.0</td>\n",
       "      <td>3372.0</td>\n",
       "      <td>3362.0</td>\n",
       "      <td>3363.0</td>\n",
       "      <td>172022.0</td>\n",
       "      <td>...</td>\n",
       "      <td>15.745432</td>\n",
       "      <td>0.757838</td>\n",
       "      <td>-0.013410</td>\n",
       "      <td>0.196844</td>\n",
       "      <td>3356.0</td>\n",
       "      <td>-0.208147</td>\n",
       "      <td>9</td>\n",
       "      <td>13</td>\n",
       "      <td>Morning</td>\n",
       "      <td>-0.408166</td>\n",
       "    </tr>\n",
       "    <tr>\n",
       "      <th>1</th>\n",
       "      <td>14</td>\n",
       "      <td>2017-01-03 09:14:00</td>\n",
       "      <td>HC1705</td>\n",
       "      <td>HC</td>\n",
       "      <td>SHFE</td>\n",
       "      <td>3363.0</td>\n",
       "      <td>3366.0</td>\n",
       "      <td>3358.0</td>\n",
       "      <td>3365.0</td>\n",
       "      <td>172009.0</td>\n",
       "      <td>...</td>\n",
       "      <td>15.259043</td>\n",
       "      <td>0.865074</td>\n",
       "      <td>-0.051661</td>\n",
       "      <td>0.207903</td>\n",
       "      <td>3351.0</td>\n",
       "      <td>-0.416048</td>\n",
       "      <td>9</td>\n",
       "      <td>14</td>\n",
       "      <td>Morning</td>\n",
       "      <td>-0.807961</td>\n",
       "    </tr>\n",
       "    <tr>\n",
       "      <th>2</th>\n",
       "      <td>15</td>\n",
       "      <td>2017-01-03 09:15:00</td>\n",
       "      <td>HC1705</td>\n",
       "      <td>HC</td>\n",
       "      <td>SHFE</td>\n",
       "      <td>3367.0</td>\n",
       "      <td>3372.0</td>\n",
       "      <td>3365.0</td>\n",
       "      <td>3366.0</td>\n",
       "      <td>171768.0</td>\n",
       "      <td>...</td>\n",
       "      <td>14.614312</td>\n",
       "      <td>0.681333</td>\n",
       "      <td>-0.128878</td>\n",
       "      <td>0.216773</td>\n",
       "      <td>3353.0</td>\n",
       "      <td>-0.386215</td>\n",
       "      <td>9</td>\n",
       "      <td>15</td>\n",
       "      <td>Morning</td>\n",
       "      <td>-0.750593</td>\n",
       "    </tr>\n",
       "    <tr>\n",
       "      <th>3</th>\n",
       "      <td>16</td>\n",
       "      <td>2017-01-03 09:16:00</td>\n",
       "      <td>HC1705</td>\n",
       "      <td>HC</td>\n",
       "      <td>SHFE</td>\n",
       "      <td>3366.0</td>\n",
       "      <td>3371.0</td>\n",
       "      <td>3365.0</td>\n",
       "      <td>3366.0</td>\n",
       "      <td>171779.0</td>\n",
       "      <td>...</td>\n",
       "      <td>13.870824</td>\n",
       "      <td>0.681333</td>\n",
       "      <td>-0.236832</td>\n",
       "      <td>0.226767</td>\n",
       "      <td>3359.0</td>\n",
       "      <td>-0.207962</td>\n",
       "      <td>9</td>\n",
       "      <td>16</td>\n",
       "      <td>Morning</td>\n",
       "      <td>-0.407809</td>\n",
       "    </tr>\n",
       "    <tr>\n",
       "      <th>4</th>\n",
       "      <td>17</td>\n",
       "      <td>2017-01-03 09:17:00</td>\n",
       "      <td>HC1705</td>\n",
       "      <td>HC</td>\n",
       "      <td>SHFE</td>\n",
       "      <td>3368.0</td>\n",
       "      <td>3370.0</td>\n",
       "      <td>3364.0</td>\n",
       "      <td>3367.0</td>\n",
       "      <td>171901.0</td>\n",
       "      <td>...</td>\n",
       "      <td>13.088752</td>\n",
       "      <td>0.616890</td>\n",
       "      <td>-0.033672</td>\n",
       "      <td>0.232937</td>\n",
       "      <td>3359.0</td>\n",
       "      <td>-0.237600</td>\n",
       "      <td>9</td>\n",
       "      <td>17</td>\n",
       "      <td>Morning</td>\n",
       "      <td>-0.464804</td>\n",
       "    </tr>\n",
       "  </tbody>\n",
       "</table>\n",
       "<p>5 rows × 26 columns</p>\n",
       "</div>"
      ],
      "text/plain": [
       "   Unnamed: 0             datetime contract symbol exchange    open    high  \\\n",
       "0          13  2017-01-03 09:13:00   HC1705     HC     SHFE  3372.0  3372.0   \n",
       "1          14  2017-01-03 09:14:00   HC1705     HC     SHFE  3363.0  3366.0   \n",
       "2          15  2017-01-03 09:15:00   HC1705     HC     SHFE  3367.0  3372.0   \n",
       "3          16  2017-01-03 09:16:00   HC1705     HC     SHFE  3366.0  3371.0   \n",
       "4          17  2017-01-03 09:17:00   HC1705     HC     SHFE  3368.0  3370.0   \n",
       "\n",
       "      low   close  openinterest  ...     Signal  Volatility_10  Volume_Change  \\\n",
       "0  3362.0  3363.0      172022.0  ...  15.745432       0.757838      -0.013410   \n",
       "1  3358.0  3365.0      172009.0  ...  15.259043       0.865074      -0.051661   \n",
       "2  3365.0  3366.0      171768.0  ...  14.614312       0.681333      -0.128878   \n",
       "3  3365.0  3366.0      171779.0  ...  13.870824       0.681333      -0.236832   \n",
       "4  3364.0  3367.0      171901.0  ...  13.088752       0.616890      -0.033672   \n",
       "\n",
       "   Price_Volume_Corr  future_close       涨跌幅  hour  minute  session  \\\n",
       "0           0.196844        3356.0 -0.208147     9      13  Morning   \n",
       "1           0.207903        3351.0 -0.416048     9      14  Morning   \n",
       "2           0.216773        3353.0 -0.386215     9      15  Morning   \n",
       "3           0.226767        3359.0 -0.207962     9      16  Morning   \n",
       "4           0.232937        3359.0 -0.237600     9      17  Morning   \n",
       "\n",
       "   涨跌幅_scaled  \n",
       "0   -0.408166  \n",
       "1   -0.807961  \n",
       "2   -0.750593  \n",
       "3   -0.407809  \n",
       "4   -0.464804  \n",
       "\n",
       "[5 rows x 26 columns]"
      ]
     },
     "execution_count": 6,
     "metadata": {},
     "output_type": "execute_result"
    }
   ],
   "source": [
    "merged_df.head()"
   ]
  },
  {
   "cell_type": "code",
   "execution_count": 47,
   "id": "a64b5f53-65b6-4d7a-be15-ef7c702da00e",
   "metadata": {},
   "outputs": [
    {
     "name": "stdout",
     "output_type": "stream",
     "text": [
      "   Unnamed: 0             datetime contract symbol exchange    open    high  \\\n",
      "0          13  2017-01-03 09:13:00   HC1705     HC     SHFE  3372.0  3372.0   \n",
      "1          14  2017-01-03 09:14:00   HC1705     HC     SHFE  3363.0  3366.0   \n",
      "2          15  2017-01-03 09:15:00   HC1705     HC     SHFE  3367.0  3372.0   \n",
      "3          16  2017-01-03 09:16:00   HC1705     HC     SHFE  3366.0  3371.0   \n",
      "4          17  2017-01-03 09:17:00   HC1705     HC     SHFE  3368.0  3370.0   \n",
      "\n",
      "      low   close  openinterest  ...  Volatility_10  Volume_Change  \\\n",
      "0  3362.0  3363.0      172022.0  ...       0.757838      -0.013410   \n",
      "1  3358.0  3365.0      172009.0  ...       0.865074      -0.051661   \n",
      "2  3365.0  3366.0      171768.0  ...       0.681333      -0.128878   \n",
      "3  3365.0  3366.0      171779.0  ...       0.681333      -0.236832   \n",
      "4  3364.0  3367.0      171901.0  ...       0.616890      -0.033672   \n",
      "\n",
      "   Price_Volume_Corr  future_close       涨跌幅  hour  minute  session  \\\n",
      "0           0.196844        3356.0 -0.208147     9      13  Morning   \n",
      "1           0.207903        3351.0 -0.416048     9      14  Morning   \n",
      "2           0.216773        3353.0 -0.386215     9      15  Morning   \n",
      "3           0.226767        3359.0 -0.207962     9      16  Morning   \n",
      "4           0.232937        3359.0 -0.237600     9      17  Morning   \n",
      "\n",
      "   涨跌幅_scaled  arima_residual  \n",
      "0   -0.408166     3363.000000  \n",
      "1   -0.807961        2.002386  \n",
      "2   -0.750593        1.086440  \n",
      "3   -0.407809        0.060852  \n",
      "4   -0.464804        1.014362  \n",
      "\n",
      "[5 rows x 27 columns]\n"
     ]
    }
   ],
   "source": [
    "print(merged_df.head())"
   ]
  },
  {
   "cell_type": "code",
   "execution_count": 6,
   "id": "df247f52-ca21-44ab-8b6c-042a556cb296",
   "metadata": {},
   "outputs": [],
   "source": [
    "# 示例：对每个品种的收盘价生成残差\n",
    "merged_df[\"arima_residual\"] = merged_df.groupby(\"symbol\")[\"close\"].transform(arima_residual)"
   ]
  },
  {
   "cell_type": "markdown",
   "id": "e4c56996-14d3-4c84-a149-f733d6fa5fec",
   "metadata": {},
   "source": [
    "# Attention-based CNN-LSTM模型"
   ]
  },
  {
   "cell_type": "code",
   "execution_count": 7,
   "id": "8e79bdd7-7ef4-433d-a4d6-00ccd5217e1b",
   "metadata": {},
   "outputs": [],
   "source": [
    "from tensorflow.keras.layers import Attention"
   ]
  },
  {
   "cell_type": "code",
   "execution_count": 12,
   "id": "e447f3f2-a513-4e14-9b9b-7994caad9229",
   "metadata": {},
   "outputs": [
    {
     "name": "stderr",
     "output_type": "stream",
     "text": [
      "2025-05-03 14:51:57.499352: E external/local_xla/xla/stream_executor/cuda/cuda_platform.cc:51] failed call to cuInit: INTERNAL: CUDA error: Failed call to cuInit: UNKNOWN ERROR (303)\n"
     ]
    }
   ],
   "source": [
    "from tensorflow.keras.layers import Input, Conv1D, LSTM, Dense, Attention, Bidirectional, Lambda\n",
    "import tensorflow as tf\n",
    "\n",
    "# 输入形状 (None, 60, num_features)\n",
    "inputs = Input(shape=(60, merged_df.shape[1]-3))  # 排除标签列和辅助列\n",
    "\n",
    "# CNN层\n",
    "x = Conv1D(64, kernel_size=3, activation=\"relu\")(inputs)\n",
    "x = tf.keras.layers.MaxPooling1D(2)(x)  # 输出形状：(None, 29, 64)\n",
    "\n",
    "# Bi-LSTM层\n",
    "x = Bidirectional(LSTM(128, return_sequences=True))(x)  # 输出形状：(None, 29, 256)\n",
    "\n",
    "# 注意力机制\n",
    "query = Dense(128)(x)  # 输出形状：(None, 29, 128)\n",
    "key = Dense(128)(x)    # 输出形状：(None, 29, 128)\n",
    "value = x  # 值矩阵直接使用Bi-LSTM输出\n",
    "\n",
    "# 使用Keras内置Attention层\n",
    "attention_output = Attention()([query, value, key])  # 输出形状：(None, 29, 256)\n",
    "\n",
    "# 沿时间步聚合（求和）\n",
    "context = Lambda(lambda x: tf.reduce_sum(x, axis=1))(attention_output)  # 输出形状：(None, 256)\n",
    "\n",
    "# 初步预测输出\n",
    "lstm_output = Dense(1, name=\"lstm_pred\")(context)\n",
    "\n",
    "# 编码特征输出（供XGBoost使用）\n",
    "encoded_features = Dense(64, activation=\"relu\")(context)\n",
    "\n",
    "# 完整模型\n",
    "cnn_lstm_model = tf.keras.Model(inputs=inputs, outputs=[lstm_output, encoded_features])"
   ]
  },
  {
   "cell_type": "code",
   "execution_count": 16,
   "id": "46cc1630-e642-4474-bf04-698222b3c580",
   "metadata": {},
   "outputs": [
    {
     "data": {
      "text/html": [
       "<pre style=\"white-space:pre;overflow-x:auto;line-height:normal;font-family:Menlo,'DejaVu Sans Mono',consolas,'Courier New',monospace\"><span style=\"font-weight: bold\">Model: \"functional\"</span>\n",
       "</pre>\n"
      ],
      "text/plain": [
       "\u001b[1mModel: \"functional\"\u001b[0m\n"
      ]
     },
     "metadata": {},
     "output_type": "display_data"
    },
    {
     "data": {
      "text/html": [
       "<pre style=\"white-space:pre;overflow-x:auto;line-height:normal;font-family:Menlo,'DejaVu Sans Mono',consolas,'Courier New',monospace\">┏━━━━━━━━━━━━━━━━━━━━━┳━━━━━━━━━━━━━━━━━━━┳━━━━━━━━━━━━┳━━━━━━━━━━━━━━━━━━━┓\n",
       "┃<span style=\"font-weight: bold\"> Layer (type)        </span>┃<span style=\"font-weight: bold\"> Output Shape      </span>┃<span style=\"font-weight: bold\">    Param # </span>┃<span style=\"font-weight: bold\"> Connected to      </span>┃\n",
       "┡━━━━━━━━━━━━━━━━━━━━━╇━━━━━━━━━━━━━━━━━━━╇━━━━━━━━━━━━╇━━━━━━━━━━━━━━━━━━━┩\n",
       "│ input_layer_5       │ (<span style=\"color: #00d7ff; text-decoration-color: #00d7ff\">None</span>, <span style=\"color: #00af00; text-decoration-color: #00af00\">60</span>, <span style=\"color: #00af00; text-decoration-color: #00af00\">24</span>)    │          <span style=\"color: #00af00; text-decoration-color: #00af00\">0</span> │ -                 │\n",
       "│ (<span style=\"color: #0087ff; text-decoration-color: #0087ff\">InputLayer</span>)        │                   │            │                   │\n",
       "├─────────────────────┼───────────────────┼────────────┼───────────────────┤\n",
       "│ conv1d_5 (<span style=\"color: #0087ff; text-decoration-color: #0087ff\">Conv1D</span>)   │ (<span style=\"color: #00d7ff; text-decoration-color: #00d7ff\">None</span>, <span style=\"color: #00af00; text-decoration-color: #00af00\">58</span>, <span style=\"color: #00af00; text-decoration-color: #00af00\">64</span>)    │      <span style=\"color: #00af00; text-decoration-color: #00af00\">4,672</span> │ input_layer_5[<span style=\"color: #00af00; text-decoration-color: #00af00\">0</span>]… │\n",
       "├─────────────────────┼───────────────────┼────────────┼───────────────────┤\n",
       "│ max_pooling1d_5     │ (<span style=\"color: #00d7ff; text-decoration-color: #00d7ff\">None</span>, <span style=\"color: #00af00; text-decoration-color: #00af00\">29</span>, <span style=\"color: #00af00; text-decoration-color: #00af00\">64</span>)    │          <span style=\"color: #00af00; text-decoration-color: #00af00\">0</span> │ conv1d_5[<span style=\"color: #00af00; text-decoration-color: #00af00\">0</span>][<span style=\"color: #00af00; text-decoration-color: #00af00\">0</span>]    │\n",
       "│ (<span style=\"color: #0087ff; text-decoration-color: #0087ff\">MaxPooling1D</span>)      │                   │            │                   │\n",
       "├─────────────────────┼───────────────────┼────────────┼───────────────────┤\n",
       "│ bidirectional_5     │ (<span style=\"color: #00d7ff; text-decoration-color: #00d7ff\">None</span>, <span style=\"color: #00af00; text-decoration-color: #00af00\">29</span>, <span style=\"color: #00af00; text-decoration-color: #00af00\">256</span>)   │    <span style=\"color: #00af00; text-decoration-color: #00af00\">197,632</span> │ max_pooling1d_5[<span style=\"color: #00af00; text-decoration-color: #00af00\">…</span> │\n",
       "│ (<span style=\"color: #0087ff; text-decoration-color: #0087ff\">Bidirectional</span>)     │                   │            │                   │\n",
       "├─────────────────────┼───────────────────┼────────────┼───────────────────┤\n",
       "│ dense_10 (<span style=\"color: #0087ff; text-decoration-color: #0087ff\">Dense</span>)    │ (<span style=\"color: #00d7ff; text-decoration-color: #00d7ff\">None</span>, <span style=\"color: #00af00; text-decoration-color: #00af00\">29</span>, <span style=\"color: #00af00; text-decoration-color: #00af00\">128</span>)   │     <span style=\"color: #00af00; text-decoration-color: #00af00\">32,896</span> │ bidirectional_5[<span style=\"color: #00af00; text-decoration-color: #00af00\">…</span> │\n",
       "├─────────────────────┼───────────────────┼────────────┼───────────────────┤\n",
       "│ dense_11 (<span style=\"color: #0087ff; text-decoration-color: #0087ff\">Dense</span>)    │ (<span style=\"color: #00d7ff; text-decoration-color: #00d7ff\">None</span>, <span style=\"color: #00af00; text-decoration-color: #00af00\">29</span>, <span style=\"color: #00af00; text-decoration-color: #00af00\">128</span>)   │     <span style=\"color: #00af00; text-decoration-color: #00af00\">32,896</span> │ bidirectional_5[<span style=\"color: #00af00; text-decoration-color: #00af00\">…</span> │\n",
       "├─────────────────────┼───────────────────┼────────────┼───────────────────┤\n",
       "│ attention_5         │ (<span style=\"color: #00d7ff; text-decoration-color: #00d7ff\">None</span>, <span style=\"color: #00af00; text-decoration-color: #00af00\">29</span>, <span style=\"color: #00af00; text-decoration-color: #00af00\">256</span>)   │          <span style=\"color: #00af00; text-decoration-color: #00af00\">0</span> │ dense_10[<span style=\"color: #00af00; text-decoration-color: #00af00\">0</span>][<span style=\"color: #00af00; text-decoration-color: #00af00\">0</span>],   │\n",
       "│ (<span style=\"color: #0087ff; text-decoration-color: #0087ff\">Attention</span>)         │                   │            │ bidirectional_5[<span style=\"color: #00af00; text-decoration-color: #00af00\">…</span> │\n",
       "│                     │                   │            │ dense_11[<span style=\"color: #00af00; text-decoration-color: #00af00\">0</span>][<span style=\"color: #00af00; text-decoration-color: #00af00\">0</span>]    │\n",
       "├─────────────────────┼───────────────────┼────────────┼───────────────────┤\n",
       "│ lambda (<span style=\"color: #0087ff; text-decoration-color: #0087ff\">Lambda</span>)     │ (<span style=\"color: #00d7ff; text-decoration-color: #00d7ff\">None</span>, <span style=\"color: #00af00; text-decoration-color: #00af00\">256</span>)       │          <span style=\"color: #00af00; text-decoration-color: #00af00\">0</span> │ attention_5[<span style=\"color: #00af00; text-decoration-color: #00af00\">0</span>][<span style=\"color: #00af00; text-decoration-color: #00af00\">0</span>] │\n",
       "├─────────────────────┼───────────────────┼────────────┼───────────────────┤\n",
       "│ lstm_pred (<span style=\"color: #0087ff; text-decoration-color: #0087ff\">Dense</span>)   │ (<span style=\"color: #00d7ff; text-decoration-color: #00d7ff\">None</span>, <span style=\"color: #00af00; text-decoration-color: #00af00\">1</span>)         │        <span style=\"color: #00af00; text-decoration-color: #00af00\">257</span> │ lambda[<span style=\"color: #00af00; text-decoration-color: #00af00\">0</span>][<span style=\"color: #00af00; text-decoration-color: #00af00\">0</span>]      │\n",
       "├─────────────────────┼───────────────────┼────────────┼───────────────────┤\n",
       "│ dense_12 (<span style=\"color: #0087ff; text-decoration-color: #0087ff\">Dense</span>)    │ (<span style=\"color: #00d7ff; text-decoration-color: #00d7ff\">None</span>, <span style=\"color: #00af00; text-decoration-color: #00af00\">64</span>)        │     <span style=\"color: #00af00; text-decoration-color: #00af00\">16,448</span> │ lambda[<span style=\"color: #00af00; text-decoration-color: #00af00\">0</span>][<span style=\"color: #00af00; text-decoration-color: #00af00\">0</span>]      │\n",
       "└─────────────────────┴───────────────────┴────────────┴───────────────────┘\n",
       "</pre>\n"
      ],
      "text/plain": [
       "┏━━━━━━━━━━━━━━━━━━━━━┳━━━━━━━━━━━━━━━━━━━┳━━━━━━━━━━━━┳━━━━━━━━━━━━━━━━━━━┓\n",
       "┃\u001b[1m \u001b[0m\u001b[1mLayer (type)       \u001b[0m\u001b[1m \u001b[0m┃\u001b[1m \u001b[0m\u001b[1mOutput Shape     \u001b[0m\u001b[1m \u001b[0m┃\u001b[1m \u001b[0m\u001b[1m   Param #\u001b[0m\u001b[1m \u001b[0m┃\u001b[1m \u001b[0m\u001b[1mConnected to     \u001b[0m\u001b[1m \u001b[0m┃\n",
       "┡━━━━━━━━━━━━━━━━━━━━━╇━━━━━━━━━━━━━━━━━━━╇━━━━━━━━━━━━╇━━━━━━━━━━━━━━━━━━━┩\n",
       "│ input_layer_5       │ (\u001b[38;5;45mNone\u001b[0m, \u001b[38;5;34m60\u001b[0m, \u001b[38;5;34m24\u001b[0m)    │          \u001b[38;5;34m0\u001b[0m │ -                 │\n",
       "│ (\u001b[38;5;33mInputLayer\u001b[0m)        │                   │            │                   │\n",
       "├─────────────────────┼───────────────────┼────────────┼───────────────────┤\n",
       "│ conv1d_5 (\u001b[38;5;33mConv1D\u001b[0m)   │ (\u001b[38;5;45mNone\u001b[0m, \u001b[38;5;34m58\u001b[0m, \u001b[38;5;34m64\u001b[0m)    │      \u001b[38;5;34m4,672\u001b[0m │ input_layer_5[\u001b[38;5;34m0\u001b[0m]… │\n",
       "├─────────────────────┼───────────────────┼────────────┼───────────────────┤\n",
       "│ max_pooling1d_5     │ (\u001b[38;5;45mNone\u001b[0m, \u001b[38;5;34m29\u001b[0m, \u001b[38;5;34m64\u001b[0m)    │          \u001b[38;5;34m0\u001b[0m │ conv1d_5[\u001b[38;5;34m0\u001b[0m][\u001b[38;5;34m0\u001b[0m]    │\n",
       "│ (\u001b[38;5;33mMaxPooling1D\u001b[0m)      │                   │            │                   │\n",
       "├─────────────────────┼───────────────────┼────────────┼───────────────────┤\n",
       "│ bidirectional_5     │ (\u001b[38;5;45mNone\u001b[0m, \u001b[38;5;34m29\u001b[0m, \u001b[38;5;34m256\u001b[0m)   │    \u001b[38;5;34m197,632\u001b[0m │ max_pooling1d_5[\u001b[38;5;34m…\u001b[0m │\n",
       "│ (\u001b[38;5;33mBidirectional\u001b[0m)     │                   │            │                   │\n",
       "├─────────────────────┼───────────────────┼────────────┼───────────────────┤\n",
       "│ dense_10 (\u001b[38;5;33mDense\u001b[0m)    │ (\u001b[38;5;45mNone\u001b[0m, \u001b[38;5;34m29\u001b[0m, \u001b[38;5;34m128\u001b[0m)   │     \u001b[38;5;34m32,896\u001b[0m │ bidirectional_5[\u001b[38;5;34m…\u001b[0m │\n",
       "├─────────────────────┼───────────────────┼────────────┼───────────────────┤\n",
       "│ dense_11 (\u001b[38;5;33mDense\u001b[0m)    │ (\u001b[38;5;45mNone\u001b[0m, \u001b[38;5;34m29\u001b[0m, \u001b[38;5;34m128\u001b[0m)   │     \u001b[38;5;34m32,896\u001b[0m │ bidirectional_5[\u001b[38;5;34m…\u001b[0m │\n",
       "├─────────────────────┼───────────────────┼────────────┼───────────────────┤\n",
       "│ attention_5         │ (\u001b[38;5;45mNone\u001b[0m, \u001b[38;5;34m29\u001b[0m, \u001b[38;5;34m256\u001b[0m)   │          \u001b[38;5;34m0\u001b[0m │ dense_10[\u001b[38;5;34m0\u001b[0m][\u001b[38;5;34m0\u001b[0m],   │\n",
       "│ (\u001b[38;5;33mAttention\u001b[0m)         │                   │            │ bidirectional_5[\u001b[38;5;34m…\u001b[0m │\n",
       "│                     │                   │            │ dense_11[\u001b[38;5;34m0\u001b[0m][\u001b[38;5;34m0\u001b[0m]    │\n",
       "├─────────────────────┼───────────────────┼────────────┼───────────────────┤\n",
       "│ lambda (\u001b[38;5;33mLambda\u001b[0m)     │ (\u001b[38;5;45mNone\u001b[0m, \u001b[38;5;34m256\u001b[0m)       │          \u001b[38;5;34m0\u001b[0m │ attention_5[\u001b[38;5;34m0\u001b[0m][\u001b[38;5;34m0\u001b[0m] │\n",
       "├─────────────────────┼───────────────────┼────────────┼───────────────────┤\n",
       "│ lstm_pred (\u001b[38;5;33mDense\u001b[0m)   │ (\u001b[38;5;45mNone\u001b[0m, \u001b[38;5;34m1\u001b[0m)         │        \u001b[38;5;34m257\u001b[0m │ lambda[\u001b[38;5;34m0\u001b[0m][\u001b[38;5;34m0\u001b[0m]      │\n",
       "├─────────────────────┼───────────────────┼────────────┼───────────────────┤\n",
       "│ dense_12 (\u001b[38;5;33mDense\u001b[0m)    │ (\u001b[38;5;45mNone\u001b[0m, \u001b[38;5;34m64\u001b[0m)        │     \u001b[38;5;34m16,448\u001b[0m │ lambda[\u001b[38;5;34m0\u001b[0m][\u001b[38;5;34m0\u001b[0m]      │\n",
       "└─────────────────────┴───────────────────┴────────────┴───────────────────┘\n"
      ]
     },
     "metadata": {},
     "output_type": "display_data"
    },
    {
     "data": {
      "text/html": [
       "<pre style=\"white-space:pre;overflow-x:auto;line-height:normal;font-family:Menlo,'DejaVu Sans Mono',consolas,'Courier New',monospace\"><span style=\"font-weight: bold\"> Total params: </span><span style=\"color: #00af00; text-decoration-color: #00af00\">284,801</span> (1.09 MB)\n",
       "</pre>\n"
      ],
      "text/plain": [
       "\u001b[1m Total params: \u001b[0m\u001b[38;5;34m284,801\u001b[0m (1.09 MB)\n"
      ]
     },
     "metadata": {},
     "output_type": "display_data"
    },
    {
     "data": {
      "text/html": [
       "<pre style=\"white-space:pre;overflow-x:auto;line-height:normal;font-family:Menlo,'DejaVu Sans Mono',consolas,'Courier New',monospace\"><span style=\"font-weight: bold\"> Trainable params: </span><span style=\"color: #00af00; text-decoration-color: #00af00\">284,801</span> (1.09 MB)\n",
       "</pre>\n"
      ],
      "text/plain": [
       "\u001b[1m Trainable params: \u001b[0m\u001b[38;5;34m284,801\u001b[0m (1.09 MB)\n"
      ]
     },
     "metadata": {},
     "output_type": "display_data"
    },
    {
     "data": {
      "text/html": [
       "<pre style=\"white-space:pre;overflow-x:auto;line-height:normal;font-family:Menlo,'DejaVu Sans Mono',consolas,'Courier New',monospace\"><span style=\"font-weight: bold\"> Non-trainable params: </span><span style=\"color: #00af00; text-decoration-color: #00af00\">0</span> (0.00 B)\n",
       "</pre>\n"
      ],
      "text/plain": [
       "\u001b[1m Non-trainable params: \u001b[0m\u001b[38;5;34m0\u001b[0m (0.00 B)\n"
      ]
     },
     "metadata": {},
     "output_type": "display_data"
    }
   ],
   "source": [
    "cnn_lstm_model.summary()"
   ]
  },
  {
   "cell_type": "code",
   "execution_count": 13,
   "id": "96291afe-70fc-49b5-9988-beb6c93ef6ef",
   "metadata": {},
   "outputs": [],
   "source": [
    "import xgboost as xgb\n",
    "\n",
    "# 输入特征：CNN-LSTM编码特征 + ARIMA残差 + 原始特征\n",
    "def prepare_xgboost_inputs(cnn_lstm_features, arima_residual, raw_features):\n",
    "    return np.hstack([cnn_lstm_features, arima_residual.reshape(-1,1), raw_features])\n",
    "\n",
    "# 示例：训练XGBoost\n",
    "xgb_model = xgb.XGBRegressor(\n",
    "    max_depth=6, \n",
    "    n_estimators=300, \n",
    "    learning_rate=0.05,\n",
    "    early_stopping_rounds=10,\n",
    "    eval_metric=\"rmse\"\n",
    ")"
   ]
  },
  {
   "cell_type": "code",
   "execution_count": 14,
   "id": "01d23dfc-3117-4123-886c-962a4b14b4ef",
   "metadata": {},
   "outputs": [],
   "source": [
    "# 按品种拆分数据，每个品种的数据单独存储为DataFrame\n",
    "symbol_dfs = {\n",
    "    symbol: merged_df[merged_df[\"symbol\"] == symbol].copy()\n",
    "    for symbol in merged_df[\"symbol\"].unique()\n",
    "}"
   ]
  },
  {
   "cell_type": "code",
   "execution_count": 15,
   "id": "c121c600-dadf-4996-b9e4-0e418f76ebb5",
   "metadata": {},
   "outputs": [
    {
     "name": "stdout",
     "output_type": "stream",
     "text": [
      "   Unnamed: 0             datetime contract symbol exchange    open    high  \\\n",
      "0          13  2017-01-03 09:13:00   HC1705     HC     SHFE  3372.0  3372.0   \n",
      "1          14  2017-01-03 09:14:00   HC1705     HC     SHFE  3363.0  3366.0   \n",
      "2          15  2017-01-03 09:15:00   HC1705     HC     SHFE  3367.0  3372.0   \n",
      "3          16  2017-01-03 09:16:00   HC1705     HC     SHFE  3366.0  3371.0   \n",
      "4          17  2017-01-03 09:17:00   HC1705     HC     SHFE  3368.0  3370.0   \n",
      "\n",
      "      low   close  openinterest  ...  Volatility_10  Volume_Change  \\\n",
      "0  3362.0  3363.0      172022.0  ...       0.757838      -0.013410   \n",
      "1  3358.0  3365.0      172009.0  ...       0.865074      -0.051661   \n",
      "2  3365.0  3366.0      171768.0  ...       0.681333      -0.128878   \n",
      "3  3365.0  3366.0      171779.0  ...       0.681333      -0.236832   \n",
      "4  3364.0  3367.0      171901.0  ...       0.616890      -0.033672   \n",
      "\n",
      "   Price_Volume_Corr  future_close       涨跌幅  hour  minute  session  \\\n",
      "0           0.196844        3356.0 -0.208147     9      13  Morning   \n",
      "1           0.207903        3351.0 -0.416048     9      14  Morning   \n",
      "2           0.216773        3353.0 -0.386215     9      15  Morning   \n",
      "3           0.226767        3359.0 -0.207962     9      16  Morning   \n",
      "4           0.232937        3359.0 -0.237600     9      17  Morning   \n",
      "\n",
      "   涨跌幅_scaled  arima_residual  \n",
      "0   -0.408166     3363.000000  \n",
      "1   -0.807961        2.002386  \n",
      "2   -0.750593        1.086440  \n",
      "3   -0.407809        0.060852  \n",
      "4   -0.464804        1.014362  \n",
      "\n",
      "[5 rows x 27 columns]\n"
     ]
    }
   ],
   "source": [
    "# 访问热轧卷板（HC）的数据\n",
    "hc_data = symbol_dfs[\"HC\"]\n",
    "\n",
    "# 输出前5行\n",
    "print(hc_data.head())"
   ]
  },
  {
   "cell_type": "code",
   "execution_count": 22,
   "id": "c2ceeafa-d79e-41bf-a4e7-9aa8b11785a6",
   "metadata": {},
   "outputs": [
    {
     "name": "stdout",
     "output_type": "stream",
     "text": [
      "包含的品种: ['HC', 'I', 'JM', 'RB', 'SF', 'SM', 'SS']\n",
      "HC数据量: 505527\n"
     ]
    }
   ],
   "source": [
    "# 打印所有品种代码\n",
    "print(\"包含的品种:\", list(symbol_dfs.keys()))\n",
    "\n",
    "# 检查某品种的数据量\n",
    "print(\"HC数据量:\", len(symbol_dfs[\"HC\"]))"
   ]
  },
  {
   "cell_type": "code",
   "execution_count": 16,
   "id": "878597a5-b9af-428e-9b09-a90e73ecdcc9",
   "metadata": {},
   "outputs": [],
   "source": [
    "# 特征列（不包含标签）\n",
    "feature_cols = [\"open\", \"high\", \"low\", \"close\", \"MA5\", \"RSI\", \"Volume_Change\"]\n",
    "\n",
    "# 标签列\n",
    "label_col = \"涨跌幅\""
   ]
  },
  {
   "cell_type": "code",
   "execution_count": 17,
   "id": "0117c488-7a0c-46d2-8803-df56d3fd3bbd",
   "metadata": {},
   "outputs": [
    {
     "ename": "NameError",
     "evalue": "name 'symbol_data' is not defined",
     "output_type": "error",
     "traceback": [
      "\u001b[0;31m---------------------------------------------------------------------------\u001b[0m",
      "\u001b[0;31mNameError\u001b[0m                                 Traceback (most recent call last)",
      "Cell \u001b[0;32mIn[17], line 2\u001b[0m\n\u001b[1;32m      1\u001b[0m \u001b[38;5;66;03m# 提取特征数据（NumPy数组）\u001b[39;00m\n\u001b[0;32m----> 2\u001b[0m features \u001b[38;5;241m=\u001b[39m \u001b[43msymbol_data\u001b[49m[feature_cols]\u001b[38;5;241m.\u001b[39mvalues\n\u001b[1;32m      4\u001b[0m \u001b[38;5;66;03m# 提取标签数据（NumPy数组）\u001b[39;00m\n\u001b[1;32m      5\u001b[0m labels \u001b[38;5;241m=\u001b[39m symbol_data[label_col]\u001b[38;5;241m.\u001b[39mvalues\n",
      "\u001b[0;31mNameError\u001b[0m: name 'symbol_data' is not defined"
     ]
    }
   ],
   "source": [
    "# 提取特征数据（NumPy数组）\n",
    "features = symbol_data[feature_cols].values\n",
    "\n",
    "# 提取标签数据（NumPy数组）\n",
    "labels = symbol_data[label_col].values"
   ]
  },
  {
   "cell_type": "code",
   "execution_count": 18,
   "id": "b3e51533-5106-47b9-be4e-dc01df741c01",
   "metadata": {},
   "outputs": [],
   "source": [
    "def create_sequences(features, labels, window=60, forecast_step=30):\n",
    "    \"\"\"\n",
    "    生成时间序列输入和输出对\n",
    "    - features: 特征数据（形状: [样本数, 特征数]）\n",
    "    - labels: 标签数据（形状: [样本数]）\n",
    "    - window: 输入序列长度（时间窗口）\n",
    "    - forecast_step: 预测步长（未来第forecast_step步的标签）\n",
    "    \"\"\"\n",
    "    X, y = [], []\n",
    "    for i in range(len(features) - window - forecast_step + 1):\n",
    "        X.append(features[i:i+window])          # 输入：过去window分钟的特征\n",
    "        y.append(labels[i+window+forecast_step-1])  # 输出：未来第forecast_step分钟的标签\n",
    "    return np.array(X), np.array(y)\n",
    "\n",
    "\n",
    "\n",
    "\n"
   ]
  },
  {
   "cell_type": "code",
   "execution_count": 19,
   "id": "b04a8153-290b-4cec-bf1e-b0a04de36fdc",
   "metadata": {},
   "outputs": [
    {
     "ename": "NameError",
     "evalue": "name 'features' is not defined",
     "output_type": "error",
     "traceback": [
      "\u001b[0;31m---------------------------------------------------------------------------\u001b[0m",
      "\u001b[0;31mNameError\u001b[0m                                 Traceback (most recent call last)",
      "Cell \u001b[0;32mIn[19], line 2\u001b[0m\n\u001b[1;32m      1\u001b[0m \u001b[38;5;66;03m# 生成序列（假设预测未来30分钟）\u001b[39;00m\n\u001b[0;32m----> 2\u001b[0m X_seq, y_seq \u001b[38;5;241m=\u001b[39m create_sequences(\u001b[43mfeatures\u001b[49m, labels, window\u001b[38;5;241m=\u001b[39m\u001b[38;5;241m60\u001b[39m, forecast_step\u001b[38;5;241m=\u001b[39m\u001b[38;5;241m30\u001b[39m)\n",
      "\u001b[0;31mNameError\u001b[0m: name 'features' is not defined"
     ]
    }
   ],
   "source": [
    "# 生成序列（假设预测未来30分钟）\n",
    "X_seq, y_seq = create_sequences(features, labels, window=60, forecast_step=30)"
   ]
  },
  {
   "cell_type": "code",
   "execution_count": 31,
   "id": "8cbb638e-dca2-4957-8249-ca23d3c0191a",
   "metadata": {},
   "outputs": [
    {
     "name": "stdout",
     "output_type": "stream",
     "text": [
      "输入形状: (505438, 60, 7)\n",
      "输出形状: (505438,)\n"
     ]
    }
   ],
   "source": [
    "print(\"输入形状:\", X_seq.shape)  # 应为 (样本数, 60, 特征数)\n",
    "print(\"输出形状:\", y_seq.shape)  # 应为 (样本数,)"
   ]
  },
  {
   "cell_type": "code",
   "execution_count": 20,
   "id": "4bba8d11-f531-4f8b-8204-56c2ee7b1e70",
   "metadata": {},
   "outputs": [],
   "source": [
    "import xgboost as xgb\n",
    "\n",
    "# 输入特征：CNN-LSTM编码特征 + ARIMA残差 + 原始特征\n",
    "def prepare_xgboost_inputs(cnn_lstm_features, arima_residual, raw_features):\n",
    "    return np.hstack([cnn_lstm_features, arima_residual.reshape(-1,1), raw_features])\n",
    "\n",
    "# 示例：训练XGBoost\n",
    "xgb_model = xgb.XGBRegressor(\n",
    "    max_depth=6, \n",
    "    n_estimators=300, \n",
    "    learning_rate=0.05,\n",
    "    early_stopping_rounds=10,\n",
    "    eval_metric=\"rmse\"\n",
    ")"
   ]
  },
  {
   "cell_type": "code",
   "execution_count": 21,
   "id": "cf678ca4-eafd-4be3-aa15-eb50466cf48f",
   "metadata": {},
   "outputs": [
    {
     "name": "stdout",
     "output_type": "stream",
     "text": [
      "输入序列形状: (505467, 60, 7)\n",
      "标签形状: (505467,)\n"
     ]
    }
   ],
   "source": [
    "def create_sequences(X_data, y_data, window=60):\n",
    "    \"\"\"\n",
    "    参数:\n",
    "        X_data (np.ndarray): 特征数据，形状为 (样本数, 特征数)\n",
    "        y_data (np.ndarray): 标签数据，形状为 (样本数,)\n",
    "        window (int): 时间窗口长度\n",
    "    返回:\n",
    "        X (np.ndarray): 输入序列，形状为 (样本数 - window, window, 特征数)\n",
    "        y (np.ndarray): 标签，形状为 (样本数 - window,)\n",
    "    \"\"\"\n",
    "    X, y = [], []\n",
    "    for i in range(len(X_data) - window):\n",
    "        X.append(X_data[i:i+window])\n",
    "        y.append(y_data[i+window])  # 直接索引预提取的标签数组\n",
    "    return np.array(X), np.array(y)\n",
    "\n",
    "# 按品种生成序列数据（以热轧卷板HC为例）\n",
    "symbol_data = symbol_dfs[\"HC\"]\n",
    "\n",
    "# 确保feature_cols不包含标签列\n",
    "#feature_cols = ['open', 'high', 'low', 'close', 'volume', 'openinterest', 'MA5', 'RSI']\n",
    "\n",
    "# 提取特征和标签\n",
    "X_data = symbol_data[feature_cols].values\n",
    "y_data = symbol_data[\"涨跌幅\"].values\n",
    "\n",
    "# 生成序列\n",
    "X_seq, y_seq = create_sequences(X_data, y_data, window=60)\n",
    "\n",
    "# 验证形状\n",
    "print(\"输入序列形状:\", X_seq.shape)  # 应输出 (样本数 - 60, 60, 特征数)\n",
    "print(\"标签形状:\", y_seq.shape)      # 应输出 (样本数 - 60,)"
   ]
  },
  {
   "cell_type": "code",
   "execution_count": 22,
   "id": "cd725df3-ed39-4e58-b94d-8057fcf88872",
   "metadata": {},
   "outputs": [],
   "source": [
    "# 划分训练集和验证集\n",
    "X_train, X_val = X_seq[:80000], X_seq[80000:90000]\n",
    "y_train, y_val = y_seq[:80000], y_seq[80000:90000]\n",
    "\n",
    "# 编译模型\n",
    "cnn_lstm_model.compile(\n",
    "    optimizer=tf.keras.optimizers.Adam(learning_rate=1e-4),\n",
    "    loss={\"lstm_pred\": \"mse\"},\n",
    "    metrics={\"lstm_pred\": \"mae\"}\n",
    ")"
   ]
  },
  {
   "cell_type": "code",
   "execution_count": 23,
   "id": "8e66fc22-1d22-4dba-b4cf-dc7104a1ee49",
   "metadata": {},
   "outputs": [],
   "source": [
    "# 模型输入定义\n",
    "inputs = Input(shape=(60, merged_df.shape[1]-3))  # 假设 merged_df 列数错误"
   ]
  },
  {
   "cell_type": "code",
   "execution_count": 40,
   "id": "9e7dc261-db87-4a51-b0cb-aeeb011289b7",
   "metadata": {},
   "outputs": [
    {
     "name": "stdout",
     "output_type": "stream",
     "text": [
      "合并后的数据列名: ['Unnamed: 0', 'datetime', 'contract', 'symbol', 'exchange', 'open', 'high', 'low', 'close', 'openinterest', 'volume', 'amount', 'MA5', 'MA20', 'RSI', 'MACD', 'Signal', 'Volatility_10', 'Volume_Change', 'Price_Volume_Corr', 'future_close', '涨跌幅', 'hour', 'minute', 'session', '涨跌幅_scaled', 'arima_residual']\n",
      "合并后的数据列数: 27\n"
     ]
    }
   ],
   "source": [
    "print(\"合并后的数据列名:\", merged_df.columns.tolist())\n",
    "print(\"合并后的数据列数:\", len(merged_df.columns))"
   ]
  },
  {
   "cell_type": "code",
   "execution_count": 24,
   "id": "88d358a6-888e-4212-883f-53cc5924bef9",
   "metadata": {},
   "outputs": [],
   "source": [
    "# ----------------------\n",
    "# 1. 重新生成MA10特征\n",
    "# ----------------------\n",
    "def add_technical_features(df):\n",
    "    # 移动平均线\n",
    "    df['MA5'] = df.groupby('symbol')['close'].transform(lambda x: x.rolling(5).mean())\n",
    "    df['MA10'] = df.groupby('symbol')['close'].transform(lambda x: x.rolling(10).mean())  # 修复点\n",
    "    df['MA20'] = df.groupby('symbol')['close'].transform(lambda x: x.rolling(20).mean())\n",
    "    \n",
    "    # RSI（14分钟窗口）\n",
    "    delta = df.groupby('symbol')['close'].diff()\n",
    "    gain = delta.where(delta > 0, 0)\n",
    "    loss = -delta.where(delta < 0, 0)\n",
    "    avg_gain = gain.groupby(df['symbol']).transform(lambda x: x.rolling(14).mean())\n",
    "    avg_loss = loss.groupby(df['symbol']).transform(lambda x: x.rolling(14).mean())\n",
    "    rs = avg_gain / avg_loss\n",
    "    df['RSI'] = 100 - (100 / (1 + rs))\n",
    "    \n",
    "    # MACD\n",
    "    ema12 = df.groupby('symbol')['close'].transform(lambda x: x.ewm(span=12, adjust=False).mean())\n",
    "    ema26 = df.groupby('symbol')['close'].transform(lambda x: x.ewm(span=26, adjust=False).mean())\n",
    "    df['MACD'] = ema12 - ema26\n",
    "    df['Signal'] = df.groupby('symbol')['MACD'].transform(lambda x: x.ewm(span=9, adjust=False).mean())\n",
    "    \n",
    "    # 其他特征...\n",
    "    return df\n",
    "\n",
    "# 重新生成特征\n",
    "merged_df = add_technical_features(merged_df)\n"
   ]
  },
  {
   "cell_type": "code",
   "execution_count": 25,
   "id": "f1492007-b64b-4528-b800-da34b6d8977e",
   "metadata": {},
   "outputs": [
    {
     "name": "stdout",
     "output_type": "stream",
     "text": [
      "所有特征列已正确生成！\n"
     ]
    }
   ],
   "source": [
    "# ----------------------\n",
    "# 2. 检查数据列\n",
    "# ----------------------\n",
    "required_features = ['MA5', 'MA10', 'MA20', 'RSI', 'MACD', 'Signal']\n",
    "missing = [col for col in required_features if col not in merged_df.columns]\n",
    "if missing:\n",
    "    raise ValueError(f\"缺失关键特征列: {missing}\")\n",
    "else:\n",
    "    print(\"所有特征列已正确生成！\")\n"
   ]
  },
  {
   "cell_type": "code",
   "execution_count": 29,
   "id": "6b4f4456-1167-455c-9d5e-08a3df2b5057",
   "metadata": {},
   "outputs": [
    {
     "name": "stdout",
     "output_type": "stream",
     "text": [
      "X_seq.shape: (505467, 60, 7)\n"
     ]
    }
   ],
   "source": [
    "print(\"X_seq.shape:\", X_seq.shape)  # 应为 (样本数, 60, num_features)"
   ]
  },
  {
   "cell_type": "code",
   "execution_count": 59,
   "id": "2814a4ef-7243-4e44-9bc5-1fe5e9c6c864",
   "metadata": {},
   "outputs": [
    {
     "data": {
      "text/plain": [
       "['open',\n",
       " 'high',\n",
       " 'low',\n",
       " 'close',\n",
       " 'volume',\n",
       " 'openinterest',\n",
       " 'MA5',\n",
       " 'MA10',\n",
       " 'RSI',\n",
       " 'MACD',\n",
       " 'Signal',\n",
       " 'Volatility_10',\n",
       " 'Volume_Change',\n",
       " 'Price_Volume_Corr',\n",
       " 'hour',\n",
       " 'minute',\n",
       " 'session',\n",
       " 'arima_residual',\n",
       " 'amount',\n",
       " 'future_close']"
      ]
     },
     "execution_count": 59,
     "metadata": {},
     "output_type": "execute_result"
    }
   ],
   "source": [
    "feature_cols"
   ]
  },
  {
   "cell_type": "code",
   "execution_count": 26,
   "id": "2667bcd3-37c6-4eb3-8dcc-012606b0bc30",
   "metadata": {},
   "outputs": [],
   "source": [
    "def create_sequences(data, window=60):\n",
    "    X, y = [], []\n",
    "    for i in range(len(data) - window):\n",
    "        X.append(data[i:i+window])\n",
    "        y.append(data[i+window][\"涨跌幅\"])\n",
    "    return np.array(X), np.array(y)\n"
   ]
  },
  {
   "cell_type": "code",
   "execution_count": 63,
   "id": "a8f76e78-bf46-40b7-9010-03f6decdc33c",
   "metadata": {},
   "outputs": [
    {
     "data": {
      "text/plain": [
       "['open',\n",
       " 'high',\n",
       " 'low',\n",
       " 'close',\n",
       " 'volume',\n",
       " 'openinterest',\n",
       " 'MA5',\n",
       " 'MA10',\n",
       " 'RSI',\n",
       " 'MACD',\n",
       " 'Signal',\n",
       " 'Volatility_10',\n",
       " 'Volume_Change',\n",
       " 'Price_Volume_Corr',\n",
       " 'hour',\n",
       " 'minute',\n",
       " 'session',\n",
       " 'arima_residual',\n",
       " 'amount',\n",
       " 'future_close']"
      ]
     },
     "execution_count": 63,
     "metadata": {},
     "output_type": "execute_result"
    }
   ],
   "source": [
    "feature_cols"
   ]
  },
  {
   "cell_type": "code",
   "execution_count": 27,
   "id": "2eac0ce3-cd30-450b-a010-dd458f238b11",
   "metadata": {},
   "outputs": [],
   "source": [
    "# 正确定义特征列列表\n",
    "feature_cols = [\n",
    "    \"open\", \"high\", \"low\", \"close\",\n",
    "    \"volume\", \"openinterest\",\n",
    "    \"MA5\", \"MA10\", \"RSI\"  # 确保列名与数据框一致\n",
    "]\n",
    "\n",
    "# 检查缺失列\n",
    "missing_cols = [col for col in feature_cols if col not in merged_df.columns]\n",
    "if missing_cols:\n",
    "    raise ValueError(f\"缺失特征列: {missing_cols}\")"
   ]
  },
  {
   "cell_type": "code",
   "execution_count": 32,
   "id": "150be714-6489-47d1-94bb-ce61e48a1d3a",
   "metadata": {},
   "outputs": [
    {
     "name": "stdout",
     "output_type": "stream",
     "text": [
      "SM品种列名: ['Unnamed: 0', 'datetime', 'contract', 'symbol', 'exchange', 'open', 'high', 'low', 'close', 'openinterest', 'volume', 'amount', 'MA5', 'MA20', 'RSI', 'MACD', 'Signal', 'Volatility_10', 'Volume_Change', 'Price_Volume_Corr', 'future_close', '涨跌幅', 'hour', 'minute', 'session', '涨跌幅_scaled', 'arima_residual', 'MA10']\n"
     ]
    }
   ],
   "source": [
    "# 正确提取数据（以不锈钢SM为例）\n",
    "symbol_data = merged_df[merged_df[\"symbol\"] == \"SM\"].copy()\n",
    "\n",
    "# 验证数据包含MA10列\n",
    "print(\"SM品种列名:\", symbol_data.columns.tolist())"
   ]
  },
  {
   "cell_type": "code",
   "execution_count": 28,
   "id": "df17e3ee-418c-4dd8-acbb-bf749a705a61",
   "metadata": {},
   "outputs": [
    {
     "name": "stdout",
     "output_type": "stream",
     "text": [
      "输入数据维度: (504248, 60, 9)\n",
      "标签数据维度: (504248,)\n"
     ]
    }
   ],
   "source": [
    "# 1. 重新生成技术指标\n",
    "merged_df[\"MA5\"] = merged_df.groupby(\"symbol\")[\"close\"].transform(lambda x: x.rolling(5).mean())\n",
    "merged_df[\"MA10\"] = merged_df.groupby(\"symbol\")[\"close\"].transform(lambda x: x.rolling(10).mean())\n",
    "\n",
    "# 2. 定义正确的特征列\n",
    "# 定义特征列（确保不包含标签列）\n",
    "feature_cols = [\"open\", \"high\", \"low\", \"close\", \"volume\", \"openinterest\", \"MA5\", \"MA10\", \"RSI\"]\n",
    "\n",
    "# 按品种提取数据（以不锈钢SM为例）\n",
    "symbol_data = merged_df[merged_df[\"symbol\"] == \"SM\"].copy()\n",
    "\n",
    "# 分离特征和标签\n",
    "X_data = symbol_data[feature_cols].values\n",
    "y_labels = symbol_data[\"涨跌幅\"].values\n",
    "\n",
    "# 生成序列数据\n",
    "def create_sequences(X_data, y_labels, window=60):\n",
    "    X, y = [], []\n",
    "    for i in range(len(X_data) - window):\n",
    "        X.append(X_data[i:i+window])\n",
    "        y.append(y_labels[i+window])\n",
    "    return np.array(X), np.array(y)\n",
    "\n",
    "X_seq, y_seq = create_sequences(X_data, y_labels, window=60)\n",
    "\n",
    "# 验证结果\n",
    "print(\"输入数据维度:\", X_seq.shape)  # 示例输出：(10000, 60, 9)\n",
    "print(\"标签数据维度:\", y_seq.shape)   # 示例输出：(10000,)"
   ]
  },
  {
   "cell_type": "code",
   "execution_count": 70,
   "id": "277ec38b-d720-4205-a908-5084650ebe3b",
   "metadata": {},
   "outputs": [
    {
     "data": {
      "text/plain": [
       "array([[[ 3.37200000e+03,  3.37200000e+03,  3.36200000e+03, ...,\n",
       "         -4.17442781e-01,  8.49502035e-01, -1.34100829e-02],\n",
       "        [ 3.36300000e+03,  3.36600000e+03,  3.35800000e+03, ...,\n",
       "         -4.18254195e-01,  8.74380572e-01, -5.16609199e-02],\n",
       "        [ 3.36700000e+03,  3.37200000e+03,  3.36500000e+03, ...,\n",
       "         -4.19208799e-01,  8.10860901e-01, -1.28877794e-01],\n",
       "        ...,\n",
       "        [ 3.35800000e+03,  3.35900000e+03,  3.35600000e+03, ...,\n",
       "         -4.21977153e-01, -4.24327205e-01,  2.50892049e-01],\n",
       "        [ 3.35700000e+03,  3.35700000e+03,  3.35400000e+03, ...,\n",
       "         -4.21929422e-01, -4.81948883e-01, -2.01471488e-01],\n",
       "        [ 3.35400000e+03,  3.35800000e+03,  3.35300000e+03, ...,\n",
       "         -4.21786232e-01,  6.54570617e-02, -4.41502785e-02]],\n",
       "\n",
       "       [[ 3.36300000e+03,  3.36600000e+03,  3.35800000e+03, ...,\n",
       "         -4.18254195e-01,  8.74380572e-01, -5.16609199e-02],\n",
       "        [ 3.36700000e+03,  3.37200000e+03,  3.36500000e+03, ...,\n",
       "         -4.19208799e-01,  8.10860901e-01, -1.28877794e-01],\n",
       "        [ 3.36600000e+03,  3.37100000e+03,  3.36500000e+03, ...,\n",
       "         -4.19542911e-01, -4.85246509e-01, -2.36832417e-01],\n",
       "        ...,\n",
       "        [ 3.35700000e+03,  3.35700000e+03,  3.35400000e+03, ...,\n",
       "         -4.21929422e-01, -4.81948883e-01, -2.01471488e-01],\n",
       "        [ 3.35400000e+03,  3.35800000e+03,  3.35300000e+03, ...,\n",
       "         -4.21786232e-01,  6.54570617e-02, -4.41502785e-02],\n",
       "        [ 3.35700000e+03,  3.35900000e+03,  3.35700000e+03, ...,\n",
       "         -4.21881692e-01, -5.69036192e-01, -2.07253658e-01]],\n",
       "\n",
       "       [[ 3.36700000e+03,  3.37200000e+03,  3.36500000e+03, ...,\n",
       "         -4.19208799e-01,  8.10860901e-01, -1.28877794e-01],\n",
       "        [ 3.36600000e+03,  3.37100000e+03,  3.36500000e+03, ...,\n",
       "         -4.19542911e-01, -4.85246509e-01, -2.36832417e-01],\n",
       "        [ 3.36800000e+03,  3.37000000e+03,  3.36400000e+03, ...,\n",
       "         -4.19829292e-01, -3.36544179e-01, -3.36721456e-02],\n",
       "        ...,\n",
       "        [ 3.35400000e+03,  3.35800000e+03,  3.35300000e+03, ...,\n",
       "         -4.21786232e-01,  6.54570617e-02, -4.41502785e-02],\n",
       "        [ 3.35700000e+03,  3.35900000e+03,  3.35700000e+03, ...,\n",
       "         -4.21881692e-01, -5.69036192e-01, -2.07253658e-01],\n",
       "        [ 3.35800000e+03,  3.36000000e+03,  3.35500000e+03, ...,\n",
       "         -4.21833962e-01, -8.38354687e-02,  6.98031252e-01]],\n",
       "\n",
       "       ...,\n",
       "\n",
       "       [[ 3.62300000e+03,  3.62500000e+03,  3.61900000e+03, ...,\n",
       "         -3.57111767e-01, -7.96337432e-01, -1.87873348e-01],\n",
       "        [ 3.62400000e+03,  3.62500000e+03,  3.62200000e+03, ...,\n",
       "         -3.57970911e-01, -1.10180561e+00, -2.17962077e-01],\n",
       "        [ 3.62300000e+03,  3.62700000e+03,  3.62000000e+03, ...,\n",
       "         -3.58305023e-01, -1.10180561e+00, -1.17106249e-02],\n",
       "        ...,\n",
       "        [ 3.60400000e+03,  3.60500000e+03,  3.60200000e+03, ...,\n",
       "         -3.62791665e-01, -2.96868141e-03, -1.92445853e-01],\n",
       "        [ 3.60400000e+03,  3.60400000e+03,  3.59500000e+03, ...,\n",
       "         -3.63268967e-01, -8.92503342e-01,  1.22482791e+00],\n",
       "        [ 3.59500000e+03,  3.59800000e+03,  3.59400000e+03, ...,\n",
       "         -3.63698539e-01, -1.43990929e+00, -2.55397465e-01]],\n",
       "\n",
       "       [[ 3.62400000e+03,  3.62500000e+03,  3.62200000e+03, ...,\n",
       "         -3.57970911e-01, -1.10180561e+00, -2.17962077e-01],\n",
       "        [ 3.62300000e+03,  3.62700000e+03,  3.62000000e+03, ...,\n",
       "         -3.58305023e-01, -1.10180561e+00, -1.17106249e-02],\n",
       "        [ 3.62500000e+03,  3.62600000e+03,  3.62300000e+03, ...,\n",
       "         -3.58257293e-01, -1.14665610e+00, -1.98639330e-01],\n",
       "        ...,\n",
       "        [ 3.60400000e+03,  3.60400000e+03,  3.59500000e+03, ...,\n",
       "         -3.63268967e-01, -8.92503342e-01,  1.22482791e+00],\n",
       "        [ 3.59500000e+03,  3.59800000e+03,  3.59400000e+03, ...,\n",
       "         -3.63698539e-01, -1.43990929e+00, -2.55397465e-01],\n",
       "        [ 3.59600000e+03,  3.60000000e+03,  3.59500000e+03, ...,\n",
       "         -3.63889460e-01, -7.65426962e-01, -1.94886352e-01]],\n",
       "\n",
       "       [[ 3.62300000e+03,  3.62700000e+03,  3.62000000e+03, ...,\n",
       "         -3.58305023e-01, -1.10180561e+00, -1.17106249e-02],\n",
       "        [ 3.62500000e+03,  3.62600000e+03,  3.62300000e+03, ...,\n",
       "         -3.58257293e-01, -1.14665610e+00, -1.98639330e-01],\n",
       "        [ 3.62300000e+03,  3.62600000e+03,  3.62300000e+03, ...,\n",
       "         -3.58161832e-01, -8.92503342e-01, -1.28594393e-01],\n",
       "        ...,\n",
       "        [ 3.59500000e+03,  3.59800000e+03,  3.59400000e+03, ...,\n",
       "         -3.63698539e-01, -1.43990929e+00, -2.55397465e-01],\n",
       "        [ 3.59600000e+03,  3.60000000e+03,  3.59500000e+03, ...,\n",
       "         -3.63889460e-01, -7.65426962e-01, -1.94886352e-01],\n",
       "        [ 3.59900000e+03,  3.60000000e+03,  3.59800000e+03, ...,\n",
       "         -3.64128111e-01, -8.31156124e-01, -1.90678947e-01]]])"
      ]
     },
     "execution_count": 70,
     "metadata": {},
     "output_type": "execute_result"
    }
   ],
   "source": [
    "X_train"
   ]
  },
  {
   "cell_type": "code",
   "execution_count": 29,
   "id": "573634e0-84f7-47b7-8fd9-432c26b42cef",
   "metadata": {},
   "outputs": [],
   "source": [
    "cnn_lstm_model.compile(\n",
    "    optimizer=tf.keras.optimizers.Adam(learning_rate=1e-4),\n",
    "    loss={\"lstm_pred\": \"mse\"},\n",
    "    metrics={\"lstm_pred\": \"mae\"}\n",
    ")"
   ]
  },
  {
   "cell_type": "code",
   "execution_count": 73,
   "id": "e761d145-dd78-4e04-ae41-30010aa1bf21",
   "metadata": {},
   "outputs": [
    {
     "name": "stdout",
     "output_type": "stream",
     "text": [
      "数据框列名: ['Unnamed: 0', 'datetime', 'contract', 'symbol', 'exchange', 'open', 'high', 'low', 'close', 'openinterest', 'volume', 'amount', 'MA5', 'MA20', 'RSI', 'MACD', 'Signal', 'Volatility_10', 'Volume_Change', 'Price_Volume_Corr', 'future_close', '涨跌幅', 'hour', 'minute', 'session', '涨跌幅_scaled', 'arima_residual', 'MA10']\n"
     ]
    }
   ],
   "source": [
    "print(\"数据框列名:\", merged_df.columns.tolist())"
   ]
  },
  {
   "cell_type": "code",
   "execution_count": 30,
   "id": "5cefb350-c5a8-4030-9361-9030e68ab713",
   "metadata": {},
   "outputs": [],
   "source": [
    "# 按品种分组计算移动平均线（避免跨合约数据污染）\n",
    "merged_df[\"MA5\"] = merged_df.groupby(\"symbol\")[\"close\"].transform(lambda x: x.rolling(5, min_periods=1).mean())\n",
    "merged_df[\"MA10\"] = merged_df.groupby(\"symbol\")[\"close\"].transform(lambda x: x.rolling(10, min_periods=1).mean())"
   ]
  },
  {
   "cell_type": "code",
   "execution_count": 31,
   "id": "bb9781c7-7730-44bb-a139-e38818aaa0fa",
   "metadata": {},
   "outputs": [],
   "source": [
    "merged_df = merged_df.dropna(subset=[\"MA5\", \"MA10\"], how=\"all\")  # 仅删除MA5和MA10同时为NaN的行\n"
   ]
  },
  {
   "cell_type": "code",
   "execution_count": 37,
   "id": "f7e683fb-0066-4e9f-95bf-1276351bdb1e",
   "metadata": {},
   "outputs": [
    {
     "name": "stdout",
     "output_type": "stream",
     "text": [
      "品种 HC 的 MA10 列已生成，首行值: 3363.00\n",
      "品种 I 的 MA10 列已生成，首行值: 558.00\n",
      "品种 JM 的 MA10 列已生成，首行值: 1180.50\n",
      "品种 RB 的 MA10 列已生成，首行值: 2933.00\n",
      "品种 SF 的 MA10 列已生成，首行值: 4948.00\n",
      "品种 SM 的 MA10 列已生成，首行值: 6928.00\n",
      "品种 SS 的 MA10 列已生成，首行值: 15555.00\n"
     ]
    }
   ],
   "source": [
    "# 检查所有品种是否生成MA10\n",
    "for symbol in merged_df[\"symbol\"].unique():\n",
    "    symbol_data = merged_df[merged_df[\"symbol\"] == symbol]\n",
    "    if \"MA10\" not in symbol_data.columns:\n",
    "        print(f\"品种 {symbol} 缺失 MA10 列！\")\n",
    "    else:\n",
    "        print(f\"品种 {symbol} 的 MA10 列已生成，首行值: {symbol_data['MA10'].iloc[0]:.2f}\")"
   ]
  },
  {
   "cell_type": "code",
   "execution_count": 32,
   "id": "2f5cf638-3739-4e95-9e8e-c59d209f92d6",
   "metadata": {},
   "outputs": [],
   "source": [
    "# 正确定义特征列（严格匹配列名）\n",
    "feature_cols = [\n",
    "    \"open\", \"high\", \"low\", \"close\",\n",
    "    \"volume\", \"openinterest\",\n",
    "    \"MA5\", \"MA10\", \"RSI\"\n",
    "]\n",
    "\n",
    "# 检查缺失列\n",
    "missing_cols = [col for col in feature_cols if col not in merged_df.columns]\n",
    "if missing_cols:\n",
    "    raise ValueError(f\"缺失关键特征列: {missing_cols}。请检查技术指标生成步骤。\")"
   ]
  },
  {
   "cell_type": "code",
   "execution_count": 33,
   "id": "47b87514-18fd-4cac-a9a8-ef1049011809",
   "metadata": {},
   "outputs": [
    {
     "name": "stdout",
     "output_type": "stream",
     "text": [
      "输入数据维度: (505467, 60, 9)\n",
      "标签数据维度: (505467,)\n"
     ]
    }
   ],
   "source": [
    "def create_sequences(symbol_data, feature_cols, window=60):\n",
    "    X, y = [], []\n",
    "    data = symbol_data[feature_cols].values  # 转换为NumPy数组\n",
    "    labels = symbol_data[\"涨跌幅\"].values     # 单独提取标签\n",
    "    for i in range(len(data) - window):\n",
    "        X.append(data[i:i+window])\n",
    "        y.append(labels[i+window])\n",
    "    return np.array(X), np.array(y)\n",
    "\n",
    "# 示例：为热轧卷板（HC）生成序列\n",
    "symbol_data = merged_df[merged_df[\"symbol\"] == \"HC\"].copy()\n",
    "X_seq, y_seq = create_sequences(symbol_data, feature_cols, window=60)\n",
    "\n",
    "# 验证维度\n",
    "print(\"输入数据维度:\", X_seq.shape)  # 应为 (样本数, 60, 特征数)\n",
    "print(\"标签数据维度:\", y_seq.shape)  # 应为 (样本数,)"
   ]
  },
  {
   "cell_type": "code",
   "execution_count": 34,
   "id": "763cb3ea-7c1a-4952-981c-988eea1e7a40",
   "metadata": {},
   "outputs": [
    {
     "name": "stdout",
     "output_type": "stream",
     "text": [
      "当前数据框列名: ['Unnamed: 0', 'datetime', 'contract', 'symbol', 'exchange', 'open', 'high', 'low', 'close', 'openinterest', 'volume', 'amount', 'MA5', 'MA20', 'RSI', 'MACD', 'Signal', 'Volatility_10', 'Volume_Change', 'Price_Volume_Corr', 'future_close', '涨跌幅', 'hour', 'minute', 'session', '涨跌幅_scaled', 'arima_residual', 'MA10']\n",
      "所有特征列已正确生成！\n"
     ]
    }
   ],
   "source": [
    "# 检查特征列列表\n",
    "required_features = [\n",
    "    \"open\", \"high\", \"low\", \"close\",\n",
    "    \"volume\", \"openinterest\",\n",
    "    \"MA5\", \"MA10\", \"RSI\", \"MACD\", \"Signal\",\n",
    "    \"Volatility_10\", \"Volume_Change\", \"Price_Volume_Corr\",\n",
    "    \"hour\", \"minute\", \"session\", \"arima_residual\"\n",
    "]\n",
    "\n",
    "# 打印当前数据框的列名\n",
    "print(\"当前数据框列名:\", merged_df.columns.tolist())\n",
    "\n",
    "# 检查缺失的特征列\n",
    "missing_features = [col for col in required_features if col not in merged_df.columns]\n",
    "if missing_features:\n",
    "    print(\"缺失特征列:\", missing_features)\n",
    "else:\n",
    "    print(\"所有特征列已正确生成！\")"
   ]
  },
  {
   "cell_type": "code",
   "execution_count": 81,
   "id": "01df584b-4e37-43ef-bfee-647bb8e30569",
   "metadata": {},
   "outputs": [
    {
     "name": "stdout",
     "output_type": "stream",
     "text": [
      "输入数据维度: (505467, 60, 9)\n"
     ]
    }
   ],
   "source": [
    "print(\"输入数据维度:\", X_seq.shape)  # 应为 (样本数, 60, len(feature_cols))"
   ]
  },
  {
   "cell_type": "code",
   "execution_count": 82,
   "id": "2c1de1c7-7db6-4468-b89a-3ade2693d571",
   "metadata": {},
   "outputs": [
    {
     "name": "stdout",
     "output_type": "stream",
     "text": [
      "训练集输入维度: (80000, 60, 7)\n",
      "验证集输入维度: (10000, 60, 7)\n"
     ]
    }
   ],
   "source": [
    "print(\"训练集输入维度:\", X_train.shape)  # 应为 (80000, 60, num_features)\n",
    "print(\"验证集输入维度:\", X_val.shape)    # 应为 (10000, 60, num_features)"
   ]
  },
  {
   "cell_type": "code",
   "execution_count": 84,
   "id": "9a603642-d70e-4825-ad56-f8b3af9e5b68",
   "metadata": {},
   "outputs": [
    {
     "name": "stdout",
     "output_type": "stream",
     "text": [
      "模型期望特征数: 9\n",
      "实际输入特征数: 7\n"
     ]
    }
   ],
   "source": [
    "print(\"模型期望特征数:\", num_features)  # 应与 len(feature_cols) 一致\n",
    "print(\"实际输入特征数:\", X_train.shape[2])"
   ]
  },
  {
   "cell_type": "code",
   "execution_count": 35,
   "id": "39b9bb84-4975-468f-97eb-b77c8be01406",
   "metadata": {},
   "outputs": [],
   "source": [
    "# 错误示例：可能误用了部分特征\n",
    "# X_train = X_seq[:80000, :, :7]  # 错误地截取前7个特征\n",
    "\n",
    "# 正确做法：保留所有特征\n",
    "X_train = X_seq[:80000]  # 形状应为 (80000, 60, 9)\n",
    "X_val = X_seq[80000:90000]  # 形状应为 (10000, 60, 9)"
   ]
  },
  {
   "cell_type": "code",
   "execution_count": 36,
   "id": "2ed19588-8490-412d-802c-4d12104b517e",
   "metadata": {},
   "outputs": [
    {
     "name": "stdout",
     "output_type": "stream",
     "text": [
      "完整数据特征数: 9\n",
      "训练集特征数: 9\n",
      "验证集特征数: 9\n"
     ]
    }
   ],
   "source": [
    "print(\"完整数据特征数:\", X_seq.shape[2])  # 应为9\n",
    "print(\"训练集特征数:\", X_train.shape[2])  # 修复后应为9\n",
    "print(\"验证集特征数:\", X_val.shape[2])    # 修复后应为9"
   ]
  },
  {
   "cell_type": "code",
   "execution_count": 44,
   "id": "1335511c-8884-4a38-913f-724248626407",
   "metadata": {},
   "outputs": [
    {
     "name": "stdout",
     "output_type": "stream",
     "text": [
      "特征列列表: ['open', 'high', 'low', 'close', 'volume', 'openinterest', 'MA5', 'MA10', 'RSI']\n",
      "实际特征数量: 9\n"
     ]
    }
   ],
   "source": [
    "print(\"特征列列表:\", feature_cols)\n",
    "print(\"实际特征数量:\", len(feature_cols))"
   ]
  },
  {
   "cell_type": "code",
   "execution_count": 45,
   "id": "3511f2f7-20cc-44e6-96d1-26e108800374",
   "metadata": {},
   "outputs": [],
   "source": [
    "# 正确做法：使用完整的特征列\n",
    "feature_cols = [\"open\", \"high\", \"low\", \"close\", \"volume\", \"openinterest\", \"MA5\", \"MA10\", \"RSI\"]\n",
    "X_data = symbol_data[feature_cols].values"
   ]
  },
  {
   "cell_type": "code",
   "execution_count": 46,
   "id": "f24d75d8-9184-474f-8aed-e601d39040c1",
   "metadata": {},
   "outputs": [
    {
     "name": "stdout",
     "output_type": "stream",
     "text": [
      "特征列列表: ['open', 'high', 'low', 'close', 'volume', 'openinterest', 'MA5', 'MA10', 'RSI']\n",
      "实际特征数量: 9\n"
     ]
    }
   ],
   "source": [
    "print(\"特征列列表:\", feature_cols)\n",
    "print(\"实际特征数量:\", len(feature_cols))"
   ]
  },
  {
   "cell_type": "code",
   "execution_count": 57,
   "id": "4c234452-90dd-42f3-8438-308fa8afb2be",
   "metadata": {},
   "outputs": [
    {
     "data": {
      "text/html": [
       "<pre style=\"white-space:pre;overflow-x:auto;line-height:normal;font-family:Menlo,'DejaVu Sans Mono',consolas,'Courier New',monospace\"><span style=\"font-weight: bold\">Model: \"functional_3\"</span>\n",
       "</pre>\n"
      ],
      "text/plain": [
       "\u001b[1mModel: \"functional_3\"\u001b[0m\n"
      ]
     },
     "metadata": {},
     "output_type": "display_data"
    },
    {
     "data": {
      "text/html": [
       "<pre style=\"white-space:pre;overflow-x:auto;line-height:normal;font-family:Menlo,'DejaVu Sans Mono',consolas,'Courier New',monospace\">┏━━━━━━━━━━━━━━━━━━━━━┳━━━━━━━━━━━━━━━━━━━┳━━━━━━━━━━━━┳━━━━━━━━━━━━━━━━━━━┓\n",
       "┃<span style=\"font-weight: bold\"> Layer (type)        </span>┃<span style=\"font-weight: bold\"> Output Shape      </span>┃<span style=\"font-weight: bold\">    Param # </span>┃<span style=\"font-weight: bold\"> Connected to      </span>┃\n",
       "┡━━━━━━━━━━━━━━━━━━━━━╇━━━━━━━━━━━━━━━━━━━╇━━━━━━━━━━━━╇━━━━━━━━━━━━━━━━━━━┩\n",
       "│ input_layer_4       │ (<span style=\"color: #00d7ff; text-decoration-color: #00d7ff\">None</span>, <span style=\"color: #00af00; text-decoration-color: #00af00\">60</span>, <span style=\"color: #00af00; text-decoration-color: #00af00\">9</span>)     │          <span style=\"color: #00af00; text-decoration-color: #00af00\">0</span> │ -                 │\n",
       "│ (<span style=\"color: #0087ff; text-decoration-color: #0087ff\">InputLayer</span>)        │                   │            │                   │\n",
       "├─────────────────────┼───────────────────┼────────────┼───────────────────┤\n",
       "│ conv1d_3 (<span style=\"color: #0087ff; text-decoration-color: #0087ff\">Conv1D</span>)   │ (<span style=\"color: #00d7ff; text-decoration-color: #00d7ff\">None</span>, <span style=\"color: #00af00; text-decoration-color: #00af00\">58</span>, <span style=\"color: #00af00; text-decoration-color: #00af00\">64</span>)    │      <span style=\"color: #00af00; text-decoration-color: #00af00\">1,792</span> │ input_layer_4[<span style=\"color: #00af00; text-decoration-color: #00af00\">0</span>]… │\n",
       "├─────────────────────┼───────────────────┼────────────┼───────────────────┤\n",
       "│ max_pooling1d_3     │ (<span style=\"color: #00d7ff; text-decoration-color: #00d7ff\">None</span>, <span style=\"color: #00af00; text-decoration-color: #00af00\">29</span>, <span style=\"color: #00af00; text-decoration-color: #00af00\">64</span>)    │          <span style=\"color: #00af00; text-decoration-color: #00af00\">0</span> │ conv1d_3[<span style=\"color: #00af00; text-decoration-color: #00af00\">0</span>][<span style=\"color: #00af00; text-decoration-color: #00af00\">0</span>]    │\n",
       "│ (<span style=\"color: #0087ff; text-decoration-color: #0087ff\">MaxPooling1D</span>)      │                   │            │                   │\n",
       "├─────────────────────┼───────────────────┼────────────┼───────────────────┤\n",
       "│ bidirectional_3     │ (<span style=\"color: #00d7ff; text-decoration-color: #00d7ff\">None</span>, <span style=\"color: #00af00; text-decoration-color: #00af00\">29</span>, <span style=\"color: #00af00; text-decoration-color: #00af00\">256</span>)   │    <span style=\"color: #00af00; text-decoration-color: #00af00\">197,632</span> │ max_pooling1d_3[<span style=\"color: #00af00; text-decoration-color: #00af00\">…</span> │\n",
       "│ (<span style=\"color: #0087ff; text-decoration-color: #0087ff\">Bidirectional</span>)     │                   │            │                   │\n",
       "├─────────────────────┼───────────────────┼────────────┼───────────────────┤\n",
       "│ dense_7 (<span style=\"color: #0087ff; text-decoration-color: #0087ff\">Dense</span>)     │ (<span style=\"color: #00d7ff; text-decoration-color: #00d7ff\">None</span>, <span style=\"color: #00af00; text-decoration-color: #00af00\">29</span>, <span style=\"color: #00af00; text-decoration-color: #00af00\">256</span>)   │     <span style=\"color: #00af00; text-decoration-color: #00af00\">65,792</span> │ bidirectional_3[<span style=\"color: #00af00; text-decoration-color: #00af00\">…</span> │\n",
       "├─────────────────────┼───────────────────┼────────────┼───────────────────┤\n",
       "│ dense_8 (<span style=\"color: #0087ff; text-decoration-color: #0087ff\">Dense</span>)     │ (<span style=\"color: #00d7ff; text-decoration-color: #00d7ff\">None</span>, <span style=\"color: #00af00; text-decoration-color: #00af00\">29</span>, <span style=\"color: #00af00; text-decoration-color: #00af00\">256</span>)   │     <span style=\"color: #00af00; text-decoration-color: #00af00\">65,792</span> │ bidirectional_3[<span style=\"color: #00af00; text-decoration-color: #00af00\">…</span> │\n",
       "├─────────────────────┼───────────────────┼────────────┼───────────────────┤\n",
       "│ attention_3         │ (<span style=\"color: #00d7ff; text-decoration-color: #00d7ff\">None</span>, <span style=\"color: #00af00; text-decoration-color: #00af00\">29</span>, <span style=\"color: #00af00; text-decoration-color: #00af00\">256</span>)   │          <span style=\"color: #00af00; text-decoration-color: #00af00\">0</span> │ dense_7[<span style=\"color: #00af00; text-decoration-color: #00af00\">0</span>][<span style=\"color: #00af00; text-decoration-color: #00af00\">0</span>],    │\n",
       "│ (<span style=\"color: #0087ff; text-decoration-color: #0087ff\">Attention</span>)         │                   │            │ bidirectional_3[<span style=\"color: #00af00; text-decoration-color: #00af00\">…</span> │\n",
       "│                     │                   │            │ dense_8[<span style=\"color: #00af00; text-decoration-color: #00af00\">0</span>][<span style=\"color: #00af00; text-decoration-color: #00af00\">0</span>]     │\n",
       "├─────────────────────┼───────────────────┼────────────┼───────────────────┤\n",
       "│ lambda_3 (<span style=\"color: #0087ff; text-decoration-color: #0087ff\">Lambda</span>)   │ (<span style=\"color: #00d7ff; text-decoration-color: #00d7ff\">None</span>, <span style=\"color: #00af00; text-decoration-color: #00af00\">256</span>)       │          <span style=\"color: #00af00; text-decoration-color: #00af00\">0</span> │ attention_3[<span style=\"color: #00af00; text-decoration-color: #00af00\">0</span>][<span style=\"color: #00af00; text-decoration-color: #00af00\">0</span>] │\n",
       "├─────────────────────┼───────────────────┼────────────┼───────────────────┤\n",
       "│ lstm_pred (<span style=\"color: #0087ff; text-decoration-color: #0087ff\">Dense</span>)   │ (<span style=\"color: #00d7ff; text-decoration-color: #00d7ff\">None</span>, <span style=\"color: #00af00; text-decoration-color: #00af00\">1</span>)         │        <span style=\"color: #00af00; text-decoration-color: #00af00\">257</span> │ lambda_3[<span style=\"color: #00af00; text-decoration-color: #00af00\">0</span>][<span style=\"color: #00af00; text-decoration-color: #00af00\">0</span>]    │\n",
       "└─────────────────────┴───────────────────┴────────────┴───────────────────┘\n",
       "</pre>\n"
      ],
      "text/plain": [
       "┏━━━━━━━━━━━━━━━━━━━━━┳━━━━━━━━━━━━━━━━━━━┳━━━━━━━━━━━━┳━━━━━━━━━━━━━━━━━━━┓\n",
       "┃\u001b[1m \u001b[0m\u001b[1mLayer (type)       \u001b[0m\u001b[1m \u001b[0m┃\u001b[1m \u001b[0m\u001b[1mOutput Shape     \u001b[0m\u001b[1m \u001b[0m┃\u001b[1m \u001b[0m\u001b[1m   Param #\u001b[0m\u001b[1m \u001b[0m┃\u001b[1m \u001b[0m\u001b[1mConnected to     \u001b[0m\u001b[1m \u001b[0m┃\n",
       "┡━━━━━━━━━━━━━━━━━━━━━╇━━━━━━━━━━━━━━━━━━━╇━━━━━━━━━━━━╇━━━━━━━━━━━━━━━━━━━┩\n",
       "│ input_layer_4       │ (\u001b[38;5;45mNone\u001b[0m, \u001b[38;5;34m60\u001b[0m, \u001b[38;5;34m9\u001b[0m)     │          \u001b[38;5;34m0\u001b[0m │ -                 │\n",
       "│ (\u001b[38;5;33mInputLayer\u001b[0m)        │                   │            │                   │\n",
       "├─────────────────────┼───────────────────┼────────────┼───────────────────┤\n",
       "│ conv1d_3 (\u001b[38;5;33mConv1D\u001b[0m)   │ (\u001b[38;5;45mNone\u001b[0m, \u001b[38;5;34m58\u001b[0m, \u001b[38;5;34m64\u001b[0m)    │      \u001b[38;5;34m1,792\u001b[0m │ input_layer_4[\u001b[38;5;34m0\u001b[0m]… │\n",
       "├─────────────────────┼───────────────────┼────────────┼───────────────────┤\n",
       "│ max_pooling1d_3     │ (\u001b[38;5;45mNone\u001b[0m, \u001b[38;5;34m29\u001b[0m, \u001b[38;5;34m64\u001b[0m)    │          \u001b[38;5;34m0\u001b[0m │ conv1d_3[\u001b[38;5;34m0\u001b[0m][\u001b[38;5;34m0\u001b[0m]    │\n",
       "│ (\u001b[38;5;33mMaxPooling1D\u001b[0m)      │                   │            │                   │\n",
       "├─────────────────────┼───────────────────┼────────────┼───────────────────┤\n",
       "│ bidirectional_3     │ (\u001b[38;5;45mNone\u001b[0m, \u001b[38;5;34m29\u001b[0m, \u001b[38;5;34m256\u001b[0m)   │    \u001b[38;5;34m197,632\u001b[0m │ max_pooling1d_3[\u001b[38;5;34m…\u001b[0m │\n",
       "│ (\u001b[38;5;33mBidirectional\u001b[0m)     │                   │            │                   │\n",
       "├─────────────────────┼───────────────────┼────────────┼───────────────────┤\n",
       "│ dense_7 (\u001b[38;5;33mDense\u001b[0m)     │ (\u001b[38;5;45mNone\u001b[0m, \u001b[38;5;34m29\u001b[0m, \u001b[38;5;34m256\u001b[0m)   │     \u001b[38;5;34m65,792\u001b[0m │ bidirectional_3[\u001b[38;5;34m…\u001b[0m │\n",
       "├─────────────────────┼───────────────────┼────────────┼───────────────────┤\n",
       "│ dense_8 (\u001b[38;5;33mDense\u001b[0m)     │ (\u001b[38;5;45mNone\u001b[0m, \u001b[38;5;34m29\u001b[0m, \u001b[38;5;34m256\u001b[0m)   │     \u001b[38;5;34m65,792\u001b[0m │ bidirectional_3[\u001b[38;5;34m…\u001b[0m │\n",
       "├─────────────────────┼───────────────────┼────────────┼───────────────────┤\n",
       "│ attention_3         │ (\u001b[38;5;45mNone\u001b[0m, \u001b[38;5;34m29\u001b[0m, \u001b[38;5;34m256\u001b[0m)   │          \u001b[38;5;34m0\u001b[0m │ dense_7[\u001b[38;5;34m0\u001b[0m][\u001b[38;5;34m0\u001b[0m],    │\n",
       "│ (\u001b[38;5;33mAttention\u001b[0m)         │                   │            │ bidirectional_3[\u001b[38;5;34m…\u001b[0m │\n",
       "│                     │                   │            │ dense_8[\u001b[38;5;34m0\u001b[0m][\u001b[38;5;34m0\u001b[0m]     │\n",
       "├─────────────────────┼───────────────────┼────────────┼───────────────────┤\n",
       "│ lambda_3 (\u001b[38;5;33mLambda\u001b[0m)   │ (\u001b[38;5;45mNone\u001b[0m, \u001b[38;5;34m256\u001b[0m)       │          \u001b[38;5;34m0\u001b[0m │ attention_3[\u001b[38;5;34m0\u001b[0m][\u001b[38;5;34m0\u001b[0m] │\n",
       "├─────────────────────┼───────────────────┼────────────┼───────────────────┤\n",
       "│ lstm_pred (\u001b[38;5;33mDense\u001b[0m)   │ (\u001b[38;5;45mNone\u001b[0m, \u001b[38;5;34m1\u001b[0m)         │        \u001b[38;5;34m257\u001b[0m │ lambda_3[\u001b[38;5;34m0\u001b[0m][\u001b[38;5;34m0\u001b[0m]    │\n",
       "└─────────────────────┴───────────────────┴────────────┴───────────────────┘\n"
      ]
     },
     "metadata": {},
     "output_type": "display_data"
    },
    {
     "data": {
      "text/html": [
       "<pre style=\"white-space:pre;overflow-x:auto;line-height:normal;font-family:Menlo,'DejaVu Sans Mono',consolas,'Courier New',monospace\"><span style=\"font-weight: bold\"> Total params: </span><span style=\"color: #00af00; text-decoration-color: #00af00\">331,265</span> (1.26 MB)\n",
       "</pre>\n"
      ],
      "text/plain": [
       "\u001b[1m Total params: \u001b[0m\u001b[38;5;34m331,265\u001b[0m (1.26 MB)\n"
      ]
     },
     "metadata": {},
     "output_type": "display_data"
    },
    {
     "data": {
      "text/html": [
       "<pre style=\"white-space:pre;overflow-x:auto;line-height:normal;font-family:Menlo,'DejaVu Sans Mono',consolas,'Courier New',monospace\"><span style=\"font-weight: bold\"> Trainable params: </span><span style=\"color: #00af00; text-decoration-color: #00af00\">331,265</span> (1.26 MB)\n",
       "</pre>\n"
      ],
      "text/plain": [
       "\u001b[1m Trainable params: \u001b[0m\u001b[38;5;34m331,265\u001b[0m (1.26 MB)\n"
      ]
     },
     "metadata": {},
     "output_type": "display_data"
    },
    {
     "data": {
      "text/html": [
       "<pre style=\"white-space:pre;overflow-x:auto;line-height:normal;font-family:Menlo,'DejaVu Sans Mono',consolas,'Courier New',monospace\"><span style=\"font-weight: bold\"> Non-trainable params: </span><span style=\"color: #00af00; text-decoration-color: #00af00\">0</span> (0.00 B)\n",
       "</pre>\n"
      ],
      "text/plain": [
       "\u001b[1m Non-trainable params: \u001b[0m\u001b[38;5;34m0\u001b[0m (0.00 B)\n"
      ]
     },
     "metadata": {},
     "output_type": "display_data"
    }
   ],
   "source": [
    "from tensorflow.keras import layers, Model\n",
    "import tensorflow as tf\n",
    "# 1) 输入：60 个时刻，9 个特征\n",
    "inputs = layers.Input(shape=(60, 9))\n",
    "\n",
    "# 2) CNN + 池化\n",
    "x = layers.Conv1D(64, 3, activation=\"relu\")(inputs)  # -> (batch, 58, 64)\n",
    "x = layers.MaxPooling1D(2)(x)                         # -> (batch, 29, 64)\n",
    "\n",
    "# 3) 双向 LSTM\n",
    "x = layers.Bidirectional(layers.LSTM(128, return_sequences=True))(x)  # -> (batch, 29, 256)\n",
    "\n",
    "# 4) 投影出 query/key，value 直接用 x\n",
    "query = layers.Dense(256)(x)   # -> (batch, 29, 256)\n",
    "key = layers.Dense(256)(x)     # -> (batch, 29, 256)\n",
    "value = x                      # -> (batch, 29, 256)\n",
    "\n",
    "# 5) Attention 层\n",
    "context_seq = layers.Attention()([query, value, key])  # -> (batch, 29, 256)\n",
    "\n",
    "# 6) 时间轴求和（修正后的Lambda层）\n",
    "context = layers.Lambda(\n",
    "    lambda t: tf.reduce_sum(t, axis=1),\n",
    "    output_shape=(256,)  # 显式指定输出形状\n",
    ")(context_seq)  # -> (batch, 256)\n",
    "\n",
    "# 7) 最终回归输出\n",
    "outputs = layers.Dense(1, name=\"lstm_pred\")(context)\n",
    "\n",
    "# 8) 模型构造与编译\n",
    "model = Model(inputs=inputs, outputs=outputs)\n",
    "model.compile(\n",
    "    optimizer=tf.keras.optimizers.Adam(1e-4),\n",
    "    loss=\"mse\",\n",
    "    metrics=[\"mae\"]\n",
    ")\n",
    "\n",
    "model.summary()"
   ]
  },
  {
   "cell_type": "code",
   "execution_count": 58,
   "id": "82d8f83d-b065-41f1-817d-23ff0d5c16db",
   "metadata": {},
   "outputs": [
    {
     "name": "stdout",
     "output_type": "stream",
     "text": [
      "Epoch 1/1000\n",
      "\u001b[1m1250/1250\u001b[0m \u001b[32m━━━━━━━━━━━━━━━━━━━━\u001b[0m\u001b[37m\u001b[0m \u001b[1m35s\u001b[0m 27ms/step - loss: 15.7556 - mae: 1.7843 - val_loss: 0.1605 - val_mae: 0.2881\n",
      "Epoch 2/1000\n",
      "\u001b[1m1250/1250\u001b[0m \u001b[32m━━━━━━━━━━━━━━━━━━━━\u001b[0m\u001b[37m\u001b[0m \u001b[1m34s\u001b[0m 27ms/step - loss: 0.3232 - mae: 0.4043 - val_loss: 0.1605 - val_mae: 0.2882\n",
      "Epoch 3/1000\n",
      "\u001b[1m1250/1250\u001b[0m \u001b[32m━━━━━━━━━━━━━━━━━━━━\u001b[0m\u001b[37m\u001b[0m \u001b[1m33s\u001b[0m 27ms/step - loss: 0.3164 - mae: 0.3993 - val_loss: 0.1627 - val_mae: 0.2906\n",
      "Epoch 4/1000\n",
      "\u001b[1m1250/1250\u001b[0m \u001b[32m━━━━━━━━━━━━━━━━━━━━\u001b[0m\u001b[37m\u001b[0m \u001b[1m33s\u001b[0m 26ms/step - loss: 0.3184 - mae: 0.4019 - val_loss: 0.1671 - val_mae: 0.2965\n",
      "Epoch 5/1000\n",
      "\u001b[1m1250/1250\u001b[0m \u001b[32m━━━━━━━━━━━━━━━━━━━━\u001b[0m\u001b[37m\u001b[0m \u001b[1m32s\u001b[0m 26ms/step - loss: 0.3225 - mae: 0.4045 - val_loss: 0.1673 - val_mae: 0.2979\n",
      "Epoch 6/1000\n",
      "\u001b[1m1250/1250\u001b[0m \u001b[32m━━━━━━━━━━━━━━━━━━━━\u001b[0m\u001b[37m\u001b[0m \u001b[1m30s\u001b[0m 24ms/step - loss: 0.3245 - mae: 0.4063 - val_loss: 0.1601 - val_mae: 0.2874\n",
      "Epoch 7/1000\n",
      "\u001b[1m1250/1250\u001b[0m \u001b[32m━━━━━━━━━━━━━━━━━━━━\u001b[0m\u001b[37m\u001b[0m \u001b[1m32s\u001b[0m 26ms/step - loss: 0.3270 - mae: 0.4073 - val_loss: 0.1600 - val_mae: 0.2873\n",
      "Epoch 8/1000\n",
      "\u001b[1m1250/1250\u001b[0m \u001b[32m━━━━━━━━━━━━━━━━━━━━\u001b[0m\u001b[37m\u001b[0m \u001b[1m31s\u001b[0m 25ms/step - loss: 0.3258 - mae: 0.4071 - val_loss: 0.1601 - val_mae: 0.2875\n",
      "Epoch 9/1000\n",
      "\u001b[1m1250/1250\u001b[0m \u001b[32m━━━━━━━━━━━━━━━━━━━━\u001b[0m\u001b[37m\u001b[0m \u001b[1m31s\u001b[0m 25ms/step - loss: 0.3228 - mae: 0.4047 - val_loss: 0.1646 - val_mae: 0.2940\n",
      "Epoch 10/1000\n",
      "\u001b[1m1250/1250\u001b[0m \u001b[32m━━━━━━━━━━━━━━━━━━━━\u001b[0m\u001b[37m\u001b[0m \u001b[1m31s\u001b[0m 25ms/step - loss: 0.3256 - mae: 0.4073 - val_loss: 0.1647 - val_mae: 0.2942\n",
      "Epoch 11/1000\n",
      "\u001b[1m1250/1250\u001b[0m \u001b[32m━━━━━━━━━━━━━━━━━━━━\u001b[0m\u001b[37m\u001b[0m \u001b[1m31s\u001b[0m 25ms/step - loss: 0.3291 - mae: 0.4091 - val_loss: 0.1611 - val_mae: 0.2890\n",
      "Epoch 12/1000\n",
      "\u001b[1m1250/1250\u001b[0m \u001b[32m━━━━━━━━━━━━━━━━━━━━\u001b[0m\u001b[37m\u001b[0m \u001b[1m32s\u001b[0m 26ms/step - loss: 0.3239 - mae: 0.4065 - val_loss: 0.1608 - val_mae: 0.2883\n"
     ]
    }
   ],
   "source": [
    "early_stop = tf.keras.callbacks.EarlyStopping(monitor=\"val_loss\", patience=5)\n",
    "history = model.fit(\n",
    "    X_train, y_train,\n",
    "    validation_data=(X_val, y_val),\n",
    "    epochs=1000,\n",
    "    batch_size=64,\n",
    "    callbacks=[early_stop]\n",
    ")"
   ]
  },
  {
   "cell_type": "code",
   "execution_count": 59,
   "id": "c91342c2-5d6d-499e-8b26-c4b5d0f070af",
   "metadata": {},
   "outputs": [
    {
     "name": "stderr",
     "output_type": "stream",
     "text": [
      "WARNING:absl:You are saving your model as an HDF5 file via `model.save()` or `keras.saving.save_model(model)`. This file format is considered legacy. We recommend using instead the native Keras format, e.g. `model.save('my_model.keras')` or `keras.saving.save_model(model, 'my_model.keras')`. \n"
     ]
    }
   ],
   "source": [
    "model.save(\"./mode/fixed_cnn_lstm_model3.h5\")"
   ]
  },
  {
   "cell_type": "code",
   "execution_count": 60,
   "id": "ec236eb8-cfbc-4515-9cc6-1c1ea263203c",
   "metadata": {},
   "outputs": [],
   "source": [
    "model.save(\"./mode/fixed_cnn_lstm_model3.keras\")"
   ]
  },
  {
   "cell_type": "code",
   "execution_count": 61,
   "id": "fff17293-d461-4f3c-8ea6-84f20faaf1c7",
   "metadata": {},
   "outputs": [
    {
     "name": "stderr",
     "output_type": "stream",
     "text": [
      "WARNING:absl:Compiled the loaded model, but the compiled metrics have yet to be built. `model.compile_metrics` will be empty until you train or evaluate the model.\n"
     ]
    }
   ],
   "source": [
    "from tensorflow.keras.models import load_model\n",
    "from tensorflow.keras.losses import MeanSquaredError as mse\n",
    "\n",
    "# 定义Lambda层使用的函数\n",
    "def reduce_sum_output_shape(input_shape):\n",
    "    return (input_shape[0], input_shape[2])\n",
    "\n",
    "# 加载模型并传递所有自定义对象\n",
    "loaded_model = load_model(\n",
    "    \"./mode/fixed_cnn_lstm_model2.h5\",\n",
    "    custom_objects={\n",
    "        \"reduce_sum_output_shape\": reduce_sum_output_shape,\n",
    "        \"mse\": mse  # 显式传递内置损失函数\n",
    "    }\n",
    ")"
   ]
  },
  {
   "cell_type": "code",
   "execution_count": null,
   "id": "5edd2eb8-c2e5-4897-869e-f2360c667b09",
   "metadata": {},
   "outputs": [],
   "source": []
  },
  {
   "cell_type": "code",
   "execution_count": 62,
   "id": "94714b6b-c79a-46eb-9085-23f23e24ff2f",
   "metadata": {},
   "outputs": [
    {
     "ename": "NameError",
     "evalue": "Exception encountered when calling Lambda.call().\n\n\u001b[1mname 'tf' is not defined\u001b[0m\n\nArguments received by Lambda.call():\n  • inputs=tf.Tensor(shape=(1, 29, 256), dtype=float32)\n  • mask=None\n  • training=False",
     "output_type": "error",
     "traceback": [
      "\u001b[0;31m---------------------------------------------------------------------------\u001b[0m",
      "\u001b[0;31mNameError\u001b[0m                                 Traceback (most recent call last)",
      "Cell \u001b[0;32mIn[62], line 2\u001b[0m\n\u001b[1;32m      1\u001b[0m test_input \u001b[38;5;241m=\u001b[39m np\u001b[38;5;241m.\u001b[39mrandom\u001b[38;5;241m.\u001b[39mrand(\u001b[38;5;241m1\u001b[39m, \u001b[38;5;241m60\u001b[39m, \u001b[38;5;241m9\u001b[39m)\n\u001b[0;32m----> 2\u001b[0m prediction \u001b[38;5;241m=\u001b[39m \u001b[43mloaded_model\u001b[49m\u001b[38;5;241;43m.\u001b[39;49m\u001b[43mpredict\u001b[49m\u001b[43m(\u001b[49m\u001b[43mtest_input\u001b[49m\u001b[43m)\u001b[49m\n\u001b[1;32m      3\u001b[0m \u001b[38;5;28mprint\u001b[39m(\u001b[38;5;124m\"\u001b[39m\u001b[38;5;124m预测结果形状:\u001b[39m\u001b[38;5;124m\"\u001b[39m, prediction\u001b[38;5;241m.\u001b[39mshape)  \u001b[38;5;66;03m# 应为 (1, 1)\u001b[39;00m\n",
      "File \u001b[0;32m~/miniconda3/lib/python3.12/site-packages/keras/src/utils/traceback_utils.py:122\u001b[0m, in \u001b[0;36mfilter_traceback.<locals>.error_handler\u001b[0;34m(*args, **kwargs)\u001b[0m\n\u001b[1;32m    119\u001b[0m     filtered_tb \u001b[38;5;241m=\u001b[39m _process_traceback_frames(e\u001b[38;5;241m.\u001b[39m__traceback__)\n\u001b[1;32m    120\u001b[0m     \u001b[38;5;66;03m# To get the full stack trace, call:\u001b[39;00m\n\u001b[1;32m    121\u001b[0m     \u001b[38;5;66;03m# `keras.config.disable_traceback_filtering()`\u001b[39;00m\n\u001b[0;32m--> 122\u001b[0m     \u001b[38;5;28;01mraise\u001b[39;00m e\u001b[38;5;241m.\u001b[39mwith_traceback(filtered_tb) \u001b[38;5;28;01mfrom\u001b[39;00m \u001b[38;5;28;01mNone\u001b[39;00m\n\u001b[1;32m    123\u001b[0m \u001b[38;5;28;01mfinally\u001b[39;00m:\n\u001b[1;32m    124\u001b[0m     \u001b[38;5;28;01mdel\u001b[39;00m filtered_tb\n",
      "Cell \u001b[0;32mIn[50], line 23\u001b[0m, in \u001b[0;36m<lambda>\u001b[0;34m(t)\u001b[0m\n\u001b[1;32m     19\u001b[0m context_seq \u001b[38;5;241m=\u001b[39m layers\u001b[38;5;241m.\u001b[39mAttention()([query, value, key])  \u001b[38;5;66;03m# -> (batch, 29, 256)\u001b[39;00m\n\u001b[1;32m     21\u001b[0m \u001b[38;5;66;03m# 6) 时间轴求和（修正后的Lambda层）\u001b[39;00m\n\u001b[1;32m     22\u001b[0m context \u001b[38;5;241m=\u001b[39m layers\u001b[38;5;241m.\u001b[39mLambda(\n\u001b[0;32m---> 23\u001b[0m     \u001b[38;5;28;01mlambda\u001b[39;00m t: \u001b[43mtf\u001b[49m\u001b[38;5;241m.\u001b[39mreduce_sum(t, axis\u001b[38;5;241m=\u001b[39m\u001b[38;5;241m1\u001b[39m),\n\u001b[1;32m     24\u001b[0m     output_shape\u001b[38;5;241m=\u001b[39m(\u001b[38;5;241m256\u001b[39m,)  \u001b[38;5;66;03m# 显式指定输出形状\u001b[39;00m\n\u001b[1;32m     25\u001b[0m )(context_seq)  \u001b[38;5;66;03m# -> (batch, 256)\u001b[39;00m\n\u001b[1;32m     27\u001b[0m \u001b[38;5;66;03m# 7) 最终回归输出\u001b[39;00m\n\u001b[1;32m     28\u001b[0m outputs \u001b[38;5;241m=\u001b[39m layers\u001b[38;5;241m.\u001b[39mDense(\u001b[38;5;241m1\u001b[39m, name\u001b[38;5;241m=\u001b[39m\u001b[38;5;124m\"\u001b[39m\u001b[38;5;124mlstm_pred\u001b[39m\u001b[38;5;124m\"\u001b[39m)(context)\n",
      "\u001b[0;31mNameError\u001b[0m: Exception encountered when calling Lambda.call().\n\n\u001b[1mname 'tf' is not defined\u001b[0m\n\nArguments received by Lambda.call():\n  • inputs=tf.Tensor(shape=(1, 29, 256), dtype=float32)\n  • mask=None\n  • training=False"
     ]
    }
   ],
   "source": [
    "test_input = np.random.rand(1, 60, 9)\n",
    "prediction = loaded_model.predict(test_input)\n",
    "print(\"预测结果形状:\", prediction.shape)  # 应为 (1, 1)"
   ]
  },
  {
   "cell_type": "code",
   "execution_count": 63,
   "id": "862a8209-297b-4302-9757-51f3820cf9e6",
   "metadata": {},
   "outputs": [
    {
     "data": {
      "image/png": "[encoded data removed]",
      "text/plain": [
       "<Figure size 640x480 with 1 Axes>"
      ]
     },
     "metadata": {},
     "output_type": "display_data"
    },
    {
     "data": {
      "image/png": "[encoded data removed]",
      "text/plain": [
       "<Figure size 640x480 with 1 Axes>"
      ]
     },
     "metadata": {},
     "output_type": "display_data"
    }
   ],
   "source": [
    "import matplotlib.pyplot as plt\n",
    "\n",
    "# 假设 history 是 model.fit 返回的 History 对象\n",
    "loss = history.history['loss']\n",
    "val_loss = history.history['val_loss']\n",
    "mae = history.history['mae']\n",
    "val_mae = history.history['val_mae']\n",
    "epochs = range(1, len(loss) + 1)\n",
    "\n",
    "plt.figure()\n",
    "plt.plot(epochs, loss,    label='Train Loss')\n",
    "plt.plot(epochs, val_loss, label='Val Loss')\n",
    "plt.xlabel('Epoch'); plt.ylabel('Loss')\n",
    "plt.legend()\n",
    "plt.title('Train vs Val Loss')\n",
    "\n",
    "plt.figure()\n",
    "plt.plot(epochs, mae,    label='Train MAE')\n",
    "plt.plot(epochs, val_mae, label='Val MAE')\n",
    "plt.xlabel('Epoch'); plt.ylabel('MAE')\n",
    "plt.legend()\n",
    "plt.title('Train vs Val MAE')\n",
    "\n",
    "plt.show()"
   ]
  },
  {
   "cell_type": "code",
   "execution_count": 64,
   "id": "474b9ae1-7dcd-41ad-96e3-a33ab42c6b1e",
   "metadata": {},
   "outputs": [
    {
     "name": "stdout",
     "output_type": "stream",
     "text": [
      "\u001b[1m313/313\u001b[0m \u001b[32m━━━━━━━━━━━━━━━━━━━━\u001b[0m\u001b[37m\u001b[0m \u001b[1m3s\u001b[0m 8ms/step\n"
     ]
    },
    {
     "data": {
      "image/png": "[encoded data removed]",
      "text/plain": [
       "<Figure size 640x480 with 1 Axes>"
      ]
     },
     "metadata": {},
     "output_type": "display_data"
    }
   ],
   "source": [
    "import numpy as np\n",
    "import matplotlib.pyplot as plt\n",
    "\n",
    "# 假设 x_val, y_val 是验证集输入和真实输出\n",
    "y_pred = model.predict(X_val).flatten()\n",
    "y_true = y_val.flatten()\n",
    "\n",
    "plt.figure()\n",
    "plt.scatter(y_true, y_pred, alpha=0.3)\n",
    "plt.plot([y_true.min(), y_true.max()],\n",
    "         [y_true.min(), y_true.max()],\n",
    "         'r--', linewidth=2)\n",
    "plt.xlabel('True Values'); plt.ylabel('Predicted Values')\n",
    "plt.title('Predicted vs True on Validation Set')\n",
    "\n",
    "plt.show()"
   ]
  },
  {
   "cell_type": "code",
   "execution_count": 65,
   "id": "de6f3676-5431-4f1f-9047-7caf2b849ea1",
   "metadata": {},
   "outputs": [
    {
     "data": {
      "image/png": "[encoded data removed]",
      "text/plain": [
       "<Figure size 640x480 with 1 Axes>"
      ]
     },
     "metadata": {},
     "output_type": "display_data"
    }
   ],
   "source": [
    "errors = y_pred - y_true\n",
    "plt.figure()\n",
    "plt.hist(errors, bins=50, edgecolor='k', alpha=0.7)\n",
    "plt.xlabel('Prediction Error'); plt.ylabel('Count')\n",
    "plt.title('Error Distribution on Validation Set')\n",
    "plt.show()"
   ]
  },
  {
   "cell_type": "code",
   "execution_count": 66,
   "id": "51451f4f-6b55-46f2-81db-5781f457f533",
   "metadata": {},
   "outputs": [
    {
     "name": "stdout",
     "output_type": "stream",
     "text": [
      "MSE: 0.1608\n",
      "MAE: 0.2883\n",
      "R²:  -0.0055\n"
     ]
    }
   ],
   "source": [
    "from sklearn.metrics import mean_squared_error, mean_absolute_error, r2_score\n",
    "\n",
    "mse = mean_squared_error(y_true, y_pred)\n",
    "mae = mean_absolute_error(y_true, y_pred)\n",
    "r2  = r2_score(y_true, y_pred)\n",
    "\n",
    "print(f\"MSE: {mse:.4f}\")\n",
    "print(f\"MAE: {mae:.4f}\")\n",
    "print(f\"R²:  {r2:.4f}\")"
   ]
  },
  {
   "cell_type": "code",
   "execution_count": null,
   "id": "d6623c54-dec0-41b0-b792-f601d5afac25",
   "metadata": {},
   "outputs": [],
   "source": []
  },
  {
   "cell_type": "code",
   "execution_count": null,
   "id": "8f8ffaa8-5d94-4733-acb5-c4b05e0259f9",
   "metadata": {},
   "outputs": [],
   "source": []
  },
  {
   "cell_type": "code",
   "execution_count": 47,
   "id": "0d0840d9-5d59-4469-aa24-b315bc383ebf",
   "metadata": {},
   "outputs": [
    {
     "data": {
      "text/html": [
       "<pre style=\"white-space:pre;overflow-x:auto;line-height:normal;font-family:Menlo,'DejaVu Sans Mono',consolas,'Courier New',monospace\"><span style=\"font-weight: bold\">Model: \"functional_1\"</span>\n",
       "</pre>\n"
      ],
      "text/plain": [
       "\u001b[1mModel: \"functional_1\"\u001b[0m\n"
      ]
     },
     "metadata": {},
     "output_type": "display_data"
    },
    {
     "data": {
      "text/html": [
       "<pre style=\"white-space:pre;overflow-x:auto;line-height:normal;font-family:Menlo,'DejaVu Sans Mono',consolas,'Courier New',monospace\">┏━━━━━━━━━━━━━━━━━━━━━┳━━━━━━━━━━━━━━━━━━━┳━━━━━━━━━━━━┳━━━━━━━━━━━━━━━━━━━┓\n",
       "┃<span style=\"font-weight: bold\"> Layer (type)        </span>┃<span style=\"font-weight: bold\"> Output Shape      </span>┃<span style=\"font-weight: bold\">    Param # </span>┃<span style=\"font-weight: bold\"> Connected to      </span>┃\n",
       "┡━━━━━━━━━━━━━━━━━━━━━╇━━━━━━━━━━━━━━━━━━━╇━━━━━━━━━━━━╇━━━━━━━━━━━━━━━━━━━┩\n",
       "│ input_layer_2       │ (<span style=\"color: #00d7ff; text-decoration-color: #00d7ff\">None</span>, <span style=\"color: #00af00; text-decoration-color: #00af00\">60</span>, <span style=\"color: #00af00; text-decoration-color: #00af00\">9</span>)     │          <span style=\"color: #00af00; text-decoration-color: #00af00\">0</span> │ -                 │\n",
       "│ (<span style=\"color: #0087ff; text-decoration-color: #0087ff\">InputLayer</span>)        │                   │            │                   │\n",
       "├─────────────────────┼───────────────────┼────────────┼───────────────────┤\n",
       "│ conv1d_1 (<span style=\"color: #0087ff; text-decoration-color: #0087ff\">Conv1D</span>)   │ (<span style=\"color: #00d7ff; text-decoration-color: #00d7ff\">None</span>, <span style=\"color: #00af00; text-decoration-color: #00af00\">58</span>, <span style=\"color: #00af00; text-decoration-color: #00af00\">64</span>)    │      <span style=\"color: #00af00; text-decoration-color: #00af00\">1,792</span> │ input_layer_2[<span style=\"color: #00af00; text-decoration-color: #00af00\">0</span>]… │\n",
       "├─────────────────────┼───────────────────┼────────────┼───────────────────┤\n",
       "│ max_pooling1d_1     │ (<span style=\"color: #00d7ff; text-decoration-color: #00d7ff\">None</span>, <span style=\"color: #00af00; text-decoration-color: #00af00\">29</span>, <span style=\"color: #00af00; text-decoration-color: #00af00\">64</span>)    │          <span style=\"color: #00af00; text-decoration-color: #00af00\">0</span> │ conv1d_1[<span style=\"color: #00af00; text-decoration-color: #00af00\">0</span>][<span style=\"color: #00af00; text-decoration-color: #00af00\">0</span>]    │\n",
       "│ (<span style=\"color: #0087ff; text-decoration-color: #0087ff\">MaxPooling1D</span>)      │                   │            │                   │\n",
       "├─────────────────────┼───────────────────┼────────────┼───────────────────┤\n",
       "│ bidirectional_1     │ (<span style=\"color: #00d7ff; text-decoration-color: #00d7ff\">None</span>, <span style=\"color: #00af00; text-decoration-color: #00af00\">29</span>, <span style=\"color: #00af00; text-decoration-color: #00af00\">256</span>)   │    <span style=\"color: #00af00; text-decoration-color: #00af00\">197,632</span> │ max_pooling1d_1[<span style=\"color: #00af00; text-decoration-color: #00af00\">…</span> │\n",
       "│ (<span style=\"color: #0087ff; text-decoration-color: #0087ff\">Bidirectional</span>)     │                   │            │                   │\n",
       "├─────────────────────┼───────────────────┼────────────┼───────────────────┤\n",
       "│ dense_3 (<span style=\"color: #0087ff; text-decoration-color: #0087ff\">Dense</span>)     │ (<span style=\"color: #00d7ff; text-decoration-color: #00d7ff\">None</span>, <span style=\"color: #00af00; text-decoration-color: #00af00\">29</span>, <span style=\"color: #00af00; text-decoration-color: #00af00\">256</span>)   │     <span style=\"color: #00af00; text-decoration-color: #00af00\">65,792</span> │ bidirectional_1[<span style=\"color: #00af00; text-decoration-color: #00af00\">…</span> │\n",
       "├─────────────────────┼───────────────────┼────────────┼───────────────────┤\n",
       "│ dense_4 (<span style=\"color: #0087ff; text-decoration-color: #0087ff\">Dense</span>)     │ (<span style=\"color: #00d7ff; text-decoration-color: #00d7ff\">None</span>, <span style=\"color: #00af00; text-decoration-color: #00af00\">29</span>, <span style=\"color: #00af00; text-decoration-color: #00af00\">256</span>)   │     <span style=\"color: #00af00; text-decoration-color: #00af00\">65,792</span> │ bidirectional_1[<span style=\"color: #00af00; text-decoration-color: #00af00\">…</span> │\n",
       "├─────────────────────┼───────────────────┼────────────┼───────────────────┤\n",
       "│ attention_1         │ (<span style=\"color: #00d7ff; text-decoration-color: #00d7ff\">None</span>, <span style=\"color: #00af00; text-decoration-color: #00af00\">29</span>, <span style=\"color: #00af00; text-decoration-color: #00af00\">256</span>)   │          <span style=\"color: #00af00; text-decoration-color: #00af00\">0</span> │ dense_3[<span style=\"color: #00af00; text-decoration-color: #00af00\">0</span>][<span style=\"color: #00af00; text-decoration-color: #00af00\">0</span>],    │\n",
       "│ (<span style=\"color: #0087ff; text-decoration-color: #0087ff\">Attention</span>)         │                   │            │ bidirectional_1[<span style=\"color: #00af00; text-decoration-color: #00af00\">…</span> │\n",
       "│                     │                   │            │ dense_4[<span style=\"color: #00af00; text-decoration-color: #00af00\">0</span>][<span style=\"color: #00af00; text-decoration-color: #00af00\">0</span>]     │\n",
       "├─────────────────────┼───────────────────┼────────────┼───────────────────┤\n",
       "│ lambda_1 (<span style=\"color: #0087ff; text-decoration-color: #0087ff\">Lambda</span>)   │ (<span style=\"color: #00d7ff; text-decoration-color: #00d7ff\">None</span>, <span style=\"color: #00af00; text-decoration-color: #00af00\">256</span>)       │          <span style=\"color: #00af00; text-decoration-color: #00af00\">0</span> │ attention_1[<span style=\"color: #00af00; text-decoration-color: #00af00\">0</span>][<span style=\"color: #00af00; text-decoration-color: #00af00\">0</span>] │\n",
       "├─────────────────────┼───────────────────┼────────────┼───────────────────┤\n",
       "│ lstm_pred (<span style=\"color: #0087ff; text-decoration-color: #0087ff\">Dense</span>)   │ (<span style=\"color: #00d7ff; text-decoration-color: #00d7ff\">None</span>, <span style=\"color: #00af00; text-decoration-color: #00af00\">1</span>)         │        <span style=\"color: #00af00; text-decoration-color: #00af00\">257</span> │ lambda_1[<span style=\"color: #00af00; text-decoration-color: #00af00\">0</span>][<span style=\"color: #00af00; text-decoration-color: #00af00\">0</span>]    │\n",
       "└─────────────────────┴───────────────────┴────────────┴───────────────────┘\n",
       "</pre>\n"
      ],
      "text/plain": [
       "┏━━━━━━━━━━━━━━━━━━━━━┳━━━━━━━━━━━━━━━━━━━┳━━━━━━━━━━━━┳━━━━━━━━━━━━━━━━━━━┓\n",
       "┃\u001b[1m \u001b[0m\u001b[1mLayer (type)       \u001b[0m\u001b[1m \u001b[0m┃\u001b[1m \u001b[0m\u001b[1mOutput Shape     \u001b[0m\u001b[1m \u001b[0m┃\u001b[1m \u001b[0m\u001b[1m   Param #\u001b[0m\u001b[1m \u001b[0m┃\u001b[1m \u001b[0m\u001b[1mConnected to     \u001b[0m\u001b[1m \u001b[0m┃\n",
       "┡━━━━━━━━━━━━━━━━━━━━━╇━━━━━━━━━━━━━━━━━━━╇━━━━━━━━━━━━╇━━━━━━━━━━━━━━━━━━━┩\n",
       "│ input_layer_2       │ (\u001b[38;5;45mNone\u001b[0m, \u001b[38;5;34m60\u001b[0m, \u001b[38;5;34m9\u001b[0m)     │          \u001b[38;5;34m0\u001b[0m │ -                 │\n",
       "│ (\u001b[38;5;33mInputLayer\u001b[0m)        │                   │            │                   │\n",
       "├─────────────────────┼───────────────────┼────────────┼───────────────────┤\n",
       "│ conv1d_1 (\u001b[38;5;33mConv1D\u001b[0m)   │ (\u001b[38;5;45mNone\u001b[0m, \u001b[38;5;34m58\u001b[0m, \u001b[38;5;34m64\u001b[0m)    │      \u001b[38;5;34m1,792\u001b[0m │ input_layer_2[\u001b[38;5;34m0\u001b[0m]… │\n",
       "├─────────────────────┼───────────────────┼────────────┼───────────────────┤\n",
       "│ max_pooling1d_1     │ (\u001b[38;5;45mNone\u001b[0m, \u001b[38;5;34m29\u001b[0m, \u001b[38;5;34m64\u001b[0m)    │          \u001b[38;5;34m0\u001b[0m │ conv1d_1[\u001b[38;5;34m0\u001b[0m][\u001b[38;5;34m0\u001b[0m]    │\n",
       "│ (\u001b[38;5;33mMaxPooling1D\u001b[0m)      │                   │            │                   │\n",
       "├─────────────────────┼───────────────────┼────────────┼───────────────────┤\n",
       "│ bidirectional_1     │ (\u001b[38;5;45mNone\u001b[0m, \u001b[38;5;34m29\u001b[0m, \u001b[38;5;34m256\u001b[0m)   │    \u001b[38;5;34m197,632\u001b[0m │ max_pooling1d_1[\u001b[38;5;34m…\u001b[0m │\n",
       "│ (\u001b[38;5;33mBidirectional\u001b[0m)     │                   │            │                   │\n",
       "├─────────────────────┼───────────────────┼────────────┼───────────────────┤\n",
       "│ dense_3 (\u001b[38;5;33mDense\u001b[0m)     │ (\u001b[38;5;45mNone\u001b[0m, \u001b[38;5;34m29\u001b[0m, \u001b[38;5;34m256\u001b[0m)   │     \u001b[38;5;34m65,792\u001b[0m │ bidirectional_1[\u001b[38;5;34m…\u001b[0m │\n",
       "├─────────────────────┼───────────────────┼────────────┼───────────────────┤\n",
       "│ dense_4 (\u001b[38;5;33mDense\u001b[0m)     │ (\u001b[38;5;45mNone\u001b[0m, \u001b[38;5;34m29\u001b[0m, \u001b[38;5;34m256\u001b[0m)   │     \u001b[38;5;34m65,792\u001b[0m │ bidirectional_1[\u001b[38;5;34m…\u001b[0m │\n",
       "├─────────────────────┼───────────────────┼────────────┼───────────────────┤\n",
       "│ attention_1         │ (\u001b[38;5;45mNone\u001b[0m, \u001b[38;5;34m29\u001b[0m, \u001b[38;5;34m256\u001b[0m)   │          \u001b[38;5;34m0\u001b[0m │ dense_3[\u001b[38;5;34m0\u001b[0m][\u001b[38;5;34m0\u001b[0m],    │\n",
       "│ (\u001b[38;5;33mAttention\u001b[0m)         │                   │            │ bidirectional_1[\u001b[38;5;34m…\u001b[0m │\n",
       "│                     │                   │            │ dense_4[\u001b[38;5;34m0\u001b[0m][\u001b[38;5;34m0\u001b[0m]     │\n",
       "├─────────────────────┼───────────────────┼────────────┼───────────────────┤\n",
       "│ lambda_1 (\u001b[38;5;33mLambda\u001b[0m)   │ (\u001b[38;5;45mNone\u001b[0m, \u001b[38;5;34m256\u001b[0m)       │          \u001b[38;5;34m0\u001b[0m │ attention_1[\u001b[38;5;34m0\u001b[0m][\u001b[38;5;34m0\u001b[0m] │\n",
       "├─────────────────────┼───────────────────┼────────────┼───────────────────┤\n",
       "│ lstm_pred (\u001b[38;5;33mDense\u001b[0m)   │ (\u001b[38;5;45mNone\u001b[0m, \u001b[38;5;34m1\u001b[0m)         │        \u001b[38;5;34m257\u001b[0m │ lambda_1[\u001b[38;5;34m0\u001b[0m][\u001b[38;5;34m0\u001b[0m]    │\n",
       "└─────────────────────┴───────────────────┴────────────┴───────────────────┘\n"
      ]
     },
     "metadata": {},
     "output_type": "display_data"
    },
    {
     "data": {
      "text/html": [
       "<pre style=\"white-space:pre;overflow-x:auto;line-height:normal;font-family:Menlo,'DejaVu Sans Mono',consolas,'Courier New',monospace\"><span style=\"font-weight: bold\"> Total params: </span><span style=\"color: #00af00; text-decoration-color: #00af00\">331,265</span> (1.26 MB)\n",
       "</pre>\n"
      ],
      "text/plain": [
       "\u001b[1m Total params: \u001b[0m\u001b[38;5;34m331,265\u001b[0m (1.26 MB)\n"
      ]
     },
     "metadata": {},
     "output_type": "display_data"
    },
    {
     "data": {
      "text/html": [
       "<pre style=\"white-space:pre;overflow-x:auto;line-height:normal;font-family:Menlo,'DejaVu Sans Mono',consolas,'Courier New',monospace\"><span style=\"font-weight: bold\"> Trainable params: </span><span style=\"color: #00af00; text-decoration-color: #00af00\">331,265</span> (1.26 MB)\n",
       "</pre>\n"
      ],
      "text/plain": [
       "\u001b[1m Trainable params: \u001b[0m\u001b[38;5;34m331,265\u001b[0m (1.26 MB)\n"
      ]
     },
     "metadata": {},
     "output_type": "display_data"
    },
    {
     "data": {
      "text/html": [
       "<pre style=\"white-space:pre;overflow-x:auto;line-height:normal;font-family:Menlo,'DejaVu Sans Mono',consolas,'Courier New',monospace\"><span style=\"font-weight: bold\"> Non-trainable params: </span><span style=\"color: #00af00; text-decoration-color: #00af00\">0</span> (0.00 B)\n",
       "</pre>\n"
      ],
      "text/plain": [
       "\u001b[1m Non-trainable params: \u001b[0m\u001b[38;5;34m0\u001b[0m (0.00 B)\n"
      ]
     },
     "metadata": {},
     "output_type": "display_data"
    }
   ],
   "source": [
    "import tensorflow as tf\n",
    "from tensorflow.keras.layers import (\n",
    "    Input, Conv1D, MaxPooling1D, Bidirectional, LSTM,\n",
    "    Dense, Attention, Lambda\n",
    ")\n",
    "from tensorflow.keras.models import Model\n",
    "\n",
    "# 1) 输入：60 个时刻，9 个特征\n",
    "inputs = Input(shape=(60, 9))\n",
    "\n",
    "# 2) CNN + 池化\n",
    "x = Conv1D(64, 3, activation=\"relu\")(inputs)    # -> (batch, 58, 64)\n",
    "x = MaxPooling1D(2)(x)                          # -> (batch, 29, 64)\n",
    "\n",
    "# 3) 双向 LSTM\n",
    "x = Bidirectional(LSTM(128, return_sequences=True))(x)  # -> (batch, 29, 256)\n",
    "\n",
    "# 4) 投影出 query/key，value 直接用 x\n",
    "query = Dense(256)(x)   # -> (batch, 29, 256)\n",
    "key   = Dense(256)(x)   # -> (batch, 29, 256)\n",
    "value = x               # -> (batch, 29, 256)\n",
    "\n",
    "# 5) Attention 层：直接对 value 加权，输出 same-shape 上下文序列\n",
    "#    (batch, query_steps, value_dim) == (batch, 29, 256)\n",
    "context_seq = Attention()([query, value, key])\n",
    "\n",
    "# 6) 将上下文序列在时间轴“汇聚”成一个向量\n",
    "#    这里用简单求和，也可以改成平均、最大池化、或者带权重的求和\n",
    "context = Lambda(lambda t: tf.reduce_sum(t, axis=1))(context_seq)  # -> (batch, 256)\n",
    "\n",
    "# 7) 最终回归输出\n",
    "outputs = Dense(1, name=\"lstm_pred\")(context)\n",
    "\n",
    "# 8) 模型构造与编译\n",
    "model = Model(inputs=inputs, outputs=outputs)\n",
    "model.compile(\n",
    "    optimizer=tf.keras.optimizers.Adam(1e-4),\n",
    "    loss=\"mse\",\n",
    "    metrics=[\"mae\"]\n",
    ")\n",
    "\n",
    "model.summary()\n"
   ]
  },
  {
   "cell_type": "code",
   "execution_count": 48,
   "id": "3d9f5979-ebba-4662-b8bb-53e9b9268c91",
   "metadata": {},
   "outputs": [
    {
     "name": "stdout",
     "output_type": "stream",
     "text": [
      "Epoch 1/1000\n",
      "\u001b[1m1250/1250\u001b[0m \u001b[32m━━━━━━━━━━━━━━━━━━━━\u001b[0m\u001b[37m\u001b[0m \u001b[1m38s\u001b[0m 29ms/step - loss: 77.9471 - mae: 5.3545 - val_loss: 0.1604 - val_mae: 0.2876\n",
      "Epoch 2/1000\n",
      "\u001b[1m1250/1250\u001b[0m \u001b[32m━━━━━━━━━━━━━━━━━━━━\u001b[0m\u001b[37m\u001b[0m \u001b[1m36s\u001b[0m 29ms/step - loss: 0.3251 - mae: 0.4041 - val_loss: 0.1603 - val_mae: 0.2875\n",
      "Epoch 3/1000\n",
      "\u001b[1m1250/1250\u001b[0m \u001b[32m━━━━━━━━━━━━━━━━━━━━\u001b[0m\u001b[37m\u001b[0m \u001b[1m37s\u001b[0m 29ms/step - loss: 0.3245 - mae: 0.4043 - val_loss: 0.1607 - val_mae: 0.2881\n",
      "Epoch 4/1000\n",
      "\u001b[1m1250/1250\u001b[0m \u001b[32m━━━━━━━━━━━━━━━━━━━━\u001b[0m\u001b[37m\u001b[0m \u001b[1m36s\u001b[0m 29ms/step - loss: 0.3182 - mae: 0.4004 - val_loss: 0.1611 - val_mae: 0.2886\n",
      "Epoch 5/1000\n",
      "\u001b[1m1250/1250\u001b[0m \u001b[32m━━━━━━━━━━━━━━━━━━━━\u001b[0m\u001b[37m\u001b[0m \u001b[1m37s\u001b[0m 29ms/step - loss: 0.3224 - mae: 0.4028 - val_loss: 0.1639 - val_mae: 0.2929\n",
      "Epoch 6/1000\n",
      "\u001b[1m1250/1250\u001b[0m \u001b[32m━━━━━━━━━━━━━━━━━━━━\u001b[0m\u001b[37m\u001b[0m \u001b[1m37s\u001b[0m 30ms/step - loss: 0.3239 - mae: 0.4044 - val_loss: 0.1604 - val_mae: 0.2876\n",
      "Epoch 7/1000\n",
      "\u001b[1m1250/1250\u001b[0m \u001b[32m━━━━━━━━━━━━━━━━━━━━\u001b[0m\u001b[37m\u001b[0m \u001b[1m44s\u001b[0m 32ms/step - loss: 0.3215 - mae: 0.4042 - val_loss: 0.1635 - val_mae: 0.2923\n"
     ]
    }
   ],
   "source": [
    "early_stop = tf.keras.callbacks.EarlyStopping(monitor=\"val_loss\", patience=5)\n",
    "history = model.fit(\n",
    "    X_train, y_train,\n",
    "    validation_data=(X_val, y_val),\n",
    "    epochs=1000,\n",
    "    batch_size=64,\n",
    "    callbacks=[early_stop]\n",
    ")"
   ]
  },
  {
   "cell_type": "code",
   "execution_count": 49,
   "id": "7677408c-c437-4a8a-b5fd-cf227ea3baad",
   "metadata": {},
   "outputs": [
    {
     "data": {
      "image/png": "[encoded data removed]",
      "text/plain": [
       "<Figure size 640x480 with 1 Axes>"
      ]
     },
     "metadata": {},
     "output_type": "display_data"
    },
    {
     "data": {
      "image/png": "[encoded data removed]",
      "text/plain": [
       "<Figure size 640x480 with 1 Axes>"
      ]
     },
     "metadata": {},
     "output_type": "display_data"
    }
   ],
   "source": [
    "\n",
    "import matplotlib.pyplot as plt\n",
    "\n",
    "# 假设 history 是 model.fit 返回的 History 对象\n",
    "loss = history.history['loss']\n",
    "val_loss = history.history['val_loss']\n",
    "mae = history.history['mae']\n",
    "val_mae = history.history['val_mae']\n",
    "epochs = range(1, len(loss) + 1)\n",
    "\n",
    "plt.figure()\n",
    "plt.plot(epochs, loss,    label='Train Loss')\n",
    "plt.plot(epochs, val_loss, label='Val Loss')\n",
    "plt.xlabel('Epoch'); plt.ylabel('Loss')\n",
    "plt.legend()\n",
    "plt.title('Train vs Val Loss')\n",
    "\n",
    "plt.figure()\n",
    "plt.plot(epochs, mae,    label='Train MAE')\n",
    "plt.plot(epochs, val_mae, label='Val MAE')\n",
    "plt.xlabel('Epoch'); plt.ylabel('MAE')\n",
    "plt.legend()\n",
    "plt.title('Train vs Val MAE')\n",
    "\n",
    "plt.show()"
   ]
  },
  {
   "cell_type": "code",
   "execution_count": 51,
   "id": "637cb62f-a9ff-4e02-8dc7-21083059feeb",
   "metadata": {},
   "outputs": [
    {
     "name": "stdout",
     "output_type": "stream",
     "text": [
      "\u001b[1m313/313\u001b[0m \u001b[32m━━━━━━━━━━━━━━━━━━━━\u001b[0m\u001b[37m\u001b[0m \u001b[1m3s\u001b[0m 7ms/step\n"
     ]
    },
    {
     "data": {
      "image/png": "[encoded data removed]",
      "text/plain": [
       "<Figure size 640x480 with 1 Axes>"
      ]
     },
     "metadata": {},
     "output_type": "display_data"
    }
   ],
   "source": [
    "import numpy as np\n",
    "import matplotlib.pyplot as plt\n",
    "\n",
    "# 假设 x_val, y_val 是验证集输入和真实输出\n",
    "y_pred = model.predict(X_val).flatten()\n",
    "y_true = y_val.flatten()\n",
    "\n",
    "plt.figure()\n",
    "plt.scatter(y_true, y_pred, alpha=0.3)\n",
    "plt.plot([y_true.min(), y_true.max()],\n",
    "         [y_true.min(), y_true.max()],\n",
    "         'r--', linewidth=2)\n",
    "plt.xlabel('True Values'); plt.ylabel('Predicted Values')\n",
    "plt.title('Predicted vs True on Validation Set')\n",
    "plt.show()"
   ]
  },
  {
   "cell_type": "code",
   "execution_count": 52,
   "id": "9125c097-0f37-4e24-ac42-8fa06166bcbf",
   "metadata": {},
   "outputs": [
    {
     "data": {
      "image/png": "[encoded data removed]",
      "text/plain": [
       "<Figure size 640x480 with 1 Axes>"
      ]
     },
     "metadata": {},
     "output_type": "display_data"
    }
   ],
   "source": [
    "errors = y_pred - y_true\n",
    "plt.figure()\n",
    "plt.hist(errors, bins=50, edgecolor='k', alpha=0.7)\n",
    "plt.xlabel('Prediction Error'); plt.ylabel('Count')\n",
    "plt.title('Error Distribution on Validation Set')\n",
    "plt.show()"
   ]
  },
  {
   "cell_type": "code",
   "execution_count": 53,
   "id": "0ae72046-64fe-401c-a720-65daa2ff5561",
   "metadata": {},
   "outputs": [
    {
     "name": "stdout",
     "output_type": "stream",
     "text": [
      "MSE: 0.1635\n",
      "MAE: 0.2923\n",
      "R²:  -0.0221\n"
     ]
    }
   ],
   "source": [
    "from sklearn.metrics import mean_squared_error, mean_absolute_error, r2_score\n",
    "\n",
    "mse = mean_squared_error(y_true, y_pred)\n",
    "mae = mean_absolute_error(y_true, y_pred)\n",
    "r2  = r2_score(y_true, y_pred)\n",
    "\n",
    "print(f\"MSE: {mse:.4f}\")\n",
    "print(f\"MAE: {mae:.4f}\")\n",
    "print(f\"R²:  {r2:.4f}\")"
   ]
  },
  {
   "cell_type": "code",
   "execution_count": null,
   "id": "25e07727-2845-46df-8ab9-44407ea82472",
   "metadata": {},
   "outputs": [],
   "source": [
    "from tensorflow.keras.callbacks import TensorBoard, ModelCheckpoint\n",
    "\n",
    "tb_cb = TensorBoard(log_dir='./logs', histogram_freq=1)\n",
    "ckpt  = ModelCheckpoint('best_weights.h5',\n",
    "                        monitor='val_loss',\n",
    "                        save_best_only=True,\n",
    "                        mode='min')\n",
    "\n",
    "history = model.fit(x_train, y_train,\n",
    "                    epochs=1000,\n",
    "                    validation_data=(x_val, y_val),\n",
    "                    callbacks=[tb_cb, ckpt])"
   ]
  },
  {
   "cell_type": "code",
   "execution_count": null,
   "id": "197ca0b2-7a6c-4c67-af25-26efebfa81cc",
   "metadata": {},
   "outputs": [],
   "source": []
  },
  {
   "cell_type": "code",
   "execution_count": 113,
   "id": "77a1d445-2dba-478d-b241-4bc9067d4ce6",
   "metadata": {},
   "outputs": [],
   "source": [
    "cnn_lstm_model.save(\"./mode/cnn_lstm_model.keras\")"
   ]
  },
  {
   "cell_type": "code",
   "execution_count": 122,
   "id": "3a3f5a4c-b66c-45bb-b200-cfb3e4b9151a",
   "metadata": {},
   "outputs": [
    {
     "data": {
      "image/png": "[encoded data removed]",
      "text/plain": [
       "<Figure size 1000x600 with 1 Axes>"
      ]
     },
     "metadata": {},
     "output_type": "display_data"
    }
   ],
   "source": [
    "plt.figure(figsize=(10, 6))\n",
    "plt.plot(history.history[\"loss\"], label=\"Train Loss\")\n",
    "plt.plot(history.history[\"val_loss\"], label=\"Validation Loss\")\n",
    "plt.title(\"CNN-LSTM Training Progress\")\n",
    "plt.xlabel(\"Epoch\")\n",
    "plt.ylabel(\"MSE\")\n",
    "plt.legend()\n",
    "plt.grid(True)\n",
    "plt.show()"
   ]
  },
  {
   "cell_type": "code",
   "execution_count": 123,
   "id": "f334c6af-10ba-43a5-9e59-6057cf5784f8",
   "metadata": {},
   "outputs": [
    {
     "name": "stdout",
     "output_type": "stream",
     "text": [
      "模型层名称: ['input_layer_16', 'conv1d_15', 'max_pooling1d_14', 'bidirectional_14', 'dense_29', 'dense_30', 'attention_14', 'lambda_2', 'lstm_pred']\n"
     ]
    }
   ],
   "source": [
    "print(\"模型层名称:\", [layer.name for layer in model.layers])"
   ]
  },
  {
   "cell_type": "code",
   "execution_count": 124,
   "id": "602f7522-644a-4f35-a2fe-1e59b04cea87",
   "metadata": {},
   "outputs": [
    {
     "name": "stdout",
     "output_type": "stream",
     "text": [
      "\u001b[1m2500/2500\u001b[0m \u001b[32m━━━━━━━━━━━━━━━━━━━━\u001b[0m\u001b[37m\u001b[0m \u001b[1m17s\u001b[0m 7ms/step\n",
      "\u001b[1m313/313\u001b[0m \u001b[32m━━━━━━━━━━━━━━━━━━━━\u001b[0m\u001b[37m\u001b[0m \u001b[1m3s\u001b[0m 10ms/step\n"
     ]
    }
   ],
   "source": [
    "import tensorflow as tf\n",
    "\n",
    "# 定义编码模型（提取双向LSTM层输出）\n",
    "encoder_model = tf.keras.Model(\n",
    "    inputs=model.input,  # 输入层名称：input_layer_16\n",
    "    outputs=model.get_layer(\"bidirectional_14\").output  # 双向LSTM层\n",
    ")\n",
    "\n",
    "# 提取训练集和验证集的编码特征\n",
    "cnn_lstm_train = encoder_model.predict(X_train)  # 形状：(样本数, 29, 256)\n",
    "cnn_lstm_val = encoder_model.predict(X_val)      # 形状：(样本数, 29, 256)"
   ]
  },
  {
   "cell_type": "code",
   "execution_count": 129,
   "id": "04105594-378d-4d85-8388-5591d0b16ed7",
   "metadata": {},
   "outputs": [],
   "source": [
    "arima_train = merged_df[\"arima_residual\"].values[60:-30][:len(y_train)]\n",
    "arima_val = merged_df[\"arima_residual\"].values[60:-30][len(y_train):len(y_train)+len(y_val)]\n",
    "\n",
    "raw_train = merged_df[[\"open\", \"high\", \"low\", \"close\", \"volume\", \"RSI\"]].values[60:-30][:len(y_train)]\n",
    "raw_val = merged_df[[\"open\", \"high\", \"low\", \"close\", \"volume\", \"RSI\"]].values[60:-30][len(y_train):len(y_train)+len(y_val)]"
   ]
  },
  {
   "cell_type": "code",
   "execution_count": 132,
   "id": "afed64ba-30ce-4028-be93-adeea6dc4716",
   "metadata": {},
   "outputs": [
    {
     "name": "stdout",
     "output_type": "stream",
     "text": [
      "双向LSTM层输出形状: (None, 29, 256)\n"
     ]
    }
   ],
   "source": [
    "print(\"双向LSTM层输出形状:\", encoder_model.output_shape)  # 应为 (None, 29, 256)"
   ]
  },
  {
   "cell_type": "code",
   "execution_count": 134,
   "id": "d0aa8e69-a4fd-482e-82b3-6aff85baa753",
   "metadata": {},
   "outputs": [
    {
     "name": "stdout",
     "output_type": "stream",
     "text": [
      "\u001b[1m2500/2500\u001b[0m \u001b[32m━━━━━━━━━━━━━━━━━━━━\u001b[0m\u001b[37m\u001b[0m \u001b[1m17s\u001b[0m 7ms/step\n",
      "\u001b[1m313/313\u001b[0m \u001b[32m━━━━━━━━━━━━━━━━━━━━\u001b[0m\u001b[37m\u001b[0m \u001b[1m2s\u001b[0m 8ms/step\n"
     ]
    }
   ],
   "source": [
    "encoder_model = tf.keras.Model(\n",
    "    inputs=model.get_layer(\"input_layer_16\").output,\n",
    "    outputs=model.get_layer(\"bidirectional_14\").output\n",
    ")\n",
    "\n",
    "# 生成编码特征（3D）\n",
    "cnn_lstm_train_3d = encoder_model.predict(X_train)  # 形状: (80000, 29, 256)\n",
    "cnn_lstm_val_3d = encoder_model.predict(X_val)      # 形状: (10000, 29, 256)\n",
    "\n",
    "# 沿时间轴取均值（降为2D）\n",
    "cnn_lstm_train = np.mean(cnn_lstm_train_3d, axis=1)  # 形状: (80000, 256)\n",
    "cnn_lstm_val = np.mean(cnn_lstm_val_3d, axis=1)      # 形状: (10000, 256)\n"
   ]
  },
  {
   "cell_type": "code",
   "execution_count": 136,
   "id": "cd0ab9aa-e5db-4b83-9015-ce23b48d34de",
   "metadata": {},
   "outputs": [],
   "source": [
    "# ====== 2. 提取ARIMA残差和原始特征 ======\n",
    "# 假设已对齐时间窗口\n",
    "arima_train = merged_df[\"arima_residual\"].values[60:-30][:len(y_train)]  # 形状: (80000,)\n",
    "arima_val = merged_df[\"arima_residual\"].values[60:-30][len(y_train):len(y_train)+len(y_val)]  # 形状: (10000,)\n",
    "\n",
    "raw_train = merged_df[[\"open\", \"high\", \"low\", \"close\", \"volume\", \"RSI\"]].values[60:-30][:len(y_train)]  # 形状: (80000, 6)\n",
    "raw_val = merged_df[[\"open\", \"high\", \"low\", \"close\", \"volume\", \"RSI\"]].values[60:-30][len(y_train):len(y_train)+len(y_val)]  # 形状: (10000, 6)\n"
   ]
  },
  {
   "cell_type": "code",
   "execution_count": 137,
   "id": "2dc2303e-b84f-4c85-b80b-bb4afb08c35f",
   "metadata": {},
   "outputs": [],
   "source": [
    "# ====== 3. 合并特征 ======\n",
    "X_train_boost = np.hstack([\n",
    "    cnn_lstm_train,\n",
    "    arima_train.reshape(-1,1),\n",
    "    raw_train\n",
    "])\n",
    "\n",
    "X_val_boost = np.hstack([\n",
    "    cnn_lstm_val,\n",
    "    arima_val.reshape(-1,1),\n",
    "    raw_val\n",
    "])"
   ]
  },
  {
   "cell_type": "code",
   "execution_count": 138,
   "id": "fd7bf29a-da53-403e-a067-a63f023425a2",
   "metadata": {},
   "outputs": [
    {
     "name": "stdout",
     "output_type": "stream",
     "text": [
      "训练集维度: (80000, 263)\n",
      "验证集维度: (10000, 263)\n"
     ]
    }
   ],
   "source": [
    "print(\"训练集维度:\", X_train_boost.shape)  # (80000, 256 + 1 + 6 = 263)\n",
    "print(\"验证集维度:\", X_val_boost.shape)    # (10000, 263)\n"
   ]
  },
  {
   "cell_type": "code",
   "execution_count": 139,
   "id": "0294763b-a598-4ff0-9e52-b5a187ce94df",
   "metadata": {},
   "outputs": [],
   "source": [
    "scaler = StandardScaler()\n",
    "X_train_boost_scaled = scaler.fit_transform(X_train_boost)\n",
    "X_val_boost_scaled = scaler.transform(X_val_boost)\n"
   ]
  },
  {
   "cell_type": "code",
   "execution_count": 140,
   "id": "708d2174-5196-4496-985e-4609aea09ab3",
   "metadata": {},
   "outputs": [
    {
     "name": "stdout",
     "output_type": "stream",
     "text": [
      "[0]\tvalidation_0-rmse:0.40019\n",
      "[1]\tvalidation_0-rmse:0.40021\n",
      "[2]\tvalidation_0-rmse:0.40023\n",
      "[3]\tvalidation_0-rmse:0.40030\n",
      "[4]\tvalidation_0-rmse:0.40037\n",
      "[5]\tvalidation_0-rmse:0.40039\n",
      "[6]\tvalidation_0-rmse:0.40046\n",
      "[7]\tvalidation_0-rmse:0.40048\n",
      "[8]\tvalidation_0-rmse:0.40053\n",
      "[9]\tvalidation_0-rmse:0.40064\n",
      "[10]\tvalidation_0-rmse:0.40065\n"
     ]
    },
    {
     "data": {
      "text/html": [
       "<style>#sk-container-id-1 {\n",
       "  /* Definition of color scheme common for light and dark mode */\n",
       "  --sklearn-color-text: #000;\n",
       "  --sklearn-color-text-muted: #666;\n",
       "  --sklearn-color-line: gray;\n",
       "  /* Definition of color scheme for unfitted estimators */\n",
       "  --sklearn-color-unfitted-level-0: #fff5e6;\n",
       "  --sklearn-color-unfitted-level-1: #f6e4d2;\n",
       "  --sklearn-color-unfitted-level-2: #ffe0b3;\n",
       "  --sklearn-color-unfitted-level-3: chocolate;\n",
       "  /* Definition of color scheme for fitted estimators */\n",
       "  --sklearn-color-fitted-level-0: #f0f8ff;\n",
       "  --sklearn-color-fitted-level-1: #d4ebff;\n",
       "  --sklearn-color-fitted-level-2: #b3dbfd;\n",
       "  --sklearn-color-fitted-level-3: cornflowerblue;\n",
       "\n",
       "  /* Specific color for light theme */\n",
       "  --sklearn-color-text-on-default-background: var(--sg-text-color, var(--theme-code-foreground, var(--jp-content-font-color1, black)));\n",
       "  --sklearn-color-background: var(--sg-background-color, var(--theme-background, var(--jp-layout-color0, white)));\n",
       "  --sklearn-color-border-box: var(--sg-text-color, var(--theme-code-foreground, var(--jp-content-font-color1, black)));\n",
       "  --sklearn-color-icon: #696969;\n",
       "\n",
       "  @media (prefers-color-scheme: dark) {\n",
       "    /* Redefinition of color scheme for dark theme */\n",
       "    --sklearn-color-text-on-default-background: var(--sg-text-color, var(--theme-code-foreground, var(--jp-content-font-color1, white)));\n",
       "    --sklearn-color-background: var(--sg-background-color, var(--theme-background, var(--jp-layout-color0, #111)));\n",
       "    --sklearn-color-border-box: var(--sg-text-color, var(--theme-code-foreground, var(--jp-content-font-color1, white)));\n",
       "    --sklearn-color-icon: #878787;\n",
       "  }\n",
       "}\n",
       "\n",
       "#sk-container-id-1 {\n",
       "  color: var(--sklearn-color-text);\n",
       "}\n",
       "\n",
       "#sk-container-id-1 pre {\n",
       "  padding: 0;\n",
       "}\n",
       "\n",
       "#sk-container-id-1 input.sk-hidden--visually {\n",
       "  border: 0;\n",
       "  clip: rect(1px 1px 1px 1px);\n",
       "  clip: rect(1px, 1px, 1px, 1px);\n",
       "  height: 1px;\n",
       "  margin: -1px;\n",
       "  overflow: hidden;\n",
       "  padding: 0;\n",
       "  position: absolute;\n",
       "  width: 1px;\n",
       "}\n",
       "\n",
       "#sk-container-id-1 div.sk-dashed-wrapped {\n",
       "  border: 1px dashed var(--sklearn-color-line);\n",
       "  margin: 0 0.4em 0.5em 0.4em;\n",
       "  box-sizing: border-box;\n",
       "  padding-bottom: 0.4em;\n",
       "  background-color: var(--sklearn-color-background);\n",
       "}\n",
       "\n",
       "#sk-container-id-1 div.sk-container {\n",
       "  /* jupyter's `normalize.less` sets `[hidden] { display: none; }`\n",
       "     but bootstrap.min.css set `[hidden] { display: none !important; }`\n",
       "     so we also need the `!important` here to be able to override the\n",
       "     default hidden behavior on the sphinx rendered scikit-learn.org.\n",
       "     See: https://github.com/scikit-learn/scikit-learn/issues/21755 */\n",
       "  display: inline-block !important;\n",
       "  position: relative;\n",
       "}\n",
       "\n",
       "#sk-container-id-1 div.sk-text-repr-fallback {\n",
       "  display: none;\n",
       "}\n",
       "\n",
       "div.sk-parallel-item,\n",
       "div.sk-serial,\n",
       "div.sk-item {\n",
       "  /* draw centered vertical line to link estimators */\n",
       "  background-image: linear-gradient(var(--sklearn-color-text-on-default-background), var(--sklearn-color-text-on-default-background));\n",
       "  background-size: 2px 100%;\n",
       "  background-repeat: no-repeat;\n",
       "  background-position: center center;\n",
       "}\n",
       "\n",
       "/* Parallel-specific style estimator block */\n",
       "\n",
       "#sk-container-id-1 div.sk-parallel-item::after {\n",
       "  content: \"\";\n",
       "  width: 100%;\n",
       "  border-bottom: 2px solid var(--sklearn-color-text-on-default-background);\n",
       "  flex-grow: 1;\n",
       "}\n",
       "\n",
       "#sk-container-id-1 div.sk-parallel {\n",
       "  display: flex;\n",
       "  align-items: stretch;\n",
       "  justify-content: center;\n",
       "  background-color: var(--sklearn-color-background);\n",
       "  position: relative;\n",
       "}\n",
       "\n",
       "#sk-container-id-1 div.sk-parallel-item {\n",
       "  display: flex;\n",
       "  flex-direction: column;\n",
       "}\n",
       "\n",
       "#sk-container-id-1 div.sk-parallel-item:first-child::after {\n",
       "  align-self: flex-end;\n",
       "  width: 50%;\n",
       "}\n",
       "\n",
       "#sk-container-id-1 div.sk-parallel-item:last-child::after {\n",
       "  align-self: flex-start;\n",
       "  width: 50%;\n",
       "}\n",
       "\n",
       "#sk-container-id-1 div.sk-parallel-item:only-child::after {\n",
       "  width: 0;\n",
       "}\n",
       "\n",
       "/* Serial-specific style estimator block */\n",
       "\n",
       "#sk-container-id-1 div.sk-serial {\n",
       "  display: flex;\n",
       "  flex-direction: column;\n",
       "  align-items: center;\n",
       "  background-color: var(--sklearn-color-background);\n",
       "  padding-right: 1em;\n",
       "  padding-left: 1em;\n",
       "}\n",
       "\n",
       "\n",
       "/* Toggleable style: style used for estimator/Pipeline/ColumnTransformer box that is\n",
       "clickable and can be expanded/collapsed.\n",
       "- Pipeline and ColumnTransformer use this feature and define the default style\n",
       "- Estimators will overwrite some part of the style using the `sk-estimator` class\n",
       "*/\n",
       "\n",
       "/* Pipeline and ColumnTransformer style (default) */\n",
       "\n",
       "#sk-container-id-1 div.sk-toggleable {\n",
       "  /* Default theme specific background. It is overwritten whether we have a\n",
       "  specific estimator or a Pipeline/ColumnTransformer */\n",
       "  background-color: var(--sklearn-color-background);\n",
       "}\n",
       "\n",
       "/* Toggleable label */\n",
       "#sk-container-id-1 label.sk-toggleable__label {\n",
       "  cursor: pointer;\n",
       "  display: flex;\n",
       "  width: 100%;\n",
       "  margin-bottom: 0;\n",
       "  padding: 0.5em;\n",
       "  box-sizing: border-box;\n",
       "  text-align: center;\n",
       "  align-items: start;\n",
       "  justify-content: space-between;\n",
       "  gap: 0.5em;\n",
       "}\n",
       "\n",
       "#sk-container-id-1 label.sk-toggleable__label .caption {\n",
       "  font-size: 0.6rem;\n",
       "  font-weight: lighter;\n",
       "  color: var(--sklearn-color-text-muted);\n",
       "}\n",
       "\n",
       "#sk-container-id-1 label.sk-toggleable__label-arrow:before {\n",
       "  /* Arrow on the left of the label */\n",
       "  content: \"▸\";\n",
       "  float: left;\n",
       "  margin-right: 0.25em;\n",
       "  color: var(--sklearn-color-icon);\n",
       "}\n",
       "\n",
       "#sk-container-id-1 label.sk-toggleable__label-arrow:hover:before {\n",
       "  color: var(--sklearn-color-text);\n",
       "}\n",
       "\n",
       "/* Toggleable content - dropdown */\n",
       "\n",
       "#sk-container-id-1 div.sk-toggleable__content {\n",
       "  max-height: 0;\n",
       "  max-width: 0;\n",
       "  overflow: hidden;\n",
       "  text-align: left;\n",
       "  /* unfitted */\n",
       "  background-color: var(--sklearn-color-unfitted-level-0);\n",
       "}\n",
       "\n",
       "#sk-container-id-1 div.sk-toggleable__content.fitted {\n",
       "  /* fitted */\n",
       "  background-color: var(--sklearn-color-fitted-level-0);\n",
       "}\n",
       "\n",
       "#sk-container-id-1 div.sk-toggleable__content pre {\n",
       "  margin: 0.2em;\n",
       "  border-radius: 0.25em;\n",
       "  color: var(--sklearn-color-text);\n",
       "  /* unfitted */\n",
       "  background-color: var(--sklearn-color-unfitted-level-0);\n",
       "}\n",
       "\n",
       "#sk-container-id-1 div.sk-toggleable__content.fitted pre {\n",
       "  /* unfitted */\n",
       "  background-color: var(--sklearn-color-fitted-level-0);\n",
       "}\n",
       "\n",
       "#sk-container-id-1 input.sk-toggleable__control:checked~div.sk-toggleable__content {\n",
       "  /* Expand drop-down */\n",
       "  max-height: 200px;\n",
       "  max-width: 100%;\n",
       "  overflow: auto;\n",
       "}\n",
       "\n",
       "#sk-container-id-1 input.sk-toggleable__control:checked~label.sk-toggleable__label-arrow:before {\n",
       "  content: \"▾\";\n",
       "}\n",
       "\n",
       "/* Pipeline/ColumnTransformer-specific style */\n",
       "\n",
       "#sk-container-id-1 div.sk-label input.sk-toggleable__control:checked~label.sk-toggleable__label {\n",
       "  color: var(--sklearn-color-text);\n",
       "  background-color: var(--sklearn-color-unfitted-level-2);\n",
       "}\n",
       "\n",
       "#sk-container-id-1 div.sk-label.fitted input.sk-toggleable__control:checked~label.sk-toggleable__label {\n",
       "  background-color: var(--sklearn-color-fitted-level-2);\n",
       "}\n",
       "\n",
       "/* Estimator-specific style */\n",
       "\n",
       "/* Colorize estimator box */\n",
       "#sk-container-id-1 div.sk-estimator input.sk-toggleable__control:checked~label.sk-toggleable__label {\n",
       "  /* unfitted */\n",
       "  background-color: var(--sklearn-color-unfitted-level-2);\n",
       "}\n",
       "\n",
       "#sk-container-id-1 div.sk-estimator.fitted input.sk-toggleable__control:checked~label.sk-toggleable__label {\n",
       "  /* fitted */\n",
       "  background-color: var(--sklearn-color-fitted-level-2);\n",
       "}\n",
       "\n",
       "#sk-container-id-1 div.sk-label label.sk-toggleable__label,\n",
       "#sk-container-id-1 div.sk-label label {\n",
       "  /* The background is the default theme color */\n",
       "  color: var(--sklearn-color-text-on-default-background);\n",
       "}\n",
       "\n",
       "/* On hover, darken the color of the background */\n",
       "#sk-container-id-1 div.sk-label:hover label.sk-toggleable__label {\n",
       "  color: var(--sklearn-color-text);\n",
       "  background-color: var(--sklearn-color-unfitted-level-2);\n",
       "}\n",
       "\n",
       "/* Label box, darken color on hover, fitted */\n",
       "#sk-container-id-1 div.sk-label.fitted:hover label.sk-toggleable__label.fitted {\n",
       "  color: var(--sklearn-color-text);\n",
       "  background-color: var(--sklearn-color-fitted-level-2);\n",
       "}\n",
       "\n",
       "/* Estimator label */\n",
       "\n",
       "#sk-container-id-1 div.sk-label label {\n",
       "  font-family: monospace;\n",
       "  font-weight: bold;\n",
       "  display: inline-block;\n",
       "  line-height: 1.2em;\n",
       "}\n",
       "\n",
       "#sk-container-id-1 div.sk-label-container {\n",
       "  text-align: center;\n",
       "}\n",
       "\n",
       "/* Estimator-specific */\n",
       "#sk-container-id-1 div.sk-estimator {\n",
       "  font-family: monospace;\n",
       "  border: 1px dotted var(--sklearn-color-border-box);\n",
       "  border-radius: 0.25em;\n",
       "  box-sizing: border-box;\n",
       "  margin-bottom: 0.5em;\n",
       "  /* unfitted */\n",
       "  background-color: var(--sklearn-color-unfitted-level-0);\n",
       "}\n",
       "\n",
       "#sk-container-id-1 div.sk-estimator.fitted {\n",
       "  /* fitted */\n",
       "  background-color: var(--sklearn-color-fitted-level-0);\n",
       "}\n",
       "\n",
       "/* on hover */\n",
       "#sk-container-id-1 div.sk-estimator:hover {\n",
       "  /* unfitted */\n",
       "  background-color: var(--sklearn-color-unfitted-level-2);\n",
       "}\n",
       "\n",
       "#sk-container-id-1 div.sk-estimator.fitted:hover {\n",
       "  /* fitted */\n",
       "  background-color: var(--sklearn-color-fitted-level-2);\n",
       "}\n",
       "\n",
       "/* Specification for estimator info (e.g. \"i\" and \"?\") */\n",
       "\n",
       "/* Common style for \"i\" and \"?\" */\n",
       "\n",
       ".sk-estimator-doc-link,\n",
       "a:link.sk-estimator-doc-link,\n",
       "a:visited.sk-estimator-doc-link {\n",
       "  float: right;\n",
       "  font-size: smaller;\n",
       "  line-height: 1em;\n",
       "  font-family: monospace;\n",
       "  background-color: var(--sklearn-color-background);\n",
       "  border-radius: 1em;\n",
       "  height: 1em;\n",
       "  width: 1em;\n",
       "  text-decoration: none !important;\n",
       "  margin-left: 0.5em;\n",
       "  text-align: center;\n",
       "  /* unfitted */\n",
       "  border: var(--sklearn-color-unfitted-level-1) 1pt solid;\n",
       "  color: var(--sklearn-color-unfitted-level-1);\n",
       "}\n",
       "\n",
       ".sk-estimator-doc-link.fitted,\n",
       "a:link.sk-estimator-doc-link.fitted,\n",
       "a:visited.sk-estimator-doc-link.fitted {\n",
       "  /* fitted */\n",
       "  border: var(--sklearn-color-fitted-level-1) 1pt solid;\n",
       "  color: var(--sklearn-color-fitted-level-1);\n",
       "}\n",
       "\n",
       "/* On hover */\n",
       "div.sk-estimator:hover .sk-estimator-doc-link:hover,\n",
       ".sk-estimator-doc-link:hover,\n",
       "div.sk-label-container:hover .sk-estimator-doc-link:hover,\n",
       ".sk-estimator-doc-link:hover {\n",
       "  /* unfitted */\n",
       "  background-color: var(--sklearn-color-unfitted-level-3);\n",
       "  color: var(--sklearn-color-background);\n",
       "  text-decoration: none;\n",
       "}\n",
       "\n",
       "div.sk-estimator.fitted:hover .sk-estimator-doc-link.fitted:hover,\n",
       ".sk-estimator-doc-link.fitted:hover,\n",
       "div.sk-label-container:hover .sk-estimator-doc-link.fitted:hover,\n",
       ".sk-estimator-doc-link.fitted:hover {\n",
       "  /* fitted */\n",
       "  background-color: var(--sklearn-color-fitted-level-3);\n",
       "  color: var(--sklearn-color-background);\n",
       "  text-decoration: none;\n",
       "}\n",
       "\n",
       "/* Span, style for the box shown on hovering the info icon */\n",
       ".sk-estimator-doc-link span {\n",
       "  display: none;\n",
       "  z-index: 9999;\n",
       "  position: relative;\n",
       "  font-weight: normal;\n",
       "  right: .2ex;\n",
       "  padding: .5ex;\n",
       "  margin: .5ex;\n",
       "  width: min-content;\n",
       "  min-width: 20ex;\n",
       "  max-width: 50ex;\n",
       "  color: var(--sklearn-color-text);\n",
       "  box-shadow: 2pt 2pt 4pt #999;\n",
       "  /* unfitted */\n",
       "  background: var(--sklearn-color-unfitted-level-0);\n",
       "  border: .5pt solid var(--sklearn-color-unfitted-level-3);\n",
       "}\n",
       "\n",
       ".sk-estimator-doc-link.fitted span {\n",
       "  /* fitted */\n",
       "  background: var(--sklearn-color-fitted-level-0);\n",
       "  border: var(--sklearn-color-fitted-level-3);\n",
       "}\n",
       "\n",
       ".sk-estimator-doc-link:hover span {\n",
       "  display: block;\n",
       "}\n",
       "\n",
       "/* \"?\"-specific style due to the `<a>` HTML tag */\n",
       "\n",
       "#sk-container-id-1 a.estimator_doc_link {\n",
       "  float: right;\n",
       "  font-size: 1rem;\n",
       "  line-height: 1em;\n",
       "  font-family: monospace;\n",
       "  background-color: var(--sklearn-color-background);\n",
       "  border-radius: 1rem;\n",
       "  height: 1rem;\n",
       "  width: 1rem;\n",
       "  text-decoration: none;\n",
       "  /* unfitted */\n",
       "  color: var(--sklearn-color-unfitted-level-1);\n",
       "  border: var(--sklearn-color-unfitted-level-1) 1pt solid;\n",
       "}\n",
       "\n",
       "#sk-container-id-1 a.estimator_doc_link.fitted {\n",
       "  /* fitted */\n",
       "  border: var(--sklearn-color-fitted-level-1) 1pt solid;\n",
       "  color: var(--sklearn-color-fitted-level-1);\n",
       "}\n",
       "\n",
       "/* On hover */\n",
       "#sk-container-id-1 a.estimator_doc_link:hover {\n",
       "  /* unfitted */\n",
       "  background-color: var(--sklearn-color-unfitted-level-3);\n",
       "  color: var(--sklearn-color-background);\n",
       "  text-decoration: none;\n",
       "}\n",
       "\n",
       "#sk-container-id-1 a.estimator_doc_link.fitted:hover {\n",
       "  /* fitted */\n",
       "  background-color: var(--sklearn-color-fitted-level-3);\n",
       "}\n",
       "</style><div id=\"sk-container-id-1\" class=\"sk-top-container\"><div class=\"sk-text-repr-fallback\"><pre>XGBRegressor(base_score=None, booster=None, callbacks=None,\n",
       "             colsample_bylevel=None, colsample_bynode=None,\n",
       "             colsample_bytree=None, device=None, early_stopping_rounds=10,\n",
       "             enable_categorical=False, eval_metric=&#x27;rmse&#x27;, feature_types=None,\n",
       "             feature_weights=None, gamma=None, grow_policy=None,\n",
       "             importance_type=None, interaction_constraints=None,\n",
       "             learning_rate=0.05, max_bin=None, max_cat_threshold=None,\n",
       "             max_cat_to_onehot=None, max_delta_step=None, max_depth=6,\n",
       "             max_leaves=None, min_child_weight=None, missing=nan,\n",
       "             monotone_constraints=None, multi_strategy=None, n_estimators=300,\n",
       "             n_jobs=None, num_parallel_tree=None, ...)</pre><b>In a Jupyter environment, please rerun this cell to show the HTML representation or trust the notebook. <br />On GitHub, the HTML representation is unable to render, please try loading this page with nbviewer.org.</b></div><div class=\"sk-container\" hidden><div class=\"sk-item\"><div class=\"sk-estimator fitted sk-toggleable\"><input class=\"sk-toggleable__control sk-hidden--visually\" id=\"sk-estimator-id-1\" type=\"checkbox\" checked><label for=\"sk-estimator-id-1\" class=\"sk-toggleable__label fitted sk-toggleable__label-arrow\"><div><div>XGBRegressor</div></div><div><a class=\"sk-estimator-doc-link fitted\" rel=\"noreferrer\" target=\"_blank\" href=\"https://xgboost.readthedocs.io/en/release_3.0.0/python/python_api.html#xgboost.XGBRegressor\">?<span>Documentation for XGBRegressor</span></a><span class=\"sk-estimator-doc-link fitted\">i<span>Fitted</span></span></div></label><div class=\"sk-toggleable__content fitted\"><pre>XGBRegressor(base_score=None, booster=None, callbacks=None,\n",
       "             colsample_bylevel=None, colsample_bynode=None,\n",
       "             colsample_bytree=None, device=None, early_stopping_rounds=10,\n",
       "             enable_categorical=False, eval_metric=&#x27;rmse&#x27;, feature_types=None,\n",
       "             feature_weights=None, gamma=None, grow_policy=None,\n",
       "             importance_type=None, interaction_constraints=None,\n",
       "             learning_rate=0.05, max_bin=None, max_cat_threshold=None,\n",
       "             max_cat_to_onehot=None, max_delta_step=None, max_depth=6,\n",
       "             max_leaves=None, min_child_weight=None, missing=nan,\n",
       "             monotone_constraints=None, multi_strategy=None, n_estimators=300,\n",
       "             n_jobs=None, num_parallel_tree=None, ...)</pre></div> </div></div></div></div>"
      ],
      "text/plain": [
       "XGBRegressor(base_score=None, booster=None, callbacks=None,\n",
       "             colsample_bylevel=None, colsample_bynode=None,\n",
       "             colsample_bytree=None, device=None, early_stopping_rounds=10,\n",
       "             enable_categorical=False, eval_metric='rmse', feature_types=None,\n",
       "             feature_weights=None, gamma=None, grow_policy=None,\n",
       "             importance_type=None, interaction_constraints=None,\n",
       "             learning_rate=0.05, max_bin=None, max_cat_threshold=None,\n",
       "             max_cat_to_onehot=None, max_delta_step=None, max_depth=6,\n",
       "             max_leaves=None, min_child_weight=None, missing=nan,\n",
       "             monotone_constraints=None, multi_strategy=None, n_estimators=300,\n",
       "             n_jobs=None, num_parallel_tree=None, ...)"
      ]
     },
     "execution_count": 140,
     "metadata": {},
     "output_type": "execute_result"
    }
   ],
   "source": [
    "import xgboost as xgb\n",
    "xgb_model = xgb.XGBRegressor(\n",
    "    max_depth=6, \n",
    "    n_estimators=300, \n",
    "    learning_rate=0.05,\n",
    "    early_stopping_rounds=10,\n",
    "    eval_metric=\"rmse\"\n",
    ")\n",
    "xgb_model.fit(\n",
    "    X_train_boost_scaled, y_train,\n",
    "    eval_set=[(X_val_boost_scaled, y_val)],\n",
    "    verbose=True\n",
    ")"
   ]
  },
  {
   "cell_type": "code",
   "execution_count": 141,
   "id": "78a8397a-0a75-499c-aa0b-0bd7b89bb02c",
   "metadata": {},
   "outputs": [
    {
     "name": "stdout",
     "output_type": "stream",
     "text": [
      "合并后特征维度: 263\n"
     ]
    }
   ],
   "source": [
    "print(\"合并后特征维度:\", X_train_boost.shape[1])  # 应为264 (256+1+7)"
   ]
  },
  {
   "cell_type": "code",
   "execution_count": 143,
   "id": "3a110183-42a4-46a2-a32d-475d4810e17d",
   "metadata": {},
   "outputs": [],
   "source": [
    "xgb_model = xgb.XGBRegressor(\n",
    "    max_depth=4,          # 降低复杂度，防止过拟合\n",
    "    n_estimators=1000,    # 增加树数量\n",
    "    learning_rate=0.01,   # 降低学习率\n",
    "    subsample=0.8,        # 随机采样样本\n",
    "    colsample_bytree=0.8, # 随机采样特征\n",
    "    early_stopping_rounds=20,  # 延长早停轮次\n",
    "    eval_metric=\"rmse\"\n",
    ")"
   ]
  },
  {
   "cell_type": "code",
   "execution_count": 144,
   "id": "aec2dea3-fe45-4261-b054-574c9ebeae9d",
   "metadata": {},
   "outputs": [
    {
     "name": "stdout",
     "output_type": "stream",
     "text": [
      "[0]\tvalidation_0-rmse:0.40017\n",
      "[1]\tvalidation_0-rmse:0.40016\n",
      "[2]\tvalidation_0-rmse:0.40015\n",
      "[3]\tvalidation_0-rmse:0.40015\n",
      "[4]\tvalidation_0-rmse:0.40015\n",
      "[5]\tvalidation_0-rmse:0.40014\n",
      "[6]\tvalidation_0-rmse:0.40013\n",
      "[7]\tvalidation_0-rmse:0.40012\n",
      "[8]\tvalidation_0-rmse:0.40012\n",
      "[9]\tvalidation_0-rmse:0.40012\n",
      "[10]\tvalidation_0-rmse:0.40012\n",
      "[11]\tvalidation_0-rmse:0.40012\n",
      "[12]\tvalidation_0-rmse:0.40011\n",
      "[13]\tvalidation_0-rmse:0.40011\n",
      "[14]\tvalidation_0-rmse:0.40011\n",
      "[15]\tvalidation_0-rmse:0.40010\n",
      "[16]\tvalidation_0-rmse:0.40011\n",
      "[17]\tvalidation_0-rmse:0.40010\n",
      "[18]\tvalidation_0-rmse:0.40010\n",
      "[19]\tvalidation_0-rmse:0.40009\n",
      "[20]\tvalidation_0-rmse:0.40009\n",
      "[21]\tvalidation_0-rmse:0.40008\n",
      "[22]\tvalidation_0-rmse:0.40007\n",
      "[23]\tvalidation_0-rmse:0.40007\n",
      "[24]\tvalidation_0-rmse:0.40006\n",
      "[25]\tvalidation_0-rmse:0.40006\n",
      "[26]\tvalidation_0-rmse:0.40006\n",
      "[27]\tvalidation_0-rmse:0.40005\n",
      "[28]\tvalidation_0-rmse:0.40004\n",
      "[29]\tvalidation_0-rmse:0.40005\n",
      "[30]\tvalidation_0-rmse:0.40005\n",
      "[31]\tvalidation_0-rmse:0.40005\n",
      "[32]\tvalidation_0-rmse:0.40005\n",
      "[33]\tvalidation_0-rmse:0.40005\n",
      "[34]\tvalidation_0-rmse:0.40005\n",
      "[35]\tvalidation_0-rmse:0.40005\n",
      "[36]\tvalidation_0-rmse:0.40005\n",
      "[37]\tvalidation_0-rmse:0.40005\n",
      "[38]\tvalidation_0-rmse:0.40006\n",
      "[39]\tvalidation_0-rmse:0.40006\n",
      "[40]\tvalidation_0-rmse:0.40006\n",
      "[41]\tvalidation_0-rmse:0.40006\n",
      "[42]\tvalidation_0-rmse:0.40006\n",
      "[43]\tvalidation_0-rmse:0.40006\n",
      "[44]\tvalidation_0-rmse:0.40005\n",
      "[45]\tvalidation_0-rmse:0.40004\n",
      "[46]\tvalidation_0-rmse:0.40004\n",
      "[47]\tvalidation_0-rmse:0.40004\n",
      "[48]\tvalidation_0-rmse:0.40004\n",
      "[49]\tvalidation_0-rmse:0.40003\n",
      "[50]\tvalidation_0-rmse:0.40003\n",
      "[51]\tvalidation_0-rmse:0.40004\n",
      "[52]\tvalidation_0-rmse:0.40004\n",
      "[53]\tvalidation_0-rmse:0.40003\n",
      "[54]\tvalidation_0-rmse:0.40003\n",
      "[55]\tvalidation_0-rmse:0.40004\n",
      "[56]\tvalidation_0-rmse:0.40004\n",
      "[57]\tvalidation_0-rmse:0.40005\n",
      "[58]\tvalidation_0-rmse:0.40006\n",
      "[59]\tvalidation_0-rmse:0.40006\n",
      "[60]\tvalidation_0-rmse:0.40005\n",
      "[61]\tvalidation_0-rmse:0.40005\n",
      "[62]\tvalidation_0-rmse:0.40005\n",
      "[63]\tvalidation_0-rmse:0.40005\n",
      "[64]\tvalidation_0-rmse:0.40005\n",
      "[65]\tvalidation_0-rmse:0.40005\n",
      "[66]\tvalidation_0-rmse:0.40004\n",
      "[67]\tvalidation_0-rmse:0.40004\n",
      "[68]\tvalidation_0-rmse:0.40004\n",
      "[69]\tvalidation_0-rmse:0.40004\n",
      "[70]\tvalidation_0-rmse:0.40005\n",
      "[71]\tvalidation_0-rmse:0.40006\n",
      "[72]\tvalidation_0-rmse:0.40006\n",
      "[73]\tvalidation_0-rmse:0.40005\n",
      "[74]\tvalidation_0-rmse:0.40005\n"
     ]
    },
    {
     "data": {
      "text/html": [
       "<style>#sk-container-id-2 {\n",
       "  /* Definition of color scheme common for light and dark mode */\n",
       "  --sklearn-color-text: #000;\n",
       "  --sklearn-color-text-muted: #666;\n",
       "  --sklearn-color-line: gray;\n",
       "  /* Definition of color scheme for unfitted estimators */\n",
       "  --sklearn-color-unfitted-level-0: #fff5e6;\n",
       "  --sklearn-color-unfitted-level-1: #f6e4d2;\n",
       "  --sklearn-color-unfitted-level-2: #ffe0b3;\n",
       "  --sklearn-color-unfitted-level-3: chocolate;\n",
       "  /* Definition of color scheme for fitted estimators */\n",
       "  --sklearn-color-fitted-level-0: #f0f8ff;\n",
       "  --sklearn-color-fitted-level-1: #d4ebff;\n",
       "  --sklearn-color-fitted-level-2: #b3dbfd;\n",
       "  --sklearn-color-fitted-level-3: cornflowerblue;\n",
       "\n",
       "  /* Specific color for light theme */\n",
       "  --sklearn-color-text-on-default-background: var(--sg-text-color, var(--theme-code-foreground, var(--jp-content-font-color1, black)));\n",
       "  --sklearn-color-background: var(--sg-background-color, var(--theme-background, var(--jp-layout-color0, white)));\n",
       "  --sklearn-color-border-box: var(--sg-text-color, var(--theme-code-foreground, var(--jp-content-font-color1, black)));\n",
       "  --sklearn-color-icon: #696969;\n",
       "\n",
       "  @media (prefers-color-scheme: dark) {\n",
       "    /* Redefinition of color scheme for dark theme */\n",
       "    --sklearn-color-text-on-default-background: var(--sg-text-color, var(--theme-code-foreground, var(--jp-content-font-color1, white)));\n",
       "    --sklearn-color-background: var(--sg-background-color, var(--theme-background, var(--jp-layout-color0, #111)));\n",
       "    --sklearn-color-border-box: var(--sg-text-color, var(--theme-code-foreground, var(--jp-content-font-color1, white)));\n",
       "    --sklearn-color-icon: #878787;\n",
       "  }\n",
       "}\n",
       "\n",
       "#sk-container-id-2 {\n",
       "  color: var(--sklearn-color-text);\n",
       "}\n",
       "\n",
       "#sk-container-id-2 pre {\n",
       "  padding: 0;\n",
       "}\n",
       "\n",
       "#sk-container-id-2 input.sk-hidden--visually {\n",
       "  border: 0;\n",
       "  clip: rect(1px 1px 1px 1px);\n",
       "  clip: rect(1px, 1px, 1px, 1px);\n",
       "  height: 1px;\n",
       "  margin: -1px;\n",
       "  overflow: hidden;\n",
       "  padding: 0;\n",
       "  position: absolute;\n",
       "  width: 1px;\n",
       "}\n",
       "\n",
       "#sk-container-id-2 div.sk-dashed-wrapped {\n",
       "  border: 1px dashed var(--sklearn-color-line);\n",
       "  margin: 0 0.4em 0.5em 0.4em;\n",
       "  box-sizing: border-box;\n",
       "  padding-bottom: 0.4em;\n",
       "  background-color: var(--sklearn-color-background);\n",
       "}\n",
       "\n",
       "#sk-container-id-2 div.sk-container {\n",
       "  /* jupyter's `normalize.less` sets `[hidden] { display: none; }`\n",
       "     but bootstrap.min.css set `[hidden] { display: none !important; }`\n",
       "     so we also need the `!important` here to be able to override the\n",
       "     default hidden behavior on the sphinx rendered scikit-learn.org.\n",
       "     See: https://github.com/scikit-learn/scikit-learn/issues/21755 */\n",
       "  display: inline-block !important;\n",
       "  position: relative;\n",
       "}\n",
       "\n",
       "#sk-container-id-2 div.sk-text-repr-fallback {\n",
       "  display: none;\n",
       "}\n",
       "\n",
       "div.sk-parallel-item,\n",
       "div.sk-serial,\n",
       "div.sk-item {\n",
       "  /* draw centered vertical line to link estimators */\n",
       "  background-image: linear-gradient(var(--sklearn-color-text-on-default-background), var(--sklearn-color-text-on-default-background));\n",
       "  background-size: 2px 100%;\n",
       "  background-repeat: no-repeat;\n",
       "  background-position: center center;\n",
       "}\n",
       "\n",
       "/* Parallel-specific style estimator block */\n",
       "\n",
       "#sk-container-id-2 div.sk-parallel-item::after {\n",
       "  content: \"\";\n",
       "  width: 100%;\n",
       "  border-bottom: 2px solid var(--sklearn-color-text-on-default-background);\n",
       "  flex-grow: 1;\n",
       "}\n",
       "\n",
       "#sk-container-id-2 div.sk-parallel {\n",
       "  display: flex;\n",
       "  align-items: stretch;\n",
       "  justify-content: center;\n",
       "  background-color: var(--sklearn-color-background);\n",
       "  position: relative;\n",
       "}\n",
       "\n",
       "#sk-container-id-2 div.sk-parallel-item {\n",
       "  display: flex;\n",
       "  flex-direction: column;\n",
       "}\n",
       "\n",
       "#sk-container-id-2 div.sk-parallel-item:first-child::after {\n",
       "  align-self: flex-end;\n",
       "  width: 50%;\n",
       "}\n",
       "\n",
       "#sk-container-id-2 div.sk-parallel-item:last-child::after {\n",
       "  align-self: flex-start;\n",
       "  width: 50%;\n",
       "}\n",
       "\n",
       "#sk-container-id-2 div.sk-parallel-item:only-child::after {\n",
       "  width: 0;\n",
       "}\n",
       "\n",
       "/* Serial-specific style estimator block */\n",
       "\n",
       "#sk-container-id-2 div.sk-serial {\n",
       "  display: flex;\n",
       "  flex-direction: column;\n",
       "  align-items: center;\n",
       "  background-color: var(--sklearn-color-background);\n",
       "  padding-right: 1em;\n",
       "  padding-left: 1em;\n",
       "}\n",
       "\n",
       "\n",
       "/* Toggleable style: style used for estimator/Pipeline/ColumnTransformer box that is\n",
       "clickable and can be expanded/collapsed.\n",
       "- Pipeline and ColumnTransformer use this feature and define the default style\n",
       "- Estimators will overwrite some part of the style using the `sk-estimator` class\n",
       "*/\n",
       "\n",
       "/* Pipeline and ColumnTransformer style (default) */\n",
       "\n",
       "#sk-container-id-2 div.sk-toggleable {\n",
       "  /* Default theme specific background. It is overwritten whether we have a\n",
       "  specific estimator or a Pipeline/ColumnTransformer */\n",
       "  background-color: var(--sklearn-color-background);\n",
       "}\n",
       "\n",
       "/* Toggleable label */\n",
       "#sk-container-id-2 label.sk-toggleable__label {\n",
       "  cursor: pointer;\n",
       "  display: flex;\n",
       "  width: 100%;\n",
       "  margin-bottom: 0;\n",
       "  padding: 0.5em;\n",
       "  box-sizing: border-box;\n",
       "  text-align: center;\n",
       "  align-items: start;\n",
       "  justify-content: space-between;\n",
       "  gap: 0.5em;\n",
       "}\n",
       "\n",
       "#sk-container-id-2 label.sk-toggleable__label .caption {\n",
       "  font-size: 0.6rem;\n",
       "  font-weight: lighter;\n",
       "  color: var(--sklearn-color-text-muted);\n",
       "}\n",
       "\n",
       "#sk-container-id-2 label.sk-toggleable__label-arrow:before {\n",
       "  /* Arrow on the left of the label */\n",
       "  content: \"▸\";\n",
       "  float: left;\n",
       "  margin-right: 0.25em;\n",
       "  color: var(--sklearn-color-icon);\n",
       "}\n",
       "\n",
       "#sk-container-id-2 label.sk-toggleable__label-arrow:hover:before {\n",
       "  color: var(--sklearn-color-text);\n",
       "}\n",
       "\n",
       "/* Toggleable content - dropdown */\n",
       "\n",
       "#sk-container-id-2 div.sk-toggleable__content {\n",
       "  max-height: 0;\n",
       "  max-width: 0;\n",
       "  overflow: hidden;\n",
       "  text-align: left;\n",
       "  /* unfitted */\n",
       "  background-color: var(--sklearn-color-unfitted-level-0);\n",
       "}\n",
       "\n",
       "#sk-container-id-2 div.sk-toggleable__content.fitted {\n",
       "  /* fitted */\n",
       "  background-color: var(--sklearn-color-fitted-level-0);\n",
       "}\n",
       "\n",
       "#sk-container-id-2 div.sk-toggleable__content pre {\n",
       "  margin: 0.2em;\n",
       "  border-radius: 0.25em;\n",
       "  color: var(--sklearn-color-text);\n",
       "  /* unfitted */\n",
       "  background-color: var(--sklearn-color-unfitted-level-0);\n",
       "}\n",
       "\n",
       "#sk-container-id-2 div.sk-toggleable__content.fitted pre {\n",
       "  /* unfitted */\n",
       "  background-color: var(--sklearn-color-fitted-level-0);\n",
       "}\n",
       "\n",
       "#sk-container-id-2 input.sk-toggleable__control:checked~div.sk-toggleable__content {\n",
       "  /* Expand drop-down */\n",
       "  max-height: 200px;\n",
       "  max-width: 100%;\n",
       "  overflow: auto;\n",
       "}\n",
       "\n",
       "#sk-container-id-2 input.sk-toggleable__control:checked~label.sk-toggleable__label-arrow:before {\n",
       "  content: \"▾\";\n",
       "}\n",
       "\n",
       "/* Pipeline/ColumnTransformer-specific style */\n",
       "\n",
       "#sk-container-id-2 div.sk-label input.sk-toggleable__control:checked~label.sk-toggleable__label {\n",
       "  color: var(--sklearn-color-text);\n",
       "  background-color: var(--sklearn-color-unfitted-level-2);\n",
       "}\n",
       "\n",
       "#sk-container-id-2 div.sk-label.fitted input.sk-toggleable__control:checked~label.sk-toggleable__label {\n",
       "  background-color: var(--sklearn-color-fitted-level-2);\n",
       "}\n",
       "\n",
       "/* Estimator-specific style */\n",
       "\n",
       "/* Colorize estimator box */\n",
       "#sk-container-id-2 div.sk-estimator input.sk-toggleable__control:checked~label.sk-toggleable__label {\n",
       "  /* unfitted */\n",
       "  background-color: var(--sklearn-color-unfitted-level-2);\n",
       "}\n",
       "\n",
       "#sk-container-id-2 div.sk-estimator.fitted input.sk-toggleable__control:checked~label.sk-toggleable__label {\n",
       "  /* fitted */\n",
       "  background-color: var(--sklearn-color-fitted-level-2);\n",
       "}\n",
       "\n",
       "#sk-container-id-2 div.sk-label label.sk-toggleable__label,\n",
       "#sk-container-id-2 div.sk-label label {\n",
       "  /* The background is the default theme color */\n",
       "  color: var(--sklearn-color-text-on-default-background);\n",
       "}\n",
       "\n",
       "/* On hover, darken the color of the background */\n",
       "#sk-container-id-2 div.sk-label:hover label.sk-toggleable__label {\n",
       "  color: var(--sklearn-color-text);\n",
       "  background-color: var(--sklearn-color-unfitted-level-2);\n",
       "}\n",
       "\n",
       "/* Label box, darken color on hover, fitted */\n",
       "#sk-container-id-2 div.sk-label.fitted:hover label.sk-toggleable__label.fitted {\n",
       "  color: var(--sklearn-color-text);\n",
       "  background-color: var(--sklearn-color-fitted-level-2);\n",
       "}\n",
       "\n",
       "/* Estimator label */\n",
       "\n",
       "#sk-container-id-2 div.sk-label label {\n",
       "  font-family: monospace;\n",
       "  font-weight: bold;\n",
       "  display: inline-block;\n",
       "  line-height: 1.2em;\n",
       "}\n",
       "\n",
       "#sk-container-id-2 div.sk-label-container {\n",
       "  text-align: center;\n",
       "}\n",
       "\n",
       "/* Estimator-specific */\n",
       "#sk-container-id-2 div.sk-estimator {\n",
       "  font-family: monospace;\n",
       "  border: 1px dotted var(--sklearn-color-border-box);\n",
       "  border-radius: 0.25em;\n",
       "  box-sizing: border-box;\n",
       "  margin-bottom: 0.5em;\n",
       "  /* unfitted */\n",
       "  background-color: var(--sklearn-color-unfitted-level-0);\n",
       "}\n",
       "\n",
       "#sk-container-id-2 div.sk-estimator.fitted {\n",
       "  /* fitted */\n",
       "  background-color: var(--sklearn-color-fitted-level-0);\n",
       "}\n",
       "\n",
       "/* on hover */\n",
       "#sk-container-id-2 div.sk-estimator:hover {\n",
       "  /* unfitted */\n",
       "  background-color: var(--sklearn-color-unfitted-level-2);\n",
       "}\n",
       "\n",
       "#sk-container-id-2 div.sk-estimator.fitted:hover {\n",
       "  /* fitted */\n",
       "  background-color: var(--sklearn-color-fitted-level-2);\n",
       "}\n",
       "\n",
       "/* Specification for estimator info (e.g. \"i\" and \"?\") */\n",
       "\n",
       "/* Common style for \"i\" and \"?\" */\n",
       "\n",
       ".sk-estimator-doc-link,\n",
       "a:link.sk-estimator-doc-link,\n",
       "a:visited.sk-estimator-doc-link {\n",
       "  float: right;\n",
       "  font-size: smaller;\n",
       "  line-height: 1em;\n",
       "  font-family: monospace;\n",
       "  background-color: var(--sklearn-color-background);\n",
       "  border-radius: 1em;\n",
       "  height: 1em;\n",
       "  width: 1em;\n",
       "  text-decoration: none !important;\n",
       "  margin-left: 0.5em;\n",
       "  text-align: center;\n",
       "  /* unfitted */\n",
       "  border: var(--sklearn-color-unfitted-level-1) 1pt solid;\n",
       "  color: var(--sklearn-color-unfitted-level-1);\n",
       "}\n",
       "\n",
       ".sk-estimator-doc-link.fitted,\n",
       "a:link.sk-estimator-doc-link.fitted,\n",
       "a:visited.sk-estimator-doc-link.fitted {\n",
       "  /* fitted */\n",
       "  border: var(--sklearn-color-fitted-level-1) 1pt solid;\n",
       "  color: var(--sklearn-color-fitted-level-1);\n",
       "}\n",
       "\n",
       "/* On hover */\n",
       "div.sk-estimator:hover .sk-estimator-doc-link:hover,\n",
       ".sk-estimator-doc-link:hover,\n",
       "div.sk-label-container:hover .sk-estimator-doc-link:hover,\n",
       ".sk-estimator-doc-link:hover {\n",
       "  /* unfitted */\n",
       "  background-color: var(--sklearn-color-unfitted-level-3);\n",
       "  color: var(--sklearn-color-background);\n",
       "  text-decoration: none;\n",
       "}\n",
       "\n",
       "div.sk-estimator.fitted:hover .sk-estimator-doc-link.fitted:hover,\n",
       ".sk-estimator-doc-link.fitted:hover,\n",
       "div.sk-label-container:hover .sk-estimator-doc-link.fitted:hover,\n",
       ".sk-estimator-doc-link.fitted:hover {\n",
       "  /* fitted */\n",
       "  background-color: var(--sklearn-color-fitted-level-3);\n",
       "  color: var(--sklearn-color-background);\n",
       "  text-decoration: none;\n",
       "}\n",
       "\n",
       "/* Span, style for the box shown on hovering the info icon */\n",
       ".sk-estimator-doc-link span {\n",
       "  display: none;\n",
       "  z-index: 9999;\n",
       "  position: relative;\n",
       "  font-weight: normal;\n",
       "  right: .2ex;\n",
       "  padding: .5ex;\n",
       "  margin: .5ex;\n",
       "  width: min-content;\n",
       "  min-width: 20ex;\n",
       "  max-width: 50ex;\n",
       "  color: var(--sklearn-color-text);\n",
       "  box-shadow: 2pt 2pt 4pt #999;\n",
       "  /* unfitted */\n",
       "  background: var(--sklearn-color-unfitted-level-0);\n",
       "  border: .5pt solid var(--sklearn-color-unfitted-level-3);\n",
       "}\n",
       "\n",
       ".sk-estimator-doc-link.fitted span {\n",
       "  /* fitted */\n",
       "  background: var(--sklearn-color-fitted-level-0);\n",
       "  border: var(--sklearn-color-fitted-level-3);\n",
       "}\n",
       "\n",
       ".sk-estimator-doc-link:hover span {\n",
       "  display: block;\n",
       "}\n",
       "\n",
       "/* \"?\"-specific style due to the `<a>` HTML tag */\n",
       "\n",
       "#sk-container-id-2 a.estimator_doc_link {\n",
       "  float: right;\n",
       "  font-size: 1rem;\n",
       "  line-height: 1em;\n",
       "  font-family: monospace;\n",
       "  background-color: var(--sklearn-color-background);\n",
       "  border-radius: 1rem;\n",
       "  height: 1rem;\n",
       "  width: 1rem;\n",
       "  text-decoration: none;\n",
       "  /* unfitted */\n",
       "  color: var(--sklearn-color-unfitted-level-1);\n",
       "  border: var(--sklearn-color-unfitted-level-1) 1pt solid;\n",
       "}\n",
       "\n",
       "#sk-container-id-2 a.estimator_doc_link.fitted {\n",
       "  /* fitted */\n",
       "  border: var(--sklearn-color-fitted-level-1) 1pt solid;\n",
       "  color: var(--sklearn-color-fitted-level-1);\n",
       "}\n",
       "\n",
       "/* On hover */\n",
       "#sk-container-id-2 a.estimator_doc_link:hover {\n",
       "  /* unfitted */\n",
       "  background-color: var(--sklearn-color-unfitted-level-3);\n",
       "  color: var(--sklearn-color-background);\n",
       "  text-decoration: none;\n",
       "}\n",
       "\n",
       "#sk-container-id-2 a.estimator_doc_link.fitted:hover {\n",
       "  /* fitted */\n",
       "  background-color: var(--sklearn-color-fitted-level-3);\n",
       "}\n",
       "</style><div id=\"sk-container-id-2\" class=\"sk-top-container\"><div class=\"sk-text-repr-fallback\"><pre>XGBRegressor(base_score=None, booster=None, callbacks=None,\n",
       "             colsample_bylevel=None, colsample_bynode=None,\n",
       "             colsample_bytree=0.8, device=None, early_stopping_rounds=20,\n",
       "             enable_categorical=False, eval_metric=&#x27;rmse&#x27;, feature_types=None,\n",
       "             feature_weights=None, gamma=None, grow_policy=None,\n",
       "             importance_type=None, interaction_constraints=None,\n",
       "             learning_rate=0.01, max_bin=None, max_cat_threshold=None,\n",
       "             max_cat_to_onehot=None, max_delta_step=None, max_depth=4,\n",
       "             max_leaves=None, min_child_weight=None, missing=nan,\n",
       "             monotone_constraints=None, multi_strategy=None, n_estimators=1000,\n",
       "             n_jobs=None, num_parallel_tree=None, ...)</pre><b>In a Jupyter environment, please rerun this cell to show the HTML representation or trust the notebook. <br />On GitHub, the HTML representation is unable to render, please try loading this page with nbviewer.org.</b></div><div class=\"sk-container\" hidden><div class=\"sk-item\"><div class=\"sk-estimator fitted sk-toggleable\"><input class=\"sk-toggleable__control sk-hidden--visually\" id=\"sk-estimator-id-2\" type=\"checkbox\" checked><label for=\"sk-estimator-id-2\" class=\"sk-toggleable__label fitted sk-toggleable__label-arrow\"><div><div>XGBRegressor</div></div><div><a class=\"sk-estimator-doc-link fitted\" rel=\"noreferrer\" target=\"_blank\" href=\"https://xgboost.readthedocs.io/en/release_3.0.0/python/python_api.html#xgboost.XGBRegressor\">?<span>Documentation for XGBRegressor</span></a><span class=\"sk-estimator-doc-link fitted\">i<span>Fitted</span></span></div></label><div class=\"sk-toggleable__content fitted\"><pre>XGBRegressor(base_score=None, booster=None, callbacks=None,\n",
       "             colsample_bylevel=None, colsample_bynode=None,\n",
       "             colsample_bytree=0.8, device=None, early_stopping_rounds=20,\n",
       "             enable_categorical=False, eval_metric=&#x27;rmse&#x27;, feature_types=None,\n",
       "             feature_weights=None, gamma=None, grow_policy=None,\n",
       "             importance_type=None, interaction_constraints=None,\n",
       "             learning_rate=0.01, max_bin=None, max_cat_threshold=None,\n",
       "             max_cat_to_onehot=None, max_delta_step=None, max_depth=4,\n",
       "             max_leaves=None, min_child_weight=None, missing=nan,\n",
       "             monotone_constraints=None, multi_strategy=None, n_estimators=1000,\n",
       "             n_jobs=None, num_parallel_tree=None, ...)</pre></div> </div></div></div></div>"
      ],
      "text/plain": [
       "XGBRegressor(base_score=None, booster=None, callbacks=None,\n",
       "             colsample_bylevel=None, colsample_bynode=None,\n",
       "             colsample_bytree=0.8, device=None, early_stopping_rounds=20,\n",
       "             enable_categorical=False, eval_metric='rmse', feature_types=None,\n",
       "             feature_weights=None, gamma=None, grow_policy=None,\n",
       "             importance_type=None, interaction_constraints=None,\n",
       "             learning_rate=0.01, max_bin=None, max_cat_threshold=None,\n",
       "             max_cat_to_onehot=None, max_delta_step=None, max_depth=4,\n",
       "             max_leaves=None, min_child_weight=None, missing=nan,\n",
       "             monotone_constraints=None, multi_strategy=None, n_estimators=1000,\n",
       "             n_jobs=None, num_parallel_tree=None, ...)"
      ]
     },
     "execution_count": 144,
     "metadata": {},
     "output_type": "execute_result"
    }
   ],
   "source": [
    "xgb_model.fit(\n",
    "    X_train_boost_scaled, y_train,\n",
    "    eval_set=[(X_val_boost_scaled, y_val)],\n",
    "    verbose=True\n",
    ")"
   ]
  },
  {
   "cell_type": "code",
   "execution_count": 145,
   "id": "62f9adac-53a5-4dd8-8ca7-7f29852a3f46",
   "metadata": {},
   "outputs": [
    {
     "data": {
      "image/png": "[encoded data removed]",
      "text/plain": [
       "<Figure size 640x480 with 1 Axes>"
      ]
     },
     "metadata": {},
     "output_type": "display_data"
    }
   ],
   "source": [
    "results = xgb_model.evals_result()\n",
    "plt.plot(results['validation_0']['rmse'], label='Validation RMSE')\n",
    "plt.xlabel('Epoch')\n",
    "plt.ylabel('RMSE')\n",
    "plt.legend()\n",
    "plt.show()"
   ]
  },
  {
   "cell_type": "code",
   "execution_count": 148,
   "id": "bcea8119-ec2c-45d2-a938-4e90ddf2d416",
   "metadata": {},
   "outputs": [
    {
     "data": {
      "image/png": "[encoded data removed]",
      "text/plain": [
       "<Figure size 640x480 with 1 Axes>"
      ]
     },
     "metadata": {},
     "output_type": "display_data"
    }
   ],
   "source": [
    "\n",
    "# 可视化特征重要性\n",
    "xgb.plot_importance(xgb_model, max_num_features=20)\n",
    "plt.show()"
   ]
  },
  {
   "cell_type": "markdown",
   "id": "bcbfd131-8e20-434a-8270-6ca6224ec6f2",
   "metadata": {},
   "source": [
    "# 1. 增强特征工程\n",
    "目标：引入更多时序相关特征，提升信息量"
   ]
  },
  {
   "cell_type": "code",
   "execution_count": 149,
   "id": "efd0d964-f5da-4498-8f62-f4b20ddb500d",
   "metadata": {},
   "outputs": [],
   "source": [
    "# 添加滞后特征（过去N分钟的涨跌幅）\n",
    "merged_df[\"lag_1\"] = merged_df.groupby(\"symbol\")[\"涨跌幅\"].shift(1)\n",
    "merged_df[\"lag_5\"] = merged_df.groupby(\"symbol\")[\"涨跌幅\"].shift(5)\n",
    "\n",
    "# 添加滚动统计量\n",
    "merged_df[\"rolling_mean_10\"] = merged_df.groupby(\"symbol\")[\"close\"].transform(lambda x: x.rolling(10).mean())\n",
    "merged_df[\"rolling_std_10\"] = merged_df.groupby(\"symbol\")[\"close\"].transform(lambda x: x.rolling(10).std())\n",
    "\n",
    "# 更新特征列\n",
    "feature_cols += [\"lag_1\", \"lag_5\", \"rolling_mean_10\", \"rolling_std_10\"]"
   ]
  },
  {
   "cell_type": "code",
   "execution_count": 150,
   "id": "9e61d73b-bbc5-4d5d-b31d-c7dbd9ad4f40",
   "metadata": {},
   "outputs": [],
   "source": [
    "xgb_model = xgb.XGBRegressor(\n",
    "    max_depth=5,           # 增加树深度\n",
    "    n_estimators=2000,     # 更多树数量\n",
    "    learning_rate=0.005,   # 更小学习率\n",
    "    subsample=0.7,         # 增强随机性\n",
    "    colsample_bytree=0.7,\n",
    "    gamma=0.1,             # 引入正则化项\n",
    "    reg_alpha=0.1,         # L1正则化\n",
    "    reg_lambda=0.1,        # L2正则化\n",
    "    early_stopping_rounds=50,  # 延长早停观察窗口\n",
    "    eval_metric=\"rmse\"\n",
    ")"
   ]
  },
  {
   "cell_type": "markdown",
   "id": "61a5895b-c53b-4363-bf8d-14a35c7c4df1",
   "metadata": {},
   "source": [
    "# 3. 多目标优化\n",
    "目标：联合优化RMSE和方向准确性。"
   ]
  },
  {
   "cell_type": "code",
   "execution_count": 157,
   "id": "c3b5861f-af85-4a8f-9d4b-02f80f6b9f4a",
   "metadata": {},
   "outputs": [],
   "source": [
    "def custom_eval_metric(preds, dtrain):\n",
    "    \"\"\"\n",
    "    preds: 模型预测值（浮点数组）\n",
    "    dtrain: DMatrix对象，包含真实标签\n",
    "    返回: (评估指标名称, 指标值)\n",
    "    \"\"\"\n",
    "    labels = dtrain.get_label()  # 获取真实标签\n",
    "    # 计算指标（例如方向准确性）\n",
    "    correct = np.sum(np.sign(preds) == np.sign(labels))\n",
    "    acc = correct / len(labels)\n",
    "    return \"direction_acc\", acc  # 返回元组（指标名称, 值）"
   ]
  },
  {
   "cell_type": "code",
   "execution_count": 162,
   "id": "da5608cf-745c-42d4-a486-28b7c5cea034",
   "metadata": {},
   "outputs": [],
   "source": [
    "import xgboost as xgb\n",
    "import numpy as np\n",
    "\n",
    "# 转换数据为DMatrix格式\n",
    "dtrain = xgb.DMatrix(X_train_boost_scaled, label=y_train)\n",
    "dval = xgb.DMatrix(X_val_boost_scaled, label=y_val)\n",
    "\n",
    "# 定义参数（必须包含目标函数）\n",
    "params = {\n",
    "    \"objective\": \"reg:squarederror\",  # 回归任务目标函数\n",
    "    \"max_depth\": 4,\n",
    "    \"learning_rate\": 0.01,\n",
    "    \"subsample\": 0.8,\n",
    "    \"colsample_bytree\": 0.8,\n",
    "    \"eval_metric\": \"rmse\"  # 内置评估指标\n",
    "}\n",
    "\n",
    "# 训练模型并添加自定义评估函数\n",
    "evals_result = {}\n",
    "# model = xgb.train(\n",
    "#     params,\n",
    "#     dtrain,\n",
    "#     num_boost_round=1000,\n",
    "#     evals=[(dtrain, \"train\"), (dval, \"val\")],\n",
    "#     feval=custom_eval_metric,  # 关键：通过feval添加自定义函数\n",
    "#     early_stopping_rounds=20,\n",
    "#     evals_result=evals_result,\n",
    "#     verbose_eval=10  # 每10轮打印一次评估结果\n",
    "# )"
   ]
  },
  {
   "cell_type": "code",
   "execution_count": 161,
   "id": "85877177-501a-46f3-a918-b73061eb1603",
   "metadata": {},
   "outputs": [
    {
     "name": "stdout",
     "output_type": "stream",
     "text": [
      "XGBoost版本: 3.0.0\n"
     ]
    }
   ],
   "source": [
    "print(\"XGBoost版本:\", xgb.__version__)"
   ]
  },
  {
   "cell_type": "code",
   "execution_count": 163,
   "id": "831f830a-1974-496b-a446-878c2be9f42e",
   "metadata": {},
   "outputs": [
    {
     "name": "stdout",
     "output_type": "stream",
     "text": [
      "[0]\ttrain-rmse:0.56615\ttrain-direction_acc:0.48862\tval-rmse:0.40017\tval-direction_acc:0.50880\n",
      "[10]\ttrain-rmse:0.56538\ttrain-direction_acc:0.51118\tval-rmse:0.40012\tval-direction_acc:0.50880\n",
      "[19]\ttrain-rmse:0.56479\ttrain-direction_acc:0.51158\tval-rmse:0.40009\tval-direction_acc:0.50880\n"
     ]
    }
   ],
   "source": [
    "model = xgb.train(\n",
    "    params,\n",
    "    dtrain,\n",
    "    num_boost_round=1000,\n",
    "    evals=[(dtrain, \"train\"), (dval, \"val\")],\n",
    "    custom_metric=direction_accuracy,  # 使用正确参数名\n",
    "    early_stopping_rounds=20,\n",
    "    evals_result=evals_result,\n",
    "    verbose_eval=10\n",
    ")"
   ]
  },
  {
   "cell_type": "code",
   "execution_count": 172,
   "id": "ad97b360-608c-45e6-a30d-971980232b5c",
   "metadata": {},
   "outputs": [],
   "source": [
    "# params = {\n",
    "#     #\"objective\": \"reg:squarederror\",  # 回归任务目标函数\n",
    "#     \"max_depth\": 4,\n",
    "#     \"learning_rate\": 0.01,\n",
    "#     \"subsample\": 0.8,\n",
    "#     \"colsample_bytree\": 0.8,\n",
    "#     \"eval_metric\": \"rmse\"  # 内置评估指标\n",
    "# }\n",
    "\n",
    "params = {\n",
    "    \"objective\":        \"reg:squarederror\",  # 明确回归任务\n",
    "    \"eval_metric\":      \"rmse\",              # 验证时用的指标\n",
    "    \"max_depth\":        4,                   # 树深度：越小越不易过拟合\n",
    "    \"learning_rate\":    0.01,                # 学习率：越小越稳定，但要更多轮数\n",
    "    \"subsample\":        0.8,                 # 行采样：防止过拟合\n",
    "    \"colsample_bytree\": 0.8,                 # 列采样：防止过拟合\n",
    "    \"gamma\":            0.1,                 # 分裂最小损失减少量：越大剪的越厉害\n",
    "    \"min_child_weight\": 1,                   # 叶子最小样本权重和：越大越保守\n",
    "    \"lambda\":           1.0,                 # L2 正则化项\n",
    "    \"alpha\":            0.0,                 # L1 正则化项\n",
    "    \"seed\":             42,                  # 保证可复现\n",
    "    # 如果你有 GPU，可以加上：\n",
    "    # \"tree_method\": \"gpu_hist\", \n",
    "    # \"predictor\":   \"gpu_predictor\",\n",
    "}"
   ]
  },
  {
   "cell_type": "code",
   "execution_count": 176,
   "id": "0225ec78-36e6-4f56-b4b2-3943cb81b43c",
   "metadata": {},
   "outputs": [],
   "source": [
    "import shap\n",
    "\n",
    "# 解释器初始化\n",
    "explainer = shap.TreeExplainer(model)\n",
    "shap_values = explainer.shap_values(dval)\n",
    "\n",
    "# 计算特征对方向预测的贡献\n",
    "# 1. 获取预测方向\n",
    "y_pred_val = model.predict(dval)\n",
    "pred_direction = np.sign(y_pred_val)\n",
    "\n",
    "# 2. 计算每个特征对方向预测的绝对SHAP值（均值）\n",
    "direction_importance = np.mean(np.abs(shap_values), axis=0)\n",
    "\n",
    "# 3. 筛选重要性高于阈值的特征\n",
    "threshold = np.percentile(direction_importance, 75)  # 保留前25%重要特征\n",
    "selected_features = np.where(direction_importance >= threshold)[0]\n",
    "\n",
    "# 更新数据集\n",
    "X_train_selected = X_train_boost_scaled[:, selected_features]\n",
    "X_val_selected = X_val_boost_scaled[:, selected_features]\n",
    "\n",
    "# 重新训练精简模型\n",
    "dtrain_selected = xgb.DMatrix(X_train_selected, label=y_train)\n",
    "dval_selected = xgb.DMatrix(X_val_selected, label=y_val)\n",
    "\n"
   ]
  },
  {
   "cell_type": "code",
   "execution_count": 177,
   "id": "0d52cc1d-0883-4fb6-83c3-130273e39f91",
   "metadata": {},
   "outputs": [
    {
     "name": "stdout",
     "output_type": "stream",
     "text": [
      "[0]\ttrain-rmse:0.56615\tval-rmse:0.40016\n",
      "[10]\ttrain-rmse:0.56537\tval-rmse:0.40014\n",
      "[20]\ttrain-rmse:0.56470\tval-rmse:0.40011\n",
      "[30]\ttrain-rmse:0.56413\tval-rmse:0.40006\n",
      "[40]\ttrain-rmse:0.56364\tval-rmse:0.40005\n",
      "[50]\ttrain-rmse:0.56321\tval-rmse:0.40005\n",
      "[60]\ttrain-rmse:0.56283\tval-rmse:0.40004\n",
      "[70]\ttrain-rmse:0.56247\tval-rmse:0.40005\n",
      "[80]\ttrain-rmse:0.56211\tval-rmse:0.40004\n",
      "[90]\ttrain-rmse:0.56169\tval-rmse:0.40015\n",
      "[100]\ttrain-rmse:0.56134\tval-rmse:0.40023\n",
      "[110]\ttrain-rmse:0.56100\tval-rmse:0.40033\n",
      "[120]\ttrain-rmse:0.56070\tval-rmse:0.40042\n",
      "[127]\ttrain-rmse:0.56042\tval-rmse:0.40058\n"
     ]
    }
   ],
   "source": [
    "model_selected = xgb.train(\n",
    "    params,\n",
    "    dtrain_selected,\n",
    "    num_boost_round=2000,              # 轮数要跟 learning_rate 配合：lr 更小，轮数可适当加大\n",
    "    evals=[(dtrain_selected, \"train\"), (dval_selected, \"val\")],\n",
    "    early_stopping_rounds=50,          # 监控 50 轮内没提升就停\n",
    "    evals_result=evals_result,\n",
    "    verbose_eval=10\n",
    ")"
   ]
  },
  {
   "cell_type": "code",
   "execution_count": 178,
   "id": "b2f7ac84-fca3-4483-a0eb-e73180da8eb3",
   "metadata": {},
   "outputs": [
    {
     "name": "stdout",
     "output_type": "stream",
     "text": [
      "[0]\ttrain-rmse:0.56619+0.00040\ttest-rmse:0.56622+0.00162\n",
      "[50]\ttrain-rmse:0.56446+0.00037\ttest-rmse:0.56469+0.00155\n",
      "[100]\ttrain-rmse:0.56322+0.00034\ttest-rmse:0.56365+0.00151\n",
      "[150]\ttrain-rmse:0.56225+0.00030\ttest-rmse:0.56284+0.00147\n",
      "[200]\ttrain-rmse:0.56136+0.00030\ttest-rmse:0.56212+0.00140\n",
      "[250]\ttrain-rmse:0.56052+0.00027\ttest-rmse:0.56144+0.00136\n",
      "[300]\ttrain-rmse:0.55977+0.00026\ttest-rmse:0.56085+0.00131\n",
      "[350]\ttrain-rmse:0.55910+0.00024\ttest-rmse:0.56034+0.00126\n",
      "[400]\ttrain-rmse:0.55847+0.00021\ttest-rmse:0.55986+0.00123\n",
      "[450]\ttrain-rmse:0.55792+0.00020\ttest-rmse:0.55946+0.00120\n",
      "[500]\ttrain-rmse:0.55741+0.00019\ttest-rmse:0.55911+0.00118\n",
      "[550]\ttrain-rmse:0.55689+0.00018\ttest-rmse:0.55873+0.00114\n",
      "[600]\ttrain-rmse:0.55643+0.00016\ttest-rmse:0.55843+0.00112\n",
      "[650]\ttrain-rmse:0.55597+0.00014\ttest-rmse:0.55812+0.00110\n",
      "[700]\ttrain-rmse:0.55552+0.00014\ttest-rmse:0.55781+0.00109\n",
      "[750]\ttrain-rmse:0.55509+0.00013\ttest-rmse:0.55751+0.00106\n",
      "[800]\ttrain-rmse:0.55468+0.00011\ttest-rmse:0.55724+0.00104\n",
      "[850]\ttrain-rmse:0.55429+0.00012\ttest-rmse:0.55698+0.00102\n",
      "[900]\ttrain-rmse:0.55390+0.00011\ttest-rmse:0.55672+0.00101\n",
      "[950]\ttrain-rmse:0.55349+0.00011\ttest-rmse:0.55645+0.00101\n",
      "[1000]\ttrain-rmse:0.55313+0.00011\ttest-rmse:0.55622+0.00099\n",
      "[1050]\ttrain-rmse:0.55275+0.00012\ttest-rmse:0.55598+0.00098\n",
      "[1100]\ttrain-rmse:0.55239+0.00012\ttest-rmse:0.55576+0.00098\n",
      "[1150]\ttrain-rmse:0.55203+0.00012\ttest-rmse:0.55552+0.00097\n",
      "[1200]\ttrain-rmse:0.55169+0.00012\ttest-rmse:0.55531+0.00098\n",
      "[1250]\ttrain-rmse:0.55134+0.00013\ttest-rmse:0.55509+0.00097\n",
      "[1300]\ttrain-rmse:0.55101+0.00015\ttest-rmse:0.55487+0.00096\n",
      "[1350]\ttrain-rmse:0.55068+0.00014\ttest-rmse:0.55468+0.00094\n",
      "[1400]\ttrain-rmse:0.55035+0.00015\ttest-rmse:0.55447+0.00094\n",
      "[1450]\ttrain-rmse:0.55003+0.00016\ttest-rmse:0.55429+0.00092\n",
      "[1500]\ttrain-rmse:0.54971+0.00018\ttest-rmse:0.55409+0.00090\n",
      "[1550]\ttrain-rmse:0.54940+0.00018\ttest-rmse:0.55390+0.00090\n",
      "[1600]\ttrain-rmse:0.54908+0.00018\ttest-rmse:0.55371+0.00091\n",
      "[1650]\ttrain-rmse:0.54878+0.00017\ttest-rmse:0.55352+0.00092\n",
      "[1700]\ttrain-rmse:0.54848+0.00017\ttest-rmse:0.55335+0.00091\n",
      "[1750]\ttrain-rmse:0.54819+0.00017\ttest-rmse:0.55318+0.00093\n",
      "[1800]\ttrain-rmse:0.54790+0.00017\ttest-rmse:0.55300+0.00094\n",
      "[1850]\ttrain-rmse:0.54761+0.00017\ttest-rmse:0.55283+0.00093\n",
      "[1900]\ttrain-rmse:0.54732+0.00017\ttest-rmse:0.55266+0.00092\n",
      "[1950]\ttrain-rmse:0.54704+0.00018\ttest-rmse:0.55250+0.00091\n",
      "[2000]\ttrain-rmse:0.54675+0.00020\ttest-rmse:0.55233+0.00091\n",
      "[2050]\ttrain-rmse:0.54647+0.00020\ttest-rmse:0.55218+0.00089\n",
      "[2100]\ttrain-rmse:0.54620+0.00020\ttest-rmse:0.55203+0.00089\n",
      "[2150]\ttrain-rmse:0.54593+0.00019\ttest-rmse:0.55188+0.00087\n",
      "[2200]\ttrain-rmse:0.54566+0.00019\ttest-rmse:0.55172+0.00087\n",
      "[2250]\ttrain-rmse:0.54538+0.00019\ttest-rmse:0.55156+0.00087\n",
      "[2300]\ttrain-rmse:0.54513+0.00020\ttest-rmse:0.55142+0.00086\n",
      "[2350]\ttrain-rmse:0.54487+0.00020\ttest-rmse:0.55128+0.00085\n",
      "[2400]\ttrain-rmse:0.54462+0.00020\ttest-rmse:0.55114+0.00086\n",
      "[2450]\ttrain-rmse:0.54438+0.00021\ttest-rmse:0.55101+0.00087\n",
      "[2500]\ttrain-rmse:0.54415+0.00022\ttest-rmse:0.55089+0.00088\n",
      "[2550]\ttrain-rmse:0.54390+0.00023\ttest-rmse:0.55075+0.00086\n",
      "[2600]\ttrain-rmse:0.54366+0.00024\ttest-rmse:0.55063+0.00085\n",
      "[2650]\ttrain-rmse:0.54342+0.00025\ttest-rmse:0.55050+0.00083\n",
      "[2700]\ttrain-rmse:0.54317+0.00025\ttest-rmse:0.55036+0.00083\n",
      "[2750]\ttrain-rmse:0.54293+0.00025\ttest-rmse:0.55023+0.00084\n",
      "[2800]\ttrain-rmse:0.54269+0.00025\ttest-rmse:0.55010+0.00083\n",
      "[2850]\ttrain-rmse:0.54245+0.00025\ttest-rmse:0.54999+0.00083\n",
      "[2900]\ttrain-rmse:0.54221+0.00026\ttest-rmse:0.54986+0.00082\n",
      "[2950]\ttrain-rmse:0.54198+0.00026\ttest-rmse:0.54973+0.00081\n",
      "[2999]\ttrain-rmse:0.54176+0.00026\ttest-rmse:0.54962+0.00081\n",
      "Best CV RMSE: 0.5496161995412752\n",
      "Best rounds: 3000\n"
     ]
    }
   ],
   "source": [
    "params = {\n",
    "    \"objective\":        \"reg:squarederror\",\n",
    "    \"eval_metric\":      \"rmse\",\n",
    "    \"max_depth\":        4,\n",
    "    \"learning_rate\":    0.005,       # 更小的 lr\n",
    "    \"subsample\":        0.7,         # 更激进的行采样\n",
    "    \"colsample_bytree\": 0.7,         # 更激进的列采样\n",
    "    \"gamma\":            0.3,\n",
    "    \"min_child_weight\": 3,\n",
    "    \"lambda\":           1.5,\n",
    "    \"alpha\":            0.5,\n",
    "    \"seed\":             42,\n",
    "}\n",
    "\n",
    "cv_results = xgb.cv(\n",
    "    params,\n",
    "    dtrain_selected,\n",
    "    num_boost_round=3000,\n",
    "    nfold=5,\n",
    "    early_stopping_rounds=30,\n",
    "    metrics=\"rmse\",\n",
    "    seed=42,\n",
    "    verbose_eval=50\n",
    ")\n",
    "print(\"Best CV RMSE:\", cv_results[\"test-rmse-mean\"].min())\n",
    "print(\"Best rounds:\", len(cv_results))\n"
   ]
  },
  {
   "cell_type": "code",
   "execution_count": 180,
   "id": "5cef3aba-b363-4879-9058-b531d8846830",
   "metadata": {},
   "outputs": [],
   "source": [
    "# from sklearn.model_selection import GridSearchCV\n",
    "# import xgboost as xgb\n",
    "\n",
    "# # 定义参数网格（精简版）\n",
    "# param_grid = {\n",
    "#     \"max_depth\": [3, 4],        # 控制树复杂度\n",
    "#     \"learning_rate\": [0.01, 0.05],\n",
    "#     \"subsample\": [0.7, 0.8],    # 随机采样样本\n",
    "#     \"gamma\": [0, 0.1],          # 正则化项\n",
    "#     \"reg_alpha\": [0, 0.1]       # L1正则化\n",
    "# }\n",
    "\n",
    "# # 初始化模型\n",
    "# model = xgb.XGBRegressor(\n",
    "#     n_estimators=300,\n",
    "#     early_stopping_rounds=20,\n",
    "#     eval_metric=\"rmse\"\n",
    "# )\n",
    "\n",
    "# # 网格搜索（小规模快速搜索）\n",
    "# grid_search = GridSearchCV(\n",
    "#     estimator=model,\n",
    "#     param_grid=param_grid,\n",
    "#     cv=3,\n",
    "#     scoring=\"neg_mean_squared_error\",\n",
    "#     verbose=2\n",
    "# )\n",
    "\n",
    "# # 执行搜索（在精选特征上运行，减少计算时间）\n",
    "# grid_search.fit(X_train_selected, y_train)\n",
    "\n",
    "# # 输出最优参数\n",
    "# print(\"最优参数:\", grid_search.best_params_)"
   ]
  },
  {
   "cell_type": "code",
   "execution_count": 181,
   "id": "f83ca30a-4622-459b-8819-09467405ad4d",
   "metadata": {},
   "outputs": [],
   "source": [
    "final_model = xgb.train(\n",
    "    params,\n",
    "    xgb.DMatrix(np.vstack([X_train_selected, X_val_selected]), \n",
    "                label=np.hstack([y_train, y_val])),\n",
    "    num_boost_round=3000\n",
    ")\n"
   ]
  },
  {
   "cell_type": "code",
   "execution_count": 182,
   "id": "a9b9435e-d726-4947-a0ed-a0b86c92f500",
   "metadata": {},
   "outputs": [
    {
     "data": {
      "image/png": "[encoded data removed]",
      "text/plain": [
       "<Figure size 1000x600 with 1 Axes>"
      ]
     },
     "metadata": {},
     "output_type": "display_data"
    }
   ],
   "source": [
    "import matplotlib.pyplot as plt\n",
    "\n",
    "# 假设 cv_results 已经存在，是 xgb.cv 的返回值 DataFrame\n",
    "# 包含列: 'train-rmse-mean', 'train-rmse-std', 'test-rmse-mean', 'test-rmse-std'\n",
    "iterations = range(1, len(cv_results) + 1)\n",
    "\n",
    "plt.figure(figsize=(10, 6))\n",
    "\n",
    "# 训练集 RMSE 平均值及标准差带\n",
    "plt.plot(iterations, cv_results['train-rmse-mean'], label='Train RMSE')\n",
    "plt.fill_between(\n",
    "    iterations,\n",
    "    cv_results['train-rmse-mean'] - cv_results['train-rmse-std'],\n",
    "    cv_results['train-rmse-mean'] + cv_results['train-rmse-std'],\n",
    "    alpha=0.3\n",
    ")\n",
    "\n",
    "# 验证集 RMSE 平均值及标准差带\n",
    "plt.plot(iterations, cv_results['test-rmse-mean'], label='Test RMSE')\n",
    "plt.fill_between(\n",
    "    iterations,\n",
    "    cv_results['test-rmse-mean'] - cv_results['test-rmse-std'],\n",
    "    cv_results['test-rmse-mean'] + cv_results['test-rmse-std'],\n",
    "    alpha=0.3\n",
    ")\n",
    "\n",
    "plt.title('XGBoost 训练 & 验证 RMSE 随迭代轮次变化')\n",
    "plt.xlabel('Boosting Round')\n",
    "plt.ylabel('RMSE')\n",
    "plt.legend()\n",
    "plt.grid(True)\n",
    "plt.tight_layout()\n",
    "plt.show()\n"
   ]
  },
  {
   "cell_type": "code",
   "execution_count": 185,
   "id": "2a1a43f9-e57b-4c07-854e-81bd123ee796",
   "metadata": {},
   "outputs": [
    {
     "name": "stdout",
     "output_type": "stream",
     "text": [
      "价格变动标准差（市场噪声）: 9.180561827349623\n"
     ]
    }
   ],
   "source": [
    "# 计算价格变化的自然波动（标准差）  \n",
    "price_std = np.std(merged_df[\"close\"].diff().dropna())  \n",
    "print(\"价格变动标准差（市场噪声）:\", price_std)  "
   ]
  },
  {
   "cell_type": "code",
   "execution_count": 186,
   "id": "a061ff3c-d549-49a2-89af-bfc42dd68732",
   "metadata": {},
   "outputs": [
    {
     "name": "stdout",
     "output_type": "stream",
     "text": [
      "[0]\ttrain-rmse:0.56617+0.00040\ttest-rmse:0.56621+0.00162\n",
      "[100]\ttrain-rmse:0.56212+0.00030\ttest-rmse:0.56285+0.00149\n",
      "[200]\ttrain-rmse:0.55952+0.00027\ttest-rmse:0.56084+0.00136\n",
      "[300]\ttrain-rmse:0.55725+0.00025\ttest-rmse:0.55917+0.00126\n",
      "[400]\ttrain-rmse:0.55531+0.00022\ttest-rmse:0.55781+0.00116\n",
      "[500]\ttrain-rmse:0.55370+0.00021\ttest-rmse:0.55673+0.00108\n",
      "[600]\ttrain-rmse:0.55223+0.00016\ttest-rmse:0.55577+0.00106\n",
      "[700]\ttrain-rmse:0.55087+0.00016\ttest-rmse:0.55493+0.00102\n",
      "[800]\ttrain-rmse:0.54958+0.00015\ttest-rmse:0.55414+0.00096\n",
      "[900]\ttrain-rmse:0.54839+0.00015\ttest-rmse:0.55342+0.00096\n",
      "[1000]\ttrain-rmse:0.54722+0.00014\ttest-rmse:0.55273+0.00095\n",
      "[1100]\ttrain-rmse:0.54610+0.00016\ttest-rmse:0.55213+0.00093\n",
      "[1200]\ttrain-rmse:0.54500+0.00016\ttest-rmse:0.55150+0.00094\n",
      "[1300]\ttrain-rmse:0.54397+0.00019\ttest-rmse:0.55092+0.00091\n",
      "[1400]\ttrain-rmse:0.54298+0.00022\ttest-rmse:0.55037+0.00091\n",
      "[1500]\ttrain-rmse:0.54201+0.00024\ttest-rmse:0.54987+0.00088\n",
      "[1600]\ttrain-rmse:0.54106+0.00025\ttest-rmse:0.54939+0.00088\n",
      "[1700]\ttrain-rmse:0.54015+0.00024\ttest-rmse:0.54893+0.00089\n",
      "[1800]\ttrain-rmse:0.53927+0.00024\ttest-rmse:0.54849+0.00092\n",
      "[1900]\ttrain-rmse:0.53840+0.00026\ttest-rmse:0.54805+0.00092\n",
      "[2000]\ttrain-rmse:0.53753+0.00029\ttest-rmse:0.54763+0.00092\n",
      "[2100]\ttrain-rmse:0.53672+0.00028\ttest-rmse:0.54724+0.00090\n",
      "[2200]\ttrain-rmse:0.53590+0.00026\ttest-rmse:0.54686+0.00089\n",
      "[2300]\ttrain-rmse:0.53510+0.00025\ttest-rmse:0.54649+0.00090\n",
      "[2400]\ttrain-rmse:0.53433+0.00026\ttest-rmse:0.54614+0.00090\n",
      "[2500]\ttrain-rmse:0.53363+0.00027\ttest-rmse:0.54584+0.00091\n",
      "[2600]\ttrain-rmse:0.53289+0.00030\ttest-rmse:0.54554+0.00089\n",
      "[2700]\ttrain-rmse:0.53217+0.00030\ttest-rmse:0.54522+0.00087\n",
      "[2800]\ttrain-rmse:0.53145+0.00029\ttest-rmse:0.54490+0.00087\n",
      "[2900]\ttrain-rmse:0.53074+0.00030\ttest-rmse:0.54460+0.00086\n",
      "[3000]\ttrain-rmse:0.53004+0.00030\ttest-rmse:0.54429+0.00086\n",
      "[3100]\ttrain-rmse:0.52936+0.00030\ttest-rmse:0.54400+0.00085\n",
      "[3200]\ttrain-rmse:0.52868+0.00030\ttest-rmse:0.54373+0.00087\n",
      "[3300]\ttrain-rmse:0.52802+0.00030\ttest-rmse:0.54347+0.00085\n",
      "[3400]\ttrain-rmse:0.52737+0.00032\ttest-rmse:0.54323+0.00085\n",
      "[3500]\ttrain-rmse:0.52674+0.00031\ttest-rmse:0.54298+0.00085\n",
      "[3600]\ttrain-rmse:0.52611+0.00031\ttest-rmse:0.54274+0.00086\n",
      "[3700]\ttrain-rmse:0.52550+0.00030\ttest-rmse:0.54253+0.00086\n",
      "[3800]\ttrain-rmse:0.52491+0.00029\ttest-rmse:0.54233+0.00088\n",
      "[3900]\ttrain-rmse:0.52430+0.00028\ttest-rmse:0.54209+0.00090\n",
      "[4000]\ttrain-rmse:0.52370+0.00029\ttest-rmse:0.54190+0.00088\n",
      "[4100]\ttrain-rmse:0.52309+0.00027\ttest-rmse:0.54170+0.00090\n",
      "[4200]\ttrain-rmse:0.52251+0.00026\ttest-rmse:0.54149+0.00090\n",
      "[4300]\ttrain-rmse:0.52191+0.00027\ttest-rmse:0.54128+0.00090\n",
      "[4400]\ttrain-rmse:0.52133+0.00028\ttest-rmse:0.54109+0.00090\n",
      "[4500]\ttrain-rmse:0.52078+0.00027\ttest-rmse:0.54090+0.00092\n",
      "[4600]\ttrain-rmse:0.52023+0.00027\ttest-rmse:0.54072+0.00092\n",
      "[4700]\ttrain-rmse:0.51969+0.00026\ttest-rmse:0.54057+0.00093\n",
      "[4800]\ttrain-rmse:0.51913+0.00025\ttest-rmse:0.54040+0.00095\n",
      "[4900]\ttrain-rmse:0.51863+0.00026\ttest-rmse:0.54024+0.00094\n",
      "[4999]\ttrain-rmse:0.51810+0.00027\ttest-rmse:0.54008+0.00094\n"
     ]
    }
   ],
   "source": [
    "params[\"max_depth\"] = 5  \n",
    "params[\"gamma\"] = 0.1  \n",
    "\n",
    "cv_results_v2 = xgb.cv(\n",
    "    params,\n",
    "    dtrain_selected,\n",
    "    num_boost_round=5000,\n",
    "    nfold=5,\n",
    "    early_stopping_rounds=50,\n",
    "    metrics=\"rmse\",\n",
    "    seed=42,\n",
    "    verbose_eval=100\n",
    ")"
   ]
  },
  {
   "cell_type": "code",
   "execution_count": 187,
   "id": "67e7af3e-6eb8-4745-96b1-a0917f1f3bfc",
   "metadata": {},
   "outputs": [
    {
     "name": "stdout",
     "output_type": "stream",
     "text": [
      "Best CV RMSE: 0.5496161995412752\n",
      "Best rounds: 3000\n"
     ]
    }
   ],
   "source": [
    "print(\"Best CV RMSE:\", cv_results[\"test-rmse-mean\"].min())\n",
    "print(\"Best rounds:\", len(cv_results))"
   ]
  },
  {
   "cell_type": "code",
   "execution_count": 188,
   "id": "469f59a6-29d3-4024-a91b-d3117e195444",
   "metadata": {},
   "outputs": [
    {
     "name": "stdout",
     "output_type": "stream",
     "text": [
      "验证集方向准确性: 52.959999999999994\n"
     ]
    },
    {
     "data": {
      "image/png": "[encoded data removed]",
      "text/plain": [
       "<Figure size 640x480 with 1 Axes>"
      ]
     },
     "metadata": {},
     "output_type": "display_data"
    }
   ],
   "source": [
    "# 计算方向准确性  \n",
    "y_pred = final_model.predict(xgb.DMatrix(X_val_selected))  \n",
    "direction_acc = np.mean(np.sign(y_pred) == np.sign(y_val)) * 100  \n",
    "print(\"验证集方向准确性:\", direction_acc)  \n",
    "\n",
    "# 可视化特征重要性  \n",
    "xgb.plot_importance(final_model, max_num_features=20)  \n",
    "plt.show()  "
   ]
  },
  {
   "cell_type": "code",
   "execution_count": 189,
   "id": "8d5a4d51-0072-4644-9431-b2e16743c881",
   "metadata": {},
   "outputs": [],
   "source": [
    "def directional_loss(y_pred, dtrain):\n",
    "    y_true = dtrain.get_label()\n",
    "    error = y_pred - y_true\n",
    "    \n",
    "    # 基础梯度（RMSE）\n",
    "    grad = error\n",
    "    hess = np.ones_like(error)\n",
    "    \n",
    "    # 方向惩罚项（超参数alpha控制强度）\n",
    "    alpha = 5.0  # 大幅提升方向权重\n",
    "    sign_mismatch = np.sign(y_pred) != np.sign(y_true)\n",
    "    grad[sign_mismatch] += alpha * np.sign(y_pred[sign_mismatch])\n",
    "    \n",
    "    return grad, hess\n",
    "\n",
    "# 更新模型参数\n",
    "params[\"objective\"] = directional_loss\n",
    "params[\"eval_metric\"] = \"rmse\"  # 同时监控RMSE"
   ]
  },
  {
   "cell_type": "code",
   "execution_count": 190,
   "id": "c9589a62-a8a9-45d2-a8ec-01d63322035c",
   "metadata": {},
   "outputs": [],
   "source": [
    "# 动量指标\n",
    "merged_df[\"momentum_5\"] = merged_df.groupby(\"symbol\")[\"close\"].pct_change(5)\n",
    "merged_df[\"momentum_10\"] = merged_df.groupby(\"symbol\")[\"close\"].pct_change(10)\n",
    "\n",
    "# 波动率指标\n",
    "merged_df[\"volatility_30\"] = merged_df.groupby(\"symbol\")[\"close\"].transform(lambda x: x.rolling(30).std())\n",
    "\n",
    "# 市场情绪指标（示例：价量背离）\n",
    "merged_df[\"price_volume_divergence\"] = (\n",
    "    merged_df[\"close\"].diff(5) / merged_df[\"volume\"].rolling(5).mean()\n",
    ")\n",
    "\n",
    "# 更新特征列\n",
    "feature_cols += [\"momentum_5\", \"momentum_10\", \"volatility_30\", \"price_volume_divergence\"]"
   ]
  },
  {
   "cell_type": "code",
   "execution_count": 193,
   "id": "3a73f4fc-4d29-4fdd-8384-700048f3d0b2",
   "metadata": {},
   "outputs": [],
   "source": [
    "# 计算价格变动绝对值\n",
    "merged_df[\"price_change\"] = merged_df.groupby(\"symbol\")[\"close\"].diff(30).abs()\n",
    "\n",
    "# 保留前50%高波动样本\n",
    "threshold = merged_df[\"price_change\"].quantile(0.5)\n",
    "filtered_df = merged_df[merged_df[\"price_change\"] > threshold]\n",
    "\n",
    "# 重新生成数据集\n",
    "X_train_filtered, y_train_filtered = create_sequences(filtered_df,feature_cols)"
   ]
  },
  {
   "cell_type": "code",
   "execution_count": 197,
   "id": "fd8dfcfa-f644-4609-9bfb-af0981707128",
   "metadata": {},
   "outputs": [],
   "source": [
    "import tensorflow as tf\n",
    "from tensorflow.keras.layers import (\n",
    "    Input, Conv1D, LSTM, Attention,\n",
    "    Lambda, Dense\n",
    ")\n",
    "from tensorflow.keras.models import Model\n"
   ]
  },
  {
   "cell_type": "code",
   "execution_count": 198,
   "id": "a01a6028-460b-4b7c-8ecf-5e6e961780e4",
   "metadata": {},
   "outputs": [
    {
     "data": {
      "text/html": [
       "<pre style=\"white-space:pre;overflow-x:auto;line-height:normal;font-family:Menlo,'DejaVu Sans Mono',consolas,'Courier New',monospace\"><span style=\"font-weight: bold\">Model: \"functional_4\"</span>\n",
       "</pre>\n"
      ],
      "text/plain": [
       "\u001b[1mModel: \"functional_4\"\u001b[0m\n"
      ]
     },
     "metadata": {},
     "output_type": "display_data"
    },
    {
     "data": {
      "text/html": [
       "<pre style=\"white-space:pre;overflow-x:auto;line-height:normal;font-family:Menlo,'DejaVu Sans Mono',consolas,'Courier New',monospace\">┏━━━━━━━━━━━━━━━━━━━━━┳━━━━━━━━━━━━━━━━━━━┳━━━━━━━━━━━━┳━━━━━━━━━━━━━━━━━━━┓\n",
       "┃<span style=\"font-weight: bold\"> Layer (type)        </span>┃<span style=\"font-weight: bold\"> Output Shape      </span>┃<span style=\"font-weight: bold\">    Param # </span>┃<span style=\"font-weight: bold\"> Connected to      </span>┃\n",
       "┡━━━━━━━━━━━━━━━━━━━━━╇━━━━━━━━━━━━━━━━━━━╇━━━━━━━━━━━━╇━━━━━━━━━━━━━━━━━━━┩\n",
       "│ input_layer_19      │ (<span style=\"color: #00d7ff; text-decoration-color: #00d7ff\">None</span>, <span style=\"color: #00af00; text-decoration-color: #00af00\">60</span>, <span style=\"color: #00af00; text-decoration-color: #00af00\">17</span>)    │          <span style=\"color: #00af00; text-decoration-color: #00af00\">0</span> │ -                 │\n",
       "│ (<span style=\"color: #0087ff; text-decoration-color: #0087ff\">InputLayer</span>)        │                   │            │                   │\n",
       "├─────────────────────┼───────────────────┼────────────┼───────────────────┤\n",
       "│ conv1d_18 (<span style=\"color: #0087ff; text-decoration-color: #0087ff\">Conv1D</span>)  │ (<span style=\"color: #00d7ff; text-decoration-color: #00d7ff\">None</span>, <span style=\"color: #00af00; text-decoration-color: #00af00\">58</span>, <span style=\"color: #00af00; text-decoration-color: #00af00\">64</span>)    │      <span style=\"color: #00af00; text-decoration-color: #00af00\">3,328</span> │ input_layer_19[<span style=\"color: #00af00; text-decoration-color: #00af00\">0</span>… │\n",
       "├─────────────────────┼───────────────────┼────────────┼───────────────────┤\n",
       "│ lstm_17 (<span style=\"color: #0087ff; text-decoration-color: #0087ff\">LSTM</span>)      │ (<span style=\"color: #00d7ff; text-decoration-color: #00d7ff\">None</span>, <span style=\"color: #00af00; text-decoration-color: #00af00\">58</span>, <span style=\"color: #00af00; text-decoration-color: #00af00\">128</span>)   │     <span style=\"color: #00af00; text-decoration-color: #00af00\">98,816</span> │ conv1d_18[<span style=\"color: #00af00; text-decoration-color: #00af00\">0</span>][<span style=\"color: #00af00; text-decoration-color: #00af00\">0</span>]   │\n",
       "├─────────────────────┼───────────────────┼────────────┼───────────────────┤\n",
       "│ attention_19        │ (<span style=\"color: #00d7ff; text-decoration-color: #00d7ff\">None</span>, <span style=\"color: #00af00; text-decoration-color: #00af00\">58</span>, <span style=\"color: #00af00; text-decoration-color: #00af00\">128</span>)   │          <span style=\"color: #00af00; text-decoration-color: #00af00\">0</span> │ lstm_17[<span style=\"color: #00af00; text-decoration-color: #00af00\">0</span>][<span style=\"color: #00af00; text-decoration-color: #00af00\">0</span>],    │\n",
       "│ (<span style=\"color: #0087ff; text-decoration-color: #0087ff\">Attention</span>)         │                   │            │ lstm_17[<span style=\"color: #00af00; text-decoration-color: #00af00\">0</span>][<span style=\"color: #00af00; text-decoration-color: #00af00\">0</span>]     │\n",
       "├─────────────────────┼───────────────────┼────────────┼───────────────────┤\n",
       "│ lambda_3 (<span style=\"color: #0087ff; text-decoration-color: #0087ff\">Lambda</span>)   │ (<span style=\"color: #00d7ff; text-decoration-color: #00d7ff\">None</span>, <span style=\"color: #00af00; text-decoration-color: #00af00\">128</span>)       │          <span style=\"color: #00af00; text-decoration-color: #00af00\">0</span> │ attention_19[<span style=\"color: #00af00; text-decoration-color: #00af00\">0</span>][<span style=\"color: #00af00; text-decoration-color: #00af00\">…</span> │\n",
       "├─────────────────────┼───────────────────┼────────────┼───────────────────┤\n",
       "│ dense_31 (<span style=\"color: #0087ff; text-decoration-color: #0087ff\">Dense</span>)    │ (<span style=\"color: #00d7ff; text-decoration-color: #00d7ff\">None</span>, <span style=\"color: #00af00; text-decoration-color: #00af00\">1</span>)         │        <span style=\"color: #00af00; text-decoration-color: #00af00\">129</span> │ lambda_3[<span style=\"color: #00af00; text-decoration-color: #00af00\">0</span>][<span style=\"color: #00af00; text-decoration-color: #00af00\">0</span>]    │\n",
       "└─────────────────────┴───────────────────┴────────────┴───────────────────┘\n",
       "</pre>\n"
      ],
      "text/plain": [
       "┏━━━━━━━━━━━━━━━━━━━━━┳━━━━━━━━━━━━━━━━━━━┳━━━━━━━━━━━━┳━━━━━━━━━━━━━━━━━━━┓\n",
       "┃\u001b[1m \u001b[0m\u001b[1mLayer (type)       \u001b[0m\u001b[1m \u001b[0m┃\u001b[1m \u001b[0m\u001b[1mOutput Shape     \u001b[0m\u001b[1m \u001b[0m┃\u001b[1m \u001b[0m\u001b[1m   Param #\u001b[0m\u001b[1m \u001b[0m┃\u001b[1m \u001b[0m\u001b[1mConnected to     \u001b[0m\u001b[1m \u001b[0m┃\n",
       "┡━━━━━━━━━━━━━━━━━━━━━╇━━━━━━━━━━━━━━━━━━━╇━━━━━━━━━━━━╇━━━━━━━━━━━━━━━━━━━┩\n",
       "│ input_layer_19      │ (\u001b[38;5;45mNone\u001b[0m, \u001b[38;5;34m60\u001b[0m, \u001b[38;5;34m17\u001b[0m)    │          \u001b[38;5;34m0\u001b[0m │ -                 │\n",
       "│ (\u001b[38;5;33mInputLayer\u001b[0m)        │                   │            │                   │\n",
       "├─────────────────────┼───────────────────┼────────────┼───────────────────┤\n",
       "│ conv1d_18 (\u001b[38;5;33mConv1D\u001b[0m)  │ (\u001b[38;5;45mNone\u001b[0m, \u001b[38;5;34m58\u001b[0m, \u001b[38;5;34m64\u001b[0m)    │      \u001b[38;5;34m3,328\u001b[0m │ input_layer_19[\u001b[38;5;34m0\u001b[0m… │\n",
       "├─────────────────────┼───────────────────┼────────────┼───────────────────┤\n",
       "│ lstm_17 (\u001b[38;5;33mLSTM\u001b[0m)      │ (\u001b[38;5;45mNone\u001b[0m, \u001b[38;5;34m58\u001b[0m, \u001b[38;5;34m128\u001b[0m)   │     \u001b[38;5;34m98,816\u001b[0m │ conv1d_18[\u001b[38;5;34m0\u001b[0m][\u001b[38;5;34m0\u001b[0m]   │\n",
       "├─────────────────────┼───────────────────┼────────────┼───────────────────┤\n",
       "│ attention_19        │ (\u001b[38;5;45mNone\u001b[0m, \u001b[38;5;34m58\u001b[0m, \u001b[38;5;34m128\u001b[0m)   │          \u001b[38;5;34m0\u001b[0m │ lstm_17[\u001b[38;5;34m0\u001b[0m][\u001b[38;5;34m0\u001b[0m],    │\n",
       "│ (\u001b[38;5;33mAttention\u001b[0m)         │                   │            │ lstm_17[\u001b[38;5;34m0\u001b[0m][\u001b[38;5;34m0\u001b[0m]     │\n",
       "├─────────────────────┼───────────────────┼────────────┼───────────────────┤\n",
       "│ lambda_3 (\u001b[38;5;33mLambda\u001b[0m)   │ (\u001b[38;5;45mNone\u001b[0m, \u001b[38;5;34m128\u001b[0m)       │          \u001b[38;5;34m0\u001b[0m │ attention_19[\u001b[38;5;34m0\u001b[0m][\u001b[38;5;34m…\u001b[0m │\n",
       "├─────────────────────┼───────────────────┼────────────┼───────────────────┤\n",
       "│ dense_31 (\u001b[38;5;33mDense\u001b[0m)    │ (\u001b[38;5;45mNone\u001b[0m, \u001b[38;5;34m1\u001b[0m)         │        \u001b[38;5;34m129\u001b[0m │ lambda_3[\u001b[38;5;34m0\u001b[0m][\u001b[38;5;34m0\u001b[0m]    │\n",
       "└─────────────────────┴───────────────────┴────────────┴───────────────────┘\n"
      ]
     },
     "metadata": {},
     "output_type": "display_data"
    },
    {
     "data": {
      "text/html": [
       "<pre style=\"white-space:pre;overflow-x:auto;line-height:normal;font-family:Menlo,'DejaVu Sans Mono',consolas,'Courier New',monospace\"><span style=\"font-weight: bold\"> Total params: </span><span style=\"color: #00af00; text-decoration-color: #00af00\">102,273</span> (399.50 KB)\n",
       "</pre>\n"
      ],
      "text/plain": [
       "\u001b[1m Total params: \u001b[0m\u001b[38;5;34m102,273\u001b[0m (399.50 KB)\n"
      ]
     },
     "metadata": {},
     "output_type": "display_data"
    },
    {
     "data": {
      "text/html": [
       "<pre style=\"white-space:pre;overflow-x:auto;line-height:normal;font-family:Menlo,'DejaVu Sans Mono',consolas,'Courier New',monospace\"><span style=\"font-weight: bold\"> Trainable params: </span><span style=\"color: #00af00; text-decoration-color: #00af00\">102,273</span> (399.50 KB)\n",
       "</pre>\n"
      ],
      "text/plain": [
       "\u001b[1m Trainable params: \u001b[0m\u001b[38;5;34m102,273\u001b[0m (399.50 KB)\n"
      ]
     },
     "metadata": {},
     "output_type": "display_data"
    },
    {
     "data": {
      "text/html": [
       "<pre style=\"white-space:pre;overflow-x:auto;line-height:normal;font-family:Menlo,'DejaVu Sans Mono',consolas,'Courier New',monospace\"><span style=\"font-weight: bold\"> Non-trainable params: </span><span style=\"color: #00af00; text-decoration-color: #00af00\">0</span> (0.00 B)\n",
       "</pre>\n"
      ],
      "text/plain": [
       "\u001b[1m Non-trainable params: \u001b[0m\u001b[38;5;34m0\u001b[0m (0.00 B)\n"
      ]
     },
     "metadata": {},
     "output_type": "display_data"
    }
   ],
   "source": [
    "\n",
    "# 输入：过去60分钟特征（形状：(None, 60, num_features)）\n",
    "# inputs = Input(shape=(60, len(feature_cols)))\n",
    "# x = Conv1D(64, 3, activation=\"relu\")(inputs)\n",
    "# x = LSTM(128, return_sequences=True)(x)\n",
    "\n",
    "inputs = Input(shape=(60, len(feature_cols)))\n",
    "\n",
    "\n",
    "# #inputs = Input(shape=(60, len(feature_cols)))\n",
    "# x = Conv1D(64, 3, activation=\"relu\")(inputs)\n",
    "# x = LSTM(128, return_sequences=True)(x)\n",
    "\n",
    "\n",
    "x = Conv1D(64, 3, activation=\"relu\")(inputs)\n",
    "x = LSTM(128, return_sequences=True)(x)  # -> (batch, 60, 128)\n",
    "\n",
    "# 注意力机制聚焦关键时间点\n",
    "attention = Attention()([x, x])\n",
    "#context = tf.reduce_sum(attention * x, axis=1)\n",
    "context_seq = Attention()([x, x])\n",
    "\n",
    "# context_seq, attn_weights = Attention(\n",
    "#     return_attention_scores=True\n",
    "# )([x, x])\n",
    "\n",
    "\n",
    "#3context = Lambda(lambda t: tf.reduce_sum(t, axis=1))(context_seq)\n",
    "\n",
    "context = Lambda(lambda t: tf.reduce_sum(t, axis=1))(context_seq)\n",
    "\n",
    "\n",
    "#3outputs = Dense(1, activation=\"sigmoid\")(context)\n",
    "outputs = Dense(1, activation=\"sigmoid\")(context)\n",
    "# 输出：涨跌方向概率（二分类）\n",
    "#outputs = Dense(1, activation=\"sigmoid\")(context)  # 0=跌，1=涨\n",
    "\n",
    "\n",
    "model = Model(inputs, outputs)\n",
    "model.compile(\n",
    "    optimizer=\"adam\",\n",
    "    loss=\"binary_crossentropy\",\n",
    "    metrics=[\"accuracy\"]\n",
    ")\n",
    "model.summary()\n",
    "\n",
    "# model = Model(inputs, outputs)\n",
    "# model.compile(\n",
    "#     optimizer=\"adam\",\n",
    "#     loss=\"binary_crossentropy\",\n",
    "#     metrics=[\"accuracy\"]\n",
    "# )\n",
    "\n",
    "# 编译模型（优化方向准确性）\n",
    "# model = tf.keras.Model(inputs=inputs, outputs=outputs)\n",
    "# model.compile(\n",
    "#     optimizer=\"adam\",\n",
    "#     loss=\"binary_crossentropy\",\n",
    "#     metrics=[\"accuracy\"]\n",
    "# )\n",
    "\n",
    "# 训练并验证方向准确性\n"
   ]
  },
  {
   "cell_type": "code",
   "execution_count": 201,
   "id": "12a292eb-6734-47e5-ab93-d27098b5cb2f",
   "metadata": {},
   "outputs": [
    {
     "data": {
      "text/plain": [
       "['open',\n",
       " 'high',\n",
       " 'low',\n",
       " 'close',\n",
       " 'volume',\n",
       " 'openinterest',\n",
       " 'MA5',\n",
       " 'MA10',\n",
       " 'RSI',\n",
       " 'lag_1',\n",
       " 'lag_5',\n",
       " 'rolling_mean_10',\n",
       " 'rolling_std_10',\n",
       " 'momentum_5',\n",
       " 'momentum_10',\n",
       " 'volatility_30',\n",
       " 'price_volume_divergence']"
      ]
     },
     "execution_count": 201,
     "metadata": {},
     "output_type": "execute_result"
    }
   ],
   "source": [
    "feature_cols"
   ]
  },
  {
   "cell_type": "code",
   "execution_count": 202,
   "id": "1f5d5c91-b0a7-450e-ad66-8fd4d0b08577",
   "metadata": {},
   "outputs": [
    {
     "data": {
      "text/html": [
       "<div>\n",
       "<style scoped>\n",
       "    .dataframe tbody tr th:only-of-type {\n",
       "        vertical-align: middle;\n",
       "    }\n",
       "\n",
       "    .dataframe tbody tr th {\n",
       "        vertical-align: top;\n",
       "    }\n",
       "\n",
       "    .dataframe thead th {\n",
       "        text-align: right;\n",
       "    }\n",
       "</style>\n",
       "<table border=\"1\" class=\"dataframe\">\n",
       "  <thead>\n",
       "    <tr style=\"text-align: right;\">\n",
       "      <th></th>\n",
       "      <th>Unnamed: 0</th>\n",
       "      <th>datetime</th>\n",
       "      <th>contract</th>\n",
       "      <th>symbol</th>\n",
       "      <th>exchange</th>\n",
       "      <th>open</th>\n",
       "      <th>high</th>\n",
       "      <th>low</th>\n",
       "      <th>close</th>\n",
       "      <th>openinterest</th>\n",
       "      <th>...</th>\n",
       "      <th>Volume_Change</th>\n",
       "      <th>Price_Volume_Corr</th>\n",
       "      <th>future_close</th>\n",
       "      <th>涨跌幅</th>\n",
       "      <th>hour</th>\n",
       "      <th>minute</th>\n",
       "      <th>session</th>\n",
       "      <th>涨跌幅_scaled</th>\n",
       "      <th>arima_residual</th>\n",
       "      <th>MA10</th>\n",
       "    </tr>\n",
       "  </thead>\n",
       "  <tbody>\n",
       "    <tr>\n",
       "      <th>0</th>\n",
       "      <td>13</td>\n",
       "      <td>2017-01-03 09:13:00</td>\n",
       "      <td>HC1705</td>\n",
       "      <td>HC</td>\n",
       "      <td>SHFE</td>\n",
       "      <td>3372.0</td>\n",
       "      <td>3372.0</td>\n",
       "      <td>3362.0</td>\n",
       "      <td>3363.0</td>\n",
       "      <td>172022.0</td>\n",
       "      <td>...</td>\n",
       "      <td>-0.013410</td>\n",
       "      <td>0.196844</td>\n",
       "      <td>3356.0</td>\n",
       "      <td>-0.208147</td>\n",
       "      <td>9</td>\n",
       "      <td>13</td>\n",
       "      <td>Morning</td>\n",
       "      <td>-0.408166</td>\n",
       "      <td>3363.000000</td>\n",
       "      <td>3363.000000</td>\n",
       "    </tr>\n",
       "    <tr>\n",
       "      <th>1</th>\n",
       "      <td>14</td>\n",
       "      <td>2017-01-03 09:14:00</td>\n",
       "      <td>HC1705</td>\n",
       "      <td>HC</td>\n",
       "      <td>SHFE</td>\n",
       "      <td>3363.0</td>\n",
       "      <td>3366.0</td>\n",
       "      <td>3358.0</td>\n",
       "      <td>3365.0</td>\n",
       "      <td>172009.0</td>\n",
       "      <td>...</td>\n",
       "      <td>-0.051661</td>\n",
       "      <td>0.207903</td>\n",
       "      <td>3351.0</td>\n",
       "      <td>-0.416048</td>\n",
       "      <td>9</td>\n",
       "      <td>14</td>\n",
       "      <td>Morning</td>\n",
       "      <td>-0.807961</td>\n",
       "      <td>2.002386</td>\n",
       "      <td>3364.000000</td>\n",
       "    </tr>\n",
       "    <tr>\n",
       "      <th>2</th>\n",
       "      <td>15</td>\n",
       "      <td>2017-01-03 09:15:00</td>\n",
       "      <td>HC1705</td>\n",
       "      <td>HC</td>\n",
       "      <td>SHFE</td>\n",
       "      <td>3367.0</td>\n",
       "      <td>3372.0</td>\n",
       "      <td>3365.0</td>\n",
       "      <td>3366.0</td>\n",
       "      <td>171768.0</td>\n",
       "      <td>...</td>\n",
       "      <td>-0.128878</td>\n",
       "      <td>0.216773</td>\n",
       "      <td>3353.0</td>\n",
       "      <td>-0.386215</td>\n",
       "      <td>9</td>\n",
       "      <td>15</td>\n",
       "      <td>Morning</td>\n",
       "      <td>-0.750593</td>\n",
       "      <td>1.086440</td>\n",
       "      <td>3364.666667</td>\n",
       "    </tr>\n",
       "    <tr>\n",
       "      <th>3</th>\n",
       "      <td>16</td>\n",
       "      <td>2017-01-03 09:16:00</td>\n",
       "      <td>HC1705</td>\n",
       "      <td>HC</td>\n",
       "      <td>SHFE</td>\n",
       "      <td>3366.0</td>\n",
       "      <td>3371.0</td>\n",
       "      <td>3365.0</td>\n",
       "      <td>3366.0</td>\n",
       "      <td>171779.0</td>\n",
       "      <td>...</td>\n",
       "      <td>-0.236832</td>\n",
       "      <td>0.226767</td>\n",
       "      <td>3359.0</td>\n",
       "      <td>-0.207962</td>\n",
       "      <td>9</td>\n",
       "      <td>16</td>\n",
       "      <td>Morning</td>\n",
       "      <td>-0.407809</td>\n",
       "      <td>0.060852</td>\n",
       "      <td>3365.000000</td>\n",
       "    </tr>\n",
       "    <tr>\n",
       "      <th>4</th>\n",
       "      <td>17</td>\n",
       "      <td>2017-01-03 09:17:00</td>\n",
       "      <td>HC1705</td>\n",
       "      <td>HC</td>\n",
       "      <td>SHFE</td>\n",
       "      <td>3368.0</td>\n",
       "      <td>3370.0</td>\n",
       "      <td>3364.0</td>\n",
       "      <td>3367.0</td>\n",
       "      <td>171901.0</td>\n",
       "      <td>...</td>\n",
       "      <td>-0.033672</td>\n",
       "      <td>0.232937</td>\n",
       "      <td>3359.0</td>\n",
       "      <td>-0.237600</td>\n",
       "      <td>9</td>\n",
       "      <td>17</td>\n",
       "      <td>Morning</td>\n",
       "      <td>-0.464804</td>\n",
       "      <td>1.014362</td>\n",
       "      <td>3365.400000</td>\n",
       "    </tr>\n",
       "    <tr>\n",
       "      <th>...</th>\n",
       "      <td>...</td>\n",
       "      <td>...</td>\n",
       "      <td>...</td>\n",
       "      <td>...</td>\n",
       "      <td>...</td>\n",
       "      <td>...</td>\n",
       "      <td>...</td>\n",
       "      <td>...</td>\n",
       "      <td>...</td>\n",
       "      <td>...</td>\n",
       "      <td>...</td>\n",
       "      <td>...</td>\n",
       "      <td>...</td>\n",
       "      <td>...</td>\n",
       "      <td>...</td>\n",
       "      <td>...</td>\n",
       "      <td>...</td>\n",
       "      <td>...</td>\n",
       "      <td>...</td>\n",
       "      <td>...</td>\n",
       "      <td>...</td>\n",
       "    </tr>\n",
       "    <tr>\n",
       "      <th>505522</th>\n",
       "      <td>1093042</td>\n",
       "      <td>2025-04-18 13:55:00</td>\n",
       "      <td>HC2510</td>\n",
       "      <td>HC</td>\n",
       "      <td>SHFE</td>\n",
       "      <td>3187.0</td>\n",
       "      <td>3187.0</td>\n",
       "      <td>3184.0</td>\n",
       "      <td>3186.0</td>\n",
       "      <td>1386731.0</td>\n",
       "      <td>...</td>\n",
       "      <td>0.003212</td>\n",
       "      <td>-0.225452</td>\n",
       "      <td>3188.0</td>\n",
       "      <td>0.062775</td>\n",
       "      <td>13</td>\n",
       "      <td>55</td>\n",
       "      <td>Afternoon</td>\n",
       "      <td>0.112821</td>\n",
       "      <td>-0.038014</td>\n",
       "      <td>3180.700000</td>\n",
       "    </tr>\n",
       "    <tr>\n",
       "      <th>505523</th>\n",
       "      <td>1093043</td>\n",
       "      <td>2025-04-18 13:56:00</td>\n",
       "      <td>HC2510</td>\n",
       "      <td>HC</td>\n",
       "      <td>SHFE</td>\n",
       "      <td>3186.0</td>\n",
       "      <td>3187.0</td>\n",
       "      <td>3183.0</td>\n",
       "      <td>3184.0</td>\n",
       "      <td>1386638.0</td>\n",
       "      <td>...</td>\n",
       "      <td>-0.297878</td>\n",
       "      <td>-0.237943</td>\n",
       "      <td>3190.0</td>\n",
       "      <td>0.188442</td>\n",
       "      <td>13</td>\n",
       "      <td>56</td>\n",
       "      <td>Afternoon</td>\n",
       "      <td>0.354482</td>\n",
       "      <td>-2.001019</td>\n",
       "      <td>3181.500000</td>\n",
       "    </tr>\n",
       "    <tr>\n",
       "      <th>505524</th>\n",
       "      <td>1093044</td>\n",
       "      <td>2025-04-18 13:57:00</td>\n",
       "      <td>HC2510</td>\n",
       "      <td>HC</td>\n",
       "      <td>SHFE</td>\n",
       "      <td>3183.0</td>\n",
       "      <td>3185.0</td>\n",
       "      <td>3183.0</td>\n",
       "      <td>3183.0</td>\n",
       "      <td>1386938.0</td>\n",
       "      <td>...</td>\n",
       "      <td>0.011758</td>\n",
       "      <td>-0.240678</td>\n",
       "      <td>3192.0</td>\n",
       "      <td>0.282752</td>\n",
       "      <td>13</td>\n",
       "      <td>57</td>\n",
       "      <td>Afternoon</td>\n",
       "      <td>0.535842</td>\n",
       "      <td>-1.089495</td>\n",
       "      <td>3182.100000</td>\n",
       "    </tr>\n",
       "    <tr>\n",
       "      <th>505525</th>\n",
       "      <td>1093045</td>\n",
       "      <td>2025-04-18 13:58:00</td>\n",
       "      <td>HC2510</td>\n",
       "      <td>HC</td>\n",
       "      <td>SHFE</td>\n",
       "      <td>3183.0</td>\n",
       "      <td>3184.0</td>\n",
       "      <td>3181.0</td>\n",
       "      <td>3182.0</td>\n",
       "      <td>1387347.0</td>\n",
       "      <td>...</td>\n",
       "      <td>-0.122511</td>\n",
       "      <td>-0.236779</td>\n",
       "      <td>3194.0</td>\n",
       "      <td>0.377121</td>\n",
       "      <td>13</td>\n",
       "      <td>58</td>\n",
       "      <td>Afternoon</td>\n",
       "      <td>0.717315</td>\n",
       "      <td>-1.060930</td>\n",
       "      <td>3182.800000</td>\n",
       "    </tr>\n",
       "    <tr>\n",
       "      <th>505526</th>\n",
       "      <td>1093046</td>\n",
       "      <td>2025-04-18 13:59:00</td>\n",
       "      <td>HC2510</td>\n",
       "      <td>HC</td>\n",
       "      <td>SHFE</td>\n",
       "      <td>3181.0</td>\n",
       "      <td>3182.0</td>\n",
       "      <td>3181.0</td>\n",
       "      <td>3182.0</td>\n",
       "      <td>1387658.0</td>\n",
       "      <td>...</td>\n",
       "      <td>-0.198340</td>\n",
       "      <td>-0.231516</td>\n",
       "      <td>3196.0</td>\n",
       "      <td>0.439975</td>\n",
       "      <td>13</td>\n",
       "      <td>59</td>\n",
       "      <td>Afternoon</td>\n",
       "      <td>0.838184</td>\n",
       "      <td>-0.057967</td>\n",
       "      <td>3183.600000</td>\n",
       "    </tr>\n",
       "  </tbody>\n",
       "</table>\n",
       "<p>505527 rows × 28 columns</p>\n",
       "</div>"
      ],
      "text/plain": [
       "        Unnamed: 0             datetime contract symbol exchange    open  \\\n",
       "0               13  2017-01-03 09:13:00   HC1705     HC     SHFE  3372.0   \n",
       "1               14  2017-01-03 09:14:00   HC1705     HC     SHFE  3363.0   \n",
       "2               15  2017-01-03 09:15:00   HC1705     HC     SHFE  3367.0   \n",
       "3               16  2017-01-03 09:16:00   HC1705     HC     SHFE  3366.0   \n",
       "4               17  2017-01-03 09:17:00   HC1705     HC     SHFE  3368.0   \n",
       "...            ...                  ...      ...    ...      ...     ...   \n",
       "505522     1093042  2025-04-18 13:55:00   HC2510     HC     SHFE  3187.0   \n",
       "505523     1093043  2025-04-18 13:56:00   HC2510     HC     SHFE  3186.0   \n",
       "505524     1093044  2025-04-18 13:57:00   HC2510     HC     SHFE  3183.0   \n",
       "505525     1093045  2025-04-18 13:58:00   HC2510     HC     SHFE  3183.0   \n",
       "505526     1093046  2025-04-18 13:59:00   HC2510     HC     SHFE  3181.0   \n",
       "\n",
       "          high     low   close  openinterest  ...  Volume_Change  \\\n",
       "0       3372.0  3362.0  3363.0      172022.0  ...      -0.013410   \n",
       "1       3366.0  3358.0  3365.0      172009.0  ...      -0.051661   \n",
       "2       3372.0  3365.0  3366.0      171768.0  ...      -0.128878   \n",
       "3       3371.0  3365.0  3366.0      171779.0  ...      -0.236832   \n",
       "4       3370.0  3364.0  3367.0      171901.0  ...      -0.033672   \n",
       "...        ...     ...     ...           ...  ...            ...   \n",
       "505522  3187.0  3184.0  3186.0     1386731.0  ...       0.003212   \n",
       "505523  3187.0  3183.0  3184.0     1386638.0  ...      -0.297878   \n",
       "505524  3185.0  3183.0  3183.0     1386938.0  ...       0.011758   \n",
       "505525  3184.0  3181.0  3182.0     1387347.0  ...      -0.122511   \n",
       "505526  3182.0  3181.0  3182.0     1387658.0  ...      -0.198340   \n",
       "\n",
       "        Price_Volume_Corr  future_close       涨跌幅  hour  minute    session  \\\n",
       "0                0.196844        3356.0 -0.208147     9      13    Morning   \n",
       "1                0.207903        3351.0 -0.416048     9      14    Morning   \n",
       "2                0.216773        3353.0 -0.386215     9      15    Morning   \n",
       "3                0.226767        3359.0 -0.207962     9      16    Morning   \n",
       "4                0.232937        3359.0 -0.237600     9      17    Morning   \n",
       "...                   ...           ...       ...   ...     ...        ...   \n",
       "505522          -0.225452        3188.0  0.062775    13      55  Afternoon   \n",
       "505523          -0.237943        3190.0  0.188442    13      56  Afternoon   \n",
       "505524          -0.240678        3192.0  0.282752    13      57  Afternoon   \n",
       "505525          -0.236779        3194.0  0.377121    13      58  Afternoon   \n",
       "505526          -0.231516        3196.0  0.439975    13      59  Afternoon   \n",
       "\n",
       "        涨跌幅_scaled  arima_residual         MA10  \n",
       "0        -0.408166     3363.000000  3363.000000  \n",
       "1        -0.807961        2.002386  3364.000000  \n",
       "2        -0.750593        1.086440  3364.666667  \n",
       "3        -0.407809        0.060852  3365.000000  \n",
       "4        -0.464804        1.014362  3365.400000  \n",
       "...            ...             ...          ...  \n",
       "505522    0.112821       -0.038014  3180.700000  \n",
       "505523    0.354482       -2.001019  3181.500000  \n",
       "505524    0.535842       -1.089495  3182.100000  \n",
       "505525    0.717315       -1.060930  3182.800000  \n",
       "505526    0.838184       -0.057967  3183.600000  \n",
       "\n",
       "[505527 rows x 28 columns]"
      ]
     },
     "execution_count": 202,
     "metadata": {},
     "output_type": "execute_result"
    }
   ],
   "source": [
    "symbol_data"
   ]
  },
  {
   "cell_type": "code",
   "execution_count": null,
   "id": "93240818-b150-4acf-b238-464f497c543a",
   "metadata": {},
   "outputs": [],
   "source": [
    "# 假设 merged_df 是包含特征的DataFrame\n",
    "feature_cols = [\"open\", \"high\", \"low\", \"close\", \"volume\", \"RSI\"]\n",
    "target_col = \"涨跌幅\"\n",
    "\n",
    "def create_sequences(symbol_data, feature_cols, window=60):\n",
    "    X, y = [], []\n",
    "    data = symbol_data[feature_cols].values  # DataFrame列名索引\n",
    "    labels = symbol_data[target_col].values\n",
    "    for i in range(len(data) - window):\n",
    "        X.append(data[i:i+window])\n",
    "        y.append(labels[i+window])\n",
    "    return np.array(X), np.array(y)\n",
    "\n",
    "# 生成序列\n",
    "X_seq, y_seq = create_sequences(merged_df, feature_cols, window=60)\n",
    "\n",
    "# 检查输出形状\n",
    "print(\"X_seq 形状:\", X_seq.shape)  # (样本数, 60, 特征数)\n",
    "print(\"y_seq 形状:\", y_seq.shape)  # (样本数,)"
   ]
  },
  {
   "cell_type": "code",
   "execution_count": null,
   "id": "9d5ca926-da55-4fd9-be2a-35347a8e098f",
   "metadata": {},
   "outputs": [],
   "source": []
  },
  {
   "cell_type": "code",
   "execution_count": 200,
   "id": "47ee2897-039a-45b5-8c77-83f2b7cee578",
   "metadata": {},
   "outputs": [
    {
     "ename": "IndexError",
     "evalue": "arrays used as indices must be of integer (or boolean) type",
     "output_type": "error",
     "traceback": [
      "\u001b[0;31m---------------------------------------------------------------------------\u001b[0m",
      "\u001b[0;31mIndexError\u001b[0m                                Traceback (most recent call last)",
      "Cell \u001b[0;32mIn[200], line 13\u001b[0m\n\u001b[1;32m     11\u001b[0m \u001b[38;5;66;03m# 生成序列\u001b[39;00m\n\u001b[1;32m     12\u001b[0m window_size \u001b[38;5;241m=\u001b[39m \u001b[38;5;241m60\u001b[39m\n\u001b[0;32m---> 13\u001b[0m X_seq, y_seq \u001b[38;5;241m=\u001b[39m \u001b[43mcreate_sequences\u001b[49m\u001b[43m(\u001b[49m\u001b[43mX_scaled\u001b[49m\u001b[43m,\u001b[49m\u001b[43m \u001b[49m\u001b[43my_labels\u001b[49m\u001b[43m,\u001b[49m\u001b[43m \u001b[49m\u001b[43mwindow_size\u001b[49m\u001b[43m)\u001b[49m\n\u001b[1;32m     15\u001b[0m \u001b[38;5;66;03m# 划分训练集和验证集\u001b[39;00m\n\u001b[1;32m     16\u001b[0m split \u001b[38;5;241m=\u001b[39m \u001b[38;5;28mint\u001b[39m(\u001b[38;5;241m0.8\u001b[39m \u001b[38;5;241m*\u001b[39m \u001b[38;5;28mlen\u001b[39m(X_seq))\n",
      "Cell \u001b[0;32mIn[78], line 3\u001b[0m, in \u001b[0;36mcreate_sequences\u001b[0;34m(symbol_data, feature_cols, window)\u001b[0m\n\u001b[1;32m      1\u001b[0m \u001b[38;5;28;01mdef\u001b[39;00m \u001b[38;5;21mcreate_sequences\u001b[39m(symbol_data, feature_cols, window\u001b[38;5;241m=\u001b[39m\u001b[38;5;241m60\u001b[39m):\n\u001b[1;32m      2\u001b[0m     X, y \u001b[38;5;241m=\u001b[39m [], []\n\u001b[0;32m----> 3\u001b[0m     data \u001b[38;5;241m=\u001b[39m \u001b[43msymbol_data\u001b[49m\u001b[43m[\u001b[49m\u001b[43mfeature_cols\u001b[49m\u001b[43m]\u001b[49m\u001b[38;5;241m.\u001b[39mvalues  \u001b[38;5;66;03m# 转换为NumPy数组\u001b[39;00m\n\u001b[1;32m      4\u001b[0m     labels \u001b[38;5;241m=\u001b[39m symbol_data[\u001b[38;5;124m\"\u001b[39m\u001b[38;5;124m涨跌幅\u001b[39m\u001b[38;5;124m\"\u001b[39m]\u001b[38;5;241m.\u001b[39mvalues     \u001b[38;5;66;03m# 单独提取标签\u001b[39;00m\n\u001b[1;32m      5\u001b[0m     \u001b[38;5;28;01mfor\u001b[39;00m i \u001b[38;5;129;01min\u001b[39;00m \u001b[38;5;28mrange\u001b[39m(\u001b[38;5;28mlen\u001b[39m(data) \u001b[38;5;241m-\u001b[39m window):\n",
      "\u001b[0;31mIndexError\u001b[0m: arrays used as indices must be of integer (or boolean) type"
     ]
    }
   ],
   "source": [
    "target_col = \"涨跌幅\"\n",
    "\n",
    "# 提取特征和标签\n",
    "X_data = merged_df[feature_cols].values\n",
    "y_labels = merged_df[target_col].values\n",
    "\n",
    "# 标准化特征\n",
    "scaler = StandardScaler()\n",
    "X_scaled = scaler.fit_transform(X_data)\n",
    "\n",
    "# 生成序列\n",
    "window_size = 60\n",
    "X_seq, y_seq = create_sequences(X_scaled, y_labels, window_size)\n",
    "\n",
    "# 划分训练集和验证集\n",
    "split = int(0.8 * len(X_seq))\n",
    "X_train_seq, X_val_seq = X_seq[:split], X_seq[split:]\n",
    "y_train_seq, y_val_seq = y_seq[:split], y_seq[split:]\n",
    "\n",
    "# 转换为二分类标签\n",
    "y_train_cls = (y_train_seq > 0).astype(float)\n",
    "y_val_cls = (y_val_seq > 0).astype(float)"
   ]
  },
  {
   "cell_type": "code",
   "execution_count": 199,
   "id": "f3ff33b6-e019-4e05-acfc-4f9af3fc77d7",
   "metadata": {},
   "outputs": [
    {
     "ename": "NameError",
     "evalue": "name 'X_train_seq' is not defined",
     "output_type": "error",
     "traceback": [
      "\u001b[0;31m---------------------------------------------------------------------------\u001b[0m",
      "\u001b[0;31mNameError\u001b[0m                                 Traceback (most recent call last)",
      "Cell \u001b[0;32mIn[199], line 2\u001b[0m\n\u001b[1;32m      1\u001b[0m model\u001b[38;5;241m.\u001b[39mfit(\n\u001b[0;32m----> 2\u001b[0m     \u001b[43mX_train_seq\u001b[49m, (y_train \u001b[38;5;241m>\u001b[39m \u001b[38;5;241m0\u001b[39m)\u001b[38;5;241m.\u001b[39mastype(\u001b[38;5;28mfloat\u001b[39m),  \u001b[38;5;66;03m# 标签转换为0/1\u001b[39;00m\n\u001b[1;32m      3\u001b[0m     validation_data\u001b[38;5;241m=\u001b[39m(X_val_seq, (y_val \u001b[38;5;241m>\u001b[39m \u001b[38;5;241m0\u001b[39m)\u001b[38;5;241m.\u001b[39mastype(\u001b[38;5;28mfloat\u001b[39m)),\n\u001b[1;32m      4\u001b[0m     epochs\u001b[38;5;241m=\u001b[39m\u001b[38;5;241m50\u001b[39m,\n\u001b[1;32m      5\u001b[0m     batch_size\u001b[38;5;241m=\u001b[39m\u001b[38;5;241m64\u001b[39m\n\u001b[1;32m      6\u001b[0m )\n",
      "\u001b[0;31mNameError\u001b[0m: name 'X_train_seq' is not defined"
     ]
    }
   ],
   "source": [
    "model.fit(\n",
    "    X_train_seq, (y_train > 0).astype(float),  # 标签转换为0/1\n",
    "    validation_data=(X_val_seq, (y_val > 0).astype(float)),\n",
    "    epochs=50,\n",
    "    batch_size=64\n",
    ")"
   ]
  },
  {
   "cell_type": "code",
   "execution_count": null,
   "id": "1b26f1d7-8762-4bd4-a590-b6c03a7bc1d1",
   "metadata": {},
   "outputs": [],
   "source": []
  }
 ],
 "metadata": {
  "kernelspec": {
   "display_name": "Python 3 (ipykernel)",
   "language": "python",
   "name": "python3"
  },
  "language_info": {
   "codemirror_mode": {
    "name": "ipython",
    "version": 3
   },
   "file_extension": ".py",
   "mimetype": "text/x-python",
   "name": "python",
   "nbconvert_exporter": "python",
   "pygments_lexer": "ipython3",
   "version": "3.12.3"
  }
 },
 "nbformat": 4,
 "nbformat_minor": 5
}
