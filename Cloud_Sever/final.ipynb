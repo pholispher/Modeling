{
 "cells": [
  {
   "cell_type": "code",
   "execution_count": 1,
   "id": "5984749e-18b9-4a8b-b733-88b1a2e64edc",
   "metadata": {},
   "outputs": [],
   "source": [
    "import numpy as np\n",
    "import xgboost as xgb\n",
    "import matplotlib.pyplot as plt\n",
    "from sklearn.model_selection import train_test_split"
   ]
  },
  {
   "cell_type": "code",
   "execution_count": 2,
   "id": "45186c7c-0c88-44fa-98a1-da6363528768",
   "metadata": {},
   "outputs": [],
   "source": [
    "import warnings\n",
    "warnings.filterwarnings(\"ignore\")"
   ]
  },
  {
   "cell_type": "code",
   "execution_count": 3,
   "id": "63021aa3-12b7-410a-b5e3-262829e8988b",
   "metadata": {},
   "outputs": [
    {
     "name": "stderr",
     "output_type": "stream",
     "text": [
      "2025-05-03 13:55:25.238335: I tensorflow/core/util/port.cc:153] oneDNN custom operations are on. You may see slightly different numerical results due to floating-point round-off errors from different computation orders. To turn them off, set the environment variable `TF_ENABLE_ONEDNN_OPTS=0`.\n",
      "2025-05-03 13:55:25.250152: E external/local_xla/xla/stream_executor/cuda/cuda_fft.cc:467] Unable to register cuFFT factory: Attempting to register factory for plugin cuFFT when one has already been registered\n",
      "WARNING: All log messages before absl::InitializeLog() is called are written to STDERR\n",
      "E0000 00:00:1746251725.262632    1395 cuda_dnn.cc:8579] Unable to register cuDNN factory: Attempting to register factory for plugin cuDNN when one has already been registered\n",
      "E0000 00:00:1746251725.266407    1395 cuda_blas.cc:1407] Unable to register cuBLAS factory: Attempting to register factory for plugin cuBLAS when one has already been registered\n",
      "W0000 00:00:1746251725.276717    1395 computation_placer.cc:177] computation placer already registered. Please check linkage and avoid linking the same target more than once.\n",
      "W0000 00:00:1746251725.276731    1395 computation_placer.cc:177] computation placer already registered. Please check linkage and avoid linking the same target more than once.\n",
      "W0000 00:00:1746251725.276733    1395 computation_placer.cc:177] computation placer already registered. Please check linkage and avoid linking the same target more than once.\n",
      "W0000 00:00:1746251725.276734    1395 computation_placer.cc:177] computation placer already registered. Please check linkage and avoid linking the same target more than once.\n",
      "2025-05-03 13:55:25.280154: I tensorflow/core/platform/cpu_feature_guard.cc:210] This TensorFlow binary is optimized to use available CPU instructions in performance-critical operations.\n",
      "To enable the following instructions: AVX2 AVX512F AVX512_VNNI AVX512_BF16 FMA, in other operations, rebuild TensorFlow with the appropriate compiler flags.\n"
     ]
    }
   ],
   "source": [
    "from statsmodels.tsa.arima.model import ARIMA\n",
    "from tensorflow.keras.layers import Dot\n",
    "# ====== 4. 标准化 ======\n",
    "from sklearn.preprocessing import StandardScaler\n",
    "\n",
    "import shap\n",
    "\n",
    "from statsmodels.tsa.stattools import adfuller\n",
    "import pandas as pd\n",
    "import os\n",
    "import glob\n",
    "import matplotlib.pyplot as plt\n",
    "from datetime import datetime\n",
    "import seaborn as sns \n",
    "import numpy as np\n",
    "import tensorflow as tf\n",
    "from tensorflow.keras.layers import Input, Conv1D, LSTM, Dense, Attention, Bidirectional, Flatten\n",
    "\n",
    "from pmdarima import auto_arima\n",
    "from statsmodels.tsa.arima.model import ARIMA\n",
    "\n",
    "import tensorflow as tf\n",
    "from tensorflow.keras.layers import Input, Conv1D, LSTM, Dense, Attention, Bidirectional, Flatten"
   ]
  },
  {
   "cell_type": "code",
   "execution_count": 5,
   "id": "89492165-34cb-4db6-a6b3-f14a5ef5360c",
   "metadata": {},
   "outputs": [],
   "source": [
    "import os\n",
    "# 屏蔽所有 GPU，强制 CPU 模式\n",
    "os.environ[\"CUDA_VISIBLE_DEVICES\"] = \"-1\"\n",
    "\n",
    "import tensorflow as tf"
   ]
  },
  {
   "cell_type": "code",
   "execution_count": 12,
   "id": "6120a6aa-9da2-4d17-a8cb-b338e73ccd24",
   "metadata": {},
   "outputs": [
    {
     "name": "stdout",
     "output_type": "stream",
     "text": [
      "模型结构配置: {\"class_name\": \"Functional\", \"config\": {\"name\": \"functional\", \"trainable\": true, \"layers\": [{\"class_name\": \"InputLayer\", \"config\": {\"batch_shape\": [null, 60, 24], \"dtype\": \"float32\", \"sparse\": false, \"ragged\": false, \"name\": \"input_layer_5\"}, \"name\": \"input_layer_5\", \"inbound_nodes\": []}, {\"class_name\": \"Conv1D\", \"config\": {\"name\": \"conv1d_5\", \"trainable\": true, \"dtype\": {\"module\": \"keras\", \"class_name\": \"DTypePolicy\", \"config\": {\"name\": \"float32\"}, \"registered_name\": null}, \"filters\": 64, \"kernel_size\": [3], \"strides\": [1], \"padding\": \"valid\", \"data_format\": \"channels_last\", \"dilation_rate\": [1], \"groups\": 1, \"activation\": \"relu\", \"use_bias\": true, \"kernel_initializer\": {\"module\": \"keras.initializers\", \"class_name\": \"GlorotUniform\", \"config\": {\"seed\": null}, \"registered_name\": null}, \"bias_initializer\": {\"module\": \"keras.initializers\", \"class_name\": \"Zeros\", \"config\": {}, \"registered_name\": null}, \"kernel_regularizer\": null, \"bias_regularizer\": null, \"activity_regularizer\": null, \"kernel_constraint\": null, \"bias_constraint\": null}, \"name\": \"conv1d_5\", \"inbound_nodes\": [{\"args\": [{\"class_name\": \"__keras_tensor__\", \"config\": {\"shape\": [null, 60, 24], \"dtype\": \"float32\", \"keras_history\": [\"input_layer_5\", 0, 0]}}], \"kwargs\": {}}]}, {\"class_name\": \"MaxPooling1D\", \"config\": {\"name\": \"max_pooling1d_5\", \"trainable\": true, \"dtype\": {\"module\": \"keras\", \"class_name\": \"DTypePolicy\", \"config\": {\"name\": \"float32\"}, \"registered_name\": null}, \"pool_size\": [2], \"padding\": \"valid\", \"strides\": [2], \"data_format\": \"channels_last\"}, \"name\": \"max_pooling1d_5\", \"inbound_nodes\": [{\"args\": [{\"class_name\": \"__keras_tensor__\", \"config\": {\"shape\": [null, 58, 64], \"dtype\": \"float32\", \"keras_history\": [\"conv1d_5\", 0, 0]}}], \"kwargs\": {}}]}, {\"class_name\": \"Bidirectional\", \"config\": {\"name\": \"bidirectional_5\", \"trainable\": true, \"dtype\": {\"module\": \"keras\", \"class_name\": \"DTypePolicy\", \"config\": {\"name\": \"float32\"}, \"registered_name\": null}, \"merge_mode\": \"concat\", \"layer\": {\"module\": \"keras.layers\", \"class_name\": \"LSTM\", \"config\": {\"name\": \"forward_lstm_5\", \"trainable\": true, \"dtype\": {\"module\": \"keras\", \"class_name\": \"DTypePolicy\", \"config\": {\"name\": \"float32\"}, \"registered_name\": null}, \"return_sequences\": true, \"return_state\": false, \"go_backwards\": false, \"stateful\": false, \"unroll\": false, \"zero_output_for_mask\": true, \"units\": 128, \"activation\": \"tanh\", \"recurrent_activation\": \"sigmoid\", \"use_bias\": true, \"kernel_initializer\": {\"module\": \"keras.initializers\", \"class_name\": \"GlorotUniform\", \"config\": {\"seed\": null}, \"registered_name\": null}, \"recurrent_initializer\": {\"module\": \"keras.initializers\", \"class_name\": \"Orthogonal\", \"config\": {\"seed\": null, \"gain\": 1.0}, \"registered_name\": null}, \"bias_initializer\": {\"module\": \"keras.initializers\", \"class_name\": \"Zeros\", \"config\": {}, \"registered_name\": null}, \"unit_forget_bias\": true, \"kernel_regularizer\": null, \"recurrent_regularizer\": null, \"bias_regularizer\": null, \"activity_regularizer\": null, \"kernel_constraint\": null, \"recurrent_constraint\": null, \"bias_constraint\": null, \"dropout\": 0.0, \"recurrent_dropout\": 0.0, \"seed\": null}, \"registered_name\": null, \"build_config\": {\"input_shape\": [null, 29, 64]}}, \"backward_layer\": {\"module\": \"keras.layers\", \"class_name\": \"LSTM\", \"config\": {\"name\": \"backward_lstm_5\", \"trainable\": true, \"dtype\": {\"module\": \"keras\", \"class_name\": \"DTypePolicy\", \"config\": {\"name\": \"float32\"}, \"registered_name\": null}, \"return_sequences\": true, \"return_state\": false, \"go_backwards\": true, \"stateful\": false, \"unroll\": false, \"zero_output_for_mask\": true, \"units\": 128, \"activation\": \"tanh\", \"recurrent_activation\": \"sigmoid\", \"use_bias\": true, \"kernel_initializer\": {\"module\": \"keras.initializers\", \"class_name\": \"GlorotUniform\", \"config\": {\"seed\": null}, \"registered_name\": null}, \"recurrent_initializer\": {\"module\": \"keras.initializers\", \"class_name\": \"Orthogonal\", \"config\": {\"seed\": null, \"gain\": 1.0}, \"registered_name\": null}, \"bias_initializer\": {\"module\": \"keras.initializers\", \"class_name\": \"Zeros\", \"config\": {}, \"registered_name\": null}, \"unit_forget_bias\": true, \"kernel_regularizer\": null, \"recurrent_regularizer\": null, \"bias_regularizer\": null, \"activity_regularizer\": null, \"kernel_constraint\": null, \"recurrent_constraint\": null, \"bias_constraint\": null, \"dropout\": 0.0, \"recurrent_dropout\": 0.0, \"seed\": null}, \"registered_name\": null, \"build_config\": {\"input_shape\": [null, 29, 64]}}}, \"name\": \"bidirectional_5\", \"inbound_nodes\": [{\"args\": [{\"class_name\": \"__keras_tensor__\", \"config\": {\"shape\": [null, 29, 64], \"dtype\": \"float32\", \"keras_history\": [\"max_pooling1d_5\", 0, 0]}}], \"kwargs\": {\"mask\": null}}]}, {\"class_name\": \"Dense\", \"config\": {\"name\": \"dense_10\", \"trainable\": true, \"dtype\": {\"module\": \"keras\", \"class_name\": \"DTypePolicy\", \"config\": {\"name\": \"float32\"}, \"registered_name\": null}, \"units\": 128, \"activation\": \"linear\", \"use_bias\": true, \"kernel_initializer\": {\"module\": \"keras.initializers\", \"class_name\": \"GlorotUniform\", \"config\": {\"seed\": null}, \"registered_name\": null}, \"bias_initializer\": {\"module\": \"keras.initializers\", \"class_name\": \"Zeros\", \"config\": {}, \"registered_name\": null}, \"kernel_regularizer\": null, \"bias_regularizer\": null, \"kernel_constraint\": null, \"bias_constraint\": null}, \"name\": \"dense_10\", \"inbound_nodes\": [{\"args\": [{\"class_name\": \"__keras_tensor__\", \"config\": {\"shape\": [null, 29, 256], \"dtype\": \"float32\", \"keras_history\": [\"bidirectional_5\", 0, 0]}}], \"kwargs\": {}}]}, {\"class_name\": \"Dense\", \"config\": {\"name\": \"dense_11\", \"trainable\": true, \"dtype\": {\"module\": \"keras\", \"class_name\": \"DTypePolicy\", \"config\": {\"name\": \"float32\"}, \"registered_name\": null}, \"units\": 128, \"activation\": \"linear\", \"use_bias\": true, \"kernel_initializer\": {\"module\": \"keras.initializers\", \"class_name\": \"GlorotUniform\", \"config\": {\"seed\": null}, \"registered_name\": null}, \"bias_initializer\": {\"module\": \"keras.initializers\", \"class_name\": \"Zeros\", \"config\": {}, \"registered_name\": null}, \"kernel_regularizer\": null, \"bias_regularizer\": null, \"kernel_constraint\": null, \"bias_constraint\": null}, \"name\": \"dense_11\", \"inbound_nodes\": [{\"args\": [{\"class_name\": \"__keras_tensor__\", \"config\": {\"shape\": [null, 29, 256], \"dtype\": \"float32\", \"keras_history\": [\"bidirectional_5\", 0, 0]}}], \"kwargs\": {}}]}, {\"class_name\": \"Attention\", \"config\": {\"name\": \"attention_5\", \"trainable\": true, \"dtype\": {\"module\": \"keras\", \"class_name\": \"DTypePolicy\", \"config\": {\"name\": \"float32\"}, \"registered_name\": null}, \"use_scale\": false, \"score_mode\": \"dot\", \"dropout\": 0.0}, \"name\": \"attention_5\", \"inbound_nodes\": [{\"args\": [[{\"class_name\": \"__keras_tensor__\", \"config\": {\"shape\": [null, 29, 128], \"dtype\": \"float32\", \"keras_history\": [\"dense_10\", 0, 0]}}, {\"class_name\": \"__keras_tensor__\", \"config\": {\"shape\": [null, 29, 256], \"dtype\": \"float32\", \"keras_history\": [\"bidirectional_5\", 0, 0]}}, {\"class_name\": \"__keras_tensor__\", \"config\": {\"shape\": [null, 29, 128], \"dtype\": \"float32\", \"keras_history\": [\"dense_11\", 0, 0]}}]], \"kwargs\": {\"training\": false, \"mask\": [null, null, null]}}]}, {\"class_name\": \"Lambda\", \"config\": {\"name\": \"lambda\", \"trainable\": true, \"dtype\": {\"module\": \"keras\", \"class_name\": \"DTypePolicy\", \"config\": {\"name\": \"float32\"}, \"registered_name\": null}, \"function\": {\"class_name\": \"__lambda__\", \"config\": {\"code\": \"4wEAAAAAAAAAAAAAAAQAAAADAAAA8zAAAACXAHQAAAAAAAAAAABqAwAAAAAAAAAAAAAAAAAAAAAA\\nAHwAZAGsAqsCAAAAAAAAUwApA07pAQAAACkB2gRheGlzKQLaAnRm2gpyZWR1Y2Vfc3VtKQHaAXhz\\nAQAAACD6IS90bXAvaXB5a2VybmVsXzI4NzQvMTYyMjQzNTUxOC5wefoIPGxhbWJkYT5yCAAAABcA\\nAABzEwAAAIAAnDKfPZk9qBGwEZg90xszgADzAAAAAA==\\n\", \"defaults\": null, \"closure\": null}}, \"arguments\": {}}, \"name\": \"lambda\", \"inbound_nodes\": [{\"args\": [{\"class_name\": \"__keras_tensor__\", \"config\": {\"shape\": [null, 29, 256], \"dtype\": \"float32\", \"keras_history\": [\"attention_5\", 0, 0]}}], \"kwargs\": {\"mask\": null}}]}, {\"class_name\": \"Dense\", \"config\": {\"name\": \"lstm_pred\", \"trainable\": true, \"dtype\": {\"module\": \"keras\", \"class_name\": \"DTypePolicy\", \"config\": {\"name\": \"float32\"}, \"registered_name\": null}, \"units\": 1, \"activation\": \"linear\", \"use_bias\": true, \"kernel_initializer\": {\"module\": \"keras.initializers\", \"class_name\": \"GlorotUniform\", \"config\": {\"seed\": null}, \"registered_name\": null}, \"bias_initializer\": {\"module\": \"keras.initializers\", \"class_name\": \"Zeros\", \"config\": {}, \"registered_name\": null}, \"kernel_regularizer\": null, \"bias_regularizer\": null, \"kernel_constraint\": null, \"bias_constraint\": null}, \"name\": \"lstm_pred\", \"inbound_nodes\": [{\"args\": [{\"class_name\": \"__keras_tensor__\", \"config\": {\"shape\": [null, 256], \"dtype\": \"float32\", \"keras_history\": [\"lambda\", 0, 0]}}], \"kwargs\": {}}]}, {\"class_name\": \"Dense\", \"config\": {\"name\": \"dense_12\", \"trainable\": true, \"dtype\": {\"module\": \"keras\", \"class_name\": \"DTypePolicy\", \"config\": {\"name\": \"float32\"}, \"registered_name\": null}, \"units\": 64, \"activation\": \"relu\", \"use_bias\": true, \"kernel_initializer\": {\"module\": \"keras.initializers\", \"class_name\": \"GlorotUniform\", \"config\": {\"seed\": null}, \"registered_name\": null}, \"bias_initializer\": {\"module\": \"keras.initializers\", \"class_name\": \"Zeros\", \"config\": {}, \"registered_name\": null}, \"kernel_regularizer\": null, \"bias_regularizer\": null, \"kernel_constraint\": null, \"bias_constraint\": null}, \"name\": \"dense_12\", \"inbound_nodes\": [{\"args\": [{\"class_name\": \"__keras_tensor__\", \"config\": {\"shape\": [null, 256], \"dtype\": \"float32\", \"keras_history\": [\"lambda\", 0, 0]}}], \"kwargs\": {}}]}], \"input_layers\": [[\"input_layer_5\", 0, 0]], \"output_layers\": [[\"lstm_pred\", 0, 0], [\"dense_12\", 0, 0]]}}\n"
     ]
    }
   ],
   "source": [
    "import h5py\n",
    "\n",
    "# 打开H5文件\n",
    "with h5py.File(\"./mode/cnn_lstm_model.h5\", \"r\") as f:\n",
    "    # 遍历模型层信息\n",
    "    model_config = f.attrs[\"model_config\"]\n",
    "    print(\"模型结构配置:\", model_config)"
   ]
  },
  {
   "cell_type": "code",
   "execution_count": 15,
   "id": "0d9a04d6-15dd-4f11-ae83-acf483f4894c",
   "metadata": {},
   "outputs": [
    {
     "name": "stdout",
     "output_type": "stream",
     "text": [
      "加载失败，错误信息: Exception encountered when calling Lambda.call().\n",
      "\n",
      "\u001b[1mWe could not automatically infer the shape of the Lambda's output. Please specify the `output_shape` argument for this Lambda layer.\u001b[0m\n",
      "\n",
      "Arguments received by Lambda.call():\n",
      "  • args=('<KerasTensor shape=(None, 29, 256), dtype=float32, sparse=False, ragged=False, name=keras_tensor_77>',)\n",
      "  • kwargs={'mask': 'None'}\n"
     ]
    }
   ],
   "source": [
    "import tensorflow as tf\n",
    "\n",
    "# 尝试加载 .keras 文件\n",
    "try:\n",
    "    model = tf.keras.models.load_model(\"./mode/cnn_lstm_model.keras\",safe_mode=False  )\n",
    "    print(\"模型加载成功！\")\n",
    "except Exception as e:\n",
    "    print(f\"加载失败，错误信息: {e}\")"
   ]
  },
  {
   "cell_type": "code",
   "execution_count": 20,
   "id": "58c98b15-1d5a-4005-b849-8fb1778981b2",
   "metadata": {},
   "outputs": [
    {
     "name": "stdout",
     "output_type": "stream",
     "text": [
      "模型结构配置: {\"class_name\": \"Functional\", \"config\": {\"name\": \"functional_3\", \"trainable\": true, \"layers\": [{\"class_name\": \"InputLayer\", \"config\": {\"batch_shape\": [null, 60, 9], \"dtype\": \"float32\", \"sparse\": false, \"ragged\": false, \"name\": \"input_layer_4\"}, \"name\": \"input_layer_4\", \"inbound_nodes\": []}, {\"class_name\": \"Conv1D\", \"config\": {\"name\": \"conv1d_3\", \"trainable\": true, \"dtype\": {\"module\": \"keras\", \"class_name\": \"DTypePolicy\", \"config\": {\"name\": \"float32\"}, \"registered_name\": null}, \"filters\": 64, \"kernel_size\": [3], \"strides\": [1], \"padding\": \"valid\", \"data_format\": \"channels_last\", \"dilation_rate\": [1], \"groups\": 1, \"activation\": \"relu\", \"use_bias\": true, \"kernel_initializer\": {\"module\": \"keras.initializers\", \"class_name\": \"GlorotUniform\", \"config\": {\"seed\": null}, \"registered_name\": null}, \"bias_initializer\": {\"module\": \"keras.initializers\", \"class_name\": \"Zeros\", \"config\": {}, \"registered_name\": null}, \"kernel_regularizer\": null, \"bias_regularizer\": null, \"activity_regularizer\": null, \"kernel_constraint\": null, \"bias_constraint\": null}, \"name\": \"conv1d_3\", \"inbound_nodes\": [{\"args\": [{\"class_name\": \"__keras_tensor__\", \"config\": {\"shape\": [null, 60, 9], \"dtype\": \"float32\", \"keras_history\": [\"input_layer_4\", 0, 0]}}], \"kwargs\": {}}]}, {\"class_name\": \"MaxPooling1D\", \"config\": {\"name\": \"max_pooling1d_3\", \"trainable\": true, \"dtype\": {\"module\": \"keras\", \"class_name\": \"DTypePolicy\", \"config\": {\"name\": \"float32\"}, \"registered_name\": null}, \"pool_size\": [2], \"padding\": \"valid\", \"strides\": [2], \"data_format\": \"channels_last\"}, \"name\": \"max_pooling1d_3\", \"inbound_nodes\": [{\"args\": [{\"class_name\": \"__keras_tensor__\", \"config\": {\"shape\": [null, 58, 64], \"dtype\": \"float32\", \"keras_history\": [\"conv1d_3\", 0, 0]}}], \"kwargs\": {}}]}, {\"class_name\": \"Bidirectional\", \"config\": {\"name\": \"bidirectional_3\", \"trainable\": true, \"dtype\": {\"module\": \"keras\", \"class_name\": \"DTypePolicy\", \"config\": {\"name\": \"float32\"}, \"registered_name\": null}, \"merge_mode\": \"concat\", \"layer\": {\"module\": \"keras.layers\", \"class_name\": \"LSTM\", \"config\": {\"name\": \"forward_lstm_3\", \"trainable\": true, \"dtype\": {\"module\": \"keras\", \"class_name\": \"DTypePolicy\", \"config\": {\"name\": \"float32\"}, \"registered_name\": null}, \"return_sequences\": true, \"return_state\": false, \"go_backwards\": false, \"stateful\": false, \"unroll\": false, \"zero_output_for_mask\": true, \"units\": 128, \"activation\": \"tanh\", \"recurrent_activation\": \"sigmoid\", \"use_bias\": true, \"kernel_initializer\": {\"module\": \"keras.initializers\", \"class_name\": \"GlorotUniform\", \"config\": {\"seed\": null}, \"registered_name\": null}, \"recurrent_initializer\": {\"module\": \"keras.initializers\", \"class_name\": \"Orthogonal\", \"config\": {\"seed\": null, \"gain\": 1.0}, \"registered_name\": null}, \"bias_initializer\": {\"module\": \"keras.initializers\", \"class_name\": \"Zeros\", \"config\": {}, \"registered_name\": null}, \"unit_forget_bias\": true, \"kernel_regularizer\": null, \"recurrent_regularizer\": null, \"bias_regularizer\": null, \"activity_regularizer\": null, \"kernel_constraint\": null, \"recurrent_constraint\": null, \"bias_constraint\": null, \"dropout\": 0.0, \"recurrent_dropout\": 0.0, \"seed\": null}, \"registered_name\": null, \"build_config\": {\"input_shape\": [null, 29, 64]}}, \"backward_layer\": {\"module\": \"keras.layers\", \"class_name\": \"LSTM\", \"config\": {\"name\": \"backward_lstm_3\", \"trainable\": true, \"dtype\": {\"module\": \"keras\", \"class_name\": \"DTypePolicy\", \"config\": {\"name\": \"float32\"}, \"registered_name\": null}, \"return_sequences\": true, \"return_state\": false, \"go_backwards\": true, \"stateful\": false, \"unroll\": false, \"zero_output_for_mask\": true, \"units\": 128, \"activation\": \"tanh\", \"recurrent_activation\": \"sigmoid\", \"use_bias\": true, \"kernel_initializer\": {\"module\": \"keras.initializers\", \"class_name\": \"GlorotUniform\", \"config\": {\"seed\": null}, \"registered_name\": null}, \"recurrent_initializer\": {\"module\": \"keras.initializers\", \"class_name\": \"Orthogonal\", \"config\": {\"seed\": null, \"gain\": 1.0}, \"registered_name\": null}, \"bias_initializer\": {\"module\": \"keras.initializers\", \"class_name\": \"Zeros\", \"config\": {}, \"registered_name\": null}, \"unit_forget_bias\": true, \"kernel_regularizer\": null, \"recurrent_regularizer\": null, \"bias_regularizer\": null, \"activity_regularizer\": null, \"kernel_constraint\": null, \"recurrent_constraint\": null, \"bias_constraint\": null, \"dropout\": 0.0, \"recurrent_dropout\": 0.0, \"seed\": null}, \"registered_name\": null, \"build_config\": {\"input_shape\": [null, 29, 64]}}}, \"name\": \"bidirectional_3\", \"inbound_nodes\": [{\"args\": [{\"class_name\": \"__keras_tensor__\", \"config\": {\"shape\": [null, 29, 64], \"dtype\": \"float32\", \"keras_history\": [\"max_pooling1d_3\", 0, 0]}}], \"kwargs\": {\"mask\": null}}]}, {\"class_name\": \"Dense\", \"config\": {\"name\": \"dense_7\", \"trainable\": true, \"dtype\": {\"module\": \"keras\", \"class_name\": \"DTypePolicy\", \"config\": {\"name\": \"float32\"}, \"registered_name\": null}, \"units\": 256, \"activation\": \"linear\", \"use_bias\": true, \"kernel_initializer\": {\"module\": \"keras.initializers\", \"class_name\": \"GlorotUniform\", \"config\": {\"seed\": null}, \"registered_name\": null}, \"bias_initializer\": {\"module\": \"keras.initializers\", \"class_name\": \"Zeros\", \"config\": {}, \"registered_name\": null}, \"kernel_regularizer\": null, \"bias_regularizer\": null, \"kernel_constraint\": null, \"bias_constraint\": null}, \"name\": \"dense_7\", \"inbound_nodes\": [{\"args\": [{\"class_name\": \"__keras_tensor__\", \"config\": {\"shape\": [null, 29, 256], \"dtype\": \"float32\", \"keras_history\": [\"bidirectional_3\", 0, 0]}}], \"kwargs\": {}}]}, {\"class_name\": \"Dense\", \"config\": {\"name\": \"dense_8\", \"trainable\": true, \"dtype\": {\"module\": \"keras\", \"class_name\": \"DTypePolicy\", \"config\": {\"name\": \"float32\"}, \"registered_name\": null}, \"units\": 256, \"activation\": \"linear\", \"use_bias\": true, \"kernel_initializer\": {\"module\": \"keras.initializers\", \"class_name\": \"GlorotUniform\", \"config\": {\"seed\": null}, \"registered_name\": null}, \"bias_initializer\": {\"module\": \"keras.initializers\", \"class_name\": \"Zeros\", \"config\": {}, \"registered_name\": null}, \"kernel_regularizer\": null, \"bias_regularizer\": null, \"kernel_constraint\": null, \"bias_constraint\": null}, \"name\": \"dense_8\", \"inbound_nodes\": [{\"args\": [{\"class_name\": \"__keras_tensor__\", \"config\": {\"shape\": [null, 29, 256], \"dtype\": \"float32\", \"keras_history\": [\"bidirectional_3\", 0, 0]}}], \"kwargs\": {}}]}, {\"class_name\": \"Attention\", \"config\": {\"name\": \"attention_3\", \"trainable\": true, \"dtype\": {\"module\": \"keras\", \"class_name\": \"DTypePolicy\", \"config\": {\"name\": \"float32\"}, \"registered_name\": null}, \"use_scale\": false, \"score_mode\": \"dot\", \"dropout\": 0.0}, \"name\": \"attention_3\", \"inbound_nodes\": [{\"args\": [[{\"class_name\": \"__keras_tensor__\", \"config\": {\"shape\": [null, 29, 256], \"dtype\": \"float32\", \"keras_history\": [\"dense_7\", 0, 0]}}, {\"class_name\": \"__keras_tensor__\", \"config\": {\"shape\": [null, 29, 256], \"dtype\": \"float32\", \"keras_history\": [\"bidirectional_3\", 0, 0]}}, {\"class_name\": \"__keras_tensor__\", \"config\": {\"shape\": [null, 29, 256], \"dtype\": \"float32\", \"keras_history\": [\"dense_8\", 0, 0]}}]], \"kwargs\": {\"training\": false, \"mask\": [null, null, null]}}]}, {\"class_name\": \"Lambda\", \"config\": {\"name\": \"lambda_3\", \"trainable\": true, \"dtype\": {\"module\": \"keras\", \"class_name\": \"DTypePolicy\", \"config\": {\"name\": \"float32\"}, \"registered_name\": null}, \"function\": {\"class_name\": \"__lambda__\", \"config\": {\"code\": \"4wEAAAAAAAAAAAAAAAQAAAADAAAA8zAAAACXAHQAAAAAAAAAAABqAwAAAAAAAAAAAAAAAAAAAAAA\\nAHwAZAGsAqsCAAAAAAAAUwApA07pAQAAACkB2gRheGlzKQLaAnRm2gpyZWR1Y2Vfc3VtKQHaAXRz\\nAQAAACD6IC90bXAvaXB5a2VybmVsXzEwNDAvMTQ5NzMzMTY2LnB5+gg8bGFtYmRhPnIIAAAAFwAA\\nAHMTAAAAgACMYo9tiW2YQaBBiG3TDiaAAPMAAAAA\\n\", \"defaults\": null, \"closure\": null}}, \"output_shape\": [256], \"arguments\": {}}, \"name\": \"lambda_3\", \"inbound_nodes\": [{\"args\": [{\"class_name\": \"__keras_tensor__\", \"config\": {\"shape\": [null, 29, 256], \"dtype\": \"float32\", \"keras_history\": [\"attention_3\", 0, 0]}}], \"kwargs\": {\"mask\": null}}]}, {\"class_name\": \"Dense\", \"config\": {\"name\": \"lstm_pred\", \"trainable\": true, \"dtype\": {\"module\": \"keras\", \"class_name\": \"DTypePolicy\", \"config\": {\"name\": \"float32\"}, \"registered_name\": null}, \"units\": 1, \"activation\": \"linear\", \"use_bias\": true, \"kernel_initializer\": {\"module\": \"keras.initializers\", \"class_name\": \"GlorotUniform\", \"config\": {\"seed\": null}, \"registered_name\": null}, \"bias_initializer\": {\"module\": \"keras.initializers\", \"class_name\": \"Zeros\", \"config\": {}, \"registered_name\": null}, \"kernel_regularizer\": null, \"bias_regularizer\": null, \"kernel_constraint\": null, \"bias_constraint\": null}, \"name\": \"lstm_pred\", \"inbound_nodes\": [{\"args\": [{\"class_name\": \"__keras_tensor__\", \"config\": {\"shape\": [null, 256], \"dtype\": \"float32\", \"keras_history\": [\"lambda_3\", 0, 0]}}], \"kwargs\": {}}]}], \"input_layers\": [[\"input_layer_4\", 0, 0]], \"output_layers\": [[\"lstm_pred\", 0, 0]]}}\n"
     ]
    }
   ],
   "source": [
    "with h5py.File(\"./mode/fixed_cnn_lstm_model3.h5\", \"r\") as f:\n",
    "    # 遍历模型层信息\n",
    "    model_config = f.attrs[\"model_config\"]\n",
    "    print(\"模型结构配置:\", model_config)"
   ]
  },
  {
   "cell_type": "code",
   "execution_count": 21,
   "id": "454f174b-7897-4fab-983e-a7c98e50a0e2",
   "metadata": {},
   "outputs": [],
   "source": [
    "import tensorflow as tf\n",
    "\n",
    "# 临时禁用安全模式以加载旧模型\n",
    "tf.keras.config.enable_unsafe_deserialization()\n",
    "#ld_model = tf.keras.models.load_model(\"./mode/cnn_lstm_model.keras\")\n",
    "ld_model = tf.keras.models.load_model(\"./mode/fixed_cnn_lstm_model3.keras\")\n",
    "\n",
    "\n",
    "# 提取模型配置\n",
    "model_config = ld_model.get_config()"
   ]
  },
  {
   "cell_type": "code",
   "execution_count": 22,
   "id": "2fc88aa9-a271-4794-b571-4f3ea091bc62",
   "metadata": {},
   "outputs": [],
   "source": [
    "xgb_model = xgb.XGBRegressor()\n",
    "xgb_model.load_model(\"./mode/xgb_model.json\")"
   ]
  },
  {
   "cell_type": "code",
   "execution_count": 28,
   "id": "d6ca5d9b-80e4-4840-8e28-6d33332b5e57",
   "metadata": {},
   "outputs": [],
   "source": [
    "import pandas as pd\n",
    "from scipy.stats import zscore\n",
    "\n",
    "real_time_df = pd.read_csv(\"./data/merge.csv\", parse_dates=[\"datetime\"])\n",
    "real_time_df = real_time_df.sort_values(\"datetime\")\n",
    "\n",
    "# # 处理缺失值\n",
    "# real_time_df = real_time_df.ffill()\n",
    "\n",
    "# # 剔除异常值（以收盘价为例）\n",
    "# z_scores = zscore(real_time_df[\"close\"])\n",
    "# real_time_df = real_time_df[(z_scores.abs() < 3)]"
   ]
  },
  {
   "cell_type": "code",
   "execution_count": 29,
   "id": "c3df75ad-9554-440b-a59b-bd38a2b53b5f",
   "metadata": {},
   "outputs": [
    {
     "data": {
      "text/html": [
       "<div>\n",
       "<style scoped>\n",
       "    .dataframe tbody tr th:only-of-type {\n",
       "        vertical-align: middle;\n",
       "    }\n",
       "\n",
       "    .dataframe tbody tr th {\n",
       "        vertical-align: top;\n",
       "    }\n",
       "\n",
       "    .dataframe thead th {\n",
       "        text-align: right;\n",
       "    }\n",
       "</style>\n",
       "<table border=\"1\" class=\"dataframe\">\n",
       "  <thead>\n",
       "    <tr style=\"text-align: right;\">\n",
       "      <th></th>\n",
       "      <th>Unnamed: 0</th>\n",
       "      <th>datetime</th>\n",
       "      <th>contract</th>\n",
       "      <th>symbol</th>\n",
       "      <th>exchange</th>\n",
       "      <th>open</th>\n",
       "      <th>high</th>\n",
       "      <th>low</th>\n",
       "      <th>close</th>\n",
       "      <th>openinterest</th>\n",
       "      <th>...</th>\n",
       "      <th>Signal</th>\n",
       "      <th>Volatility_10</th>\n",
       "      <th>Volume_Change</th>\n",
       "      <th>Price_Volume_Corr</th>\n",
       "      <th>future_close</th>\n",
       "      <th>涨跌幅</th>\n",
       "      <th>hour</th>\n",
       "      <th>minute</th>\n",
       "      <th>session</th>\n",
       "      <th>涨跌幅_scaled</th>\n",
       "    </tr>\n",
       "  </thead>\n",
       "  <tbody>\n",
       "    <tr>\n",
       "      <th>0</th>\n",
       "      <td>13</td>\n",
       "      <td>2017-01-03 09:13:00</td>\n",
       "      <td>HC1705</td>\n",
       "      <td>HC</td>\n",
       "      <td>SHFE</td>\n",
       "      <td>3372.0</td>\n",
       "      <td>3372.0</td>\n",
       "      <td>3362.0</td>\n",
       "      <td>3363.0</td>\n",
       "      <td>172022.0</td>\n",
       "      <td>...</td>\n",
       "      <td>15.745432</td>\n",
       "      <td>0.757838</td>\n",
       "      <td>-0.013410</td>\n",
       "      <td>0.196844</td>\n",
       "      <td>3356.0</td>\n",
       "      <td>-0.208147</td>\n",
       "      <td>9</td>\n",
       "      <td>13</td>\n",
       "      <td>Morning</td>\n",
       "      <td>-0.408166</td>\n",
       "    </tr>\n",
       "    <tr>\n",
       "      <th>1515044</th>\n",
       "      <td>3279334</td>\n",
       "      <td>2017-01-03 09:13:00</td>\n",
       "      <td>RB1705</td>\n",
       "      <td>RB</td>\n",
       "      <td>SHFE</td>\n",
       "      <td>2944.0</td>\n",
       "      <td>2945.0</td>\n",
       "      <td>2933.0</td>\n",
       "      <td>2933.0</td>\n",
       "      <td>1160893.0</td>\n",
       "      <td>...</td>\n",
       "      <td>15.191008</td>\n",
       "      <td>0.626449</td>\n",
       "      <td>-0.036573</td>\n",
       "      <td>0.106531</td>\n",
       "      <td>2925.0</td>\n",
       "      <td>-0.272758</td>\n",
       "      <td>9</td>\n",
       "      <td>13</td>\n",
       "      <td>Morning</td>\n",
       "      <td>-0.532414</td>\n",
       "    </tr>\n",
       "    <tr>\n",
       "      <th>505527</th>\n",
       "      <td>1093120</td>\n",
       "      <td>2017-01-03 09:13:00</td>\n",
       "      <td>I1705</td>\n",
       "      <td>I</td>\n",
       "      <td>DCE</td>\n",
       "      <td>560.5</td>\n",
       "      <td>560.5</td>\n",
       "      <td>558.0</td>\n",
       "      <td>558.0</td>\n",
       "      <td>439663.0</td>\n",
       "      <td>...</td>\n",
       "      <td>2.528772</td>\n",
       "      <td>-0.294013</td>\n",
       "      <td>-0.019669</td>\n",
       "      <td>0.142922</td>\n",
       "      <td>556.5</td>\n",
       "      <td>-0.268817</td>\n",
       "      <td>9</td>\n",
       "      <td>13</td>\n",
       "      <td>Morning</td>\n",
       "      <td>-0.524835</td>\n",
       "    </tr>\n",
       "    <tr>\n",
       "      <th>2474728</th>\n",
       "      <td>5465548</td>\n",
       "      <td>2017-01-03 09:13:00</td>\n",
       "      <td>SM1705</td>\n",
       "      <td>SM</td>\n",
       "      <td>CZCE</td>\n",
       "      <td>6936.0</td>\n",
       "      <td>6936.0</td>\n",
       "      <td>6920.0</td>\n",
       "      <td>6928.0</td>\n",
       "      <td>9811.0</td>\n",
       "      <td>...</td>\n",
       "      <td>16.054833</td>\n",
       "      <td>0.334108</td>\n",
       "      <td>0.738855</td>\n",
       "      <td>-0.092269</td>\n",
       "      <td>6804.0</td>\n",
       "      <td>-1.771117</td>\n",
       "      <td>9</td>\n",
       "      <td>13</td>\n",
       "      <td>Morning</td>\n",
       "      <td>-3.413782</td>\n",
       "    </tr>\n",
       "    <tr>\n",
       "      <th>1013680</th>\n",
       "      <td>2186227</td>\n",
       "      <td>2017-01-03 09:13:00</td>\n",
       "      <td>JM1705</td>\n",
       "      <td>JM</td>\n",
       "      <td>DCE</td>\n",
       "      <td>1184.5</td>\n",
       "      <td>1185.0</td>\n",
       "      <td>1180.0</td>\n",
       "      <td>1180.5</td>\n",
       "      <td>75153.0</td>\n",
       "      <td>...</td>\n",
       "      <td>3.461766</td>\n",
       "      <td>-0.093331</td>\n",
       "      <td>0.068832</td>\n",
       "      <td>0.076725</td>\n",
       "      <td>1169.0</td>\n",
       "      <td>-0.974163</td>\n",
       "      <td>9</td>\n",
       "      <td>13</td>\n",
       "      <td>Morning</td>\n",
       "      <td>-1.881227</td>\n",
       "    </tr>\n",
       "  </tbody>\n",
       "</table>\n",
       "<p>5 rows × 26 columns</p>\n",
       "</div>"
      ],
      "text/plain": [
       "         Unnamed: 0            datetime contract symbol exchange    open  \\\n",
       "0                13 2017-01-03 09:13:00   HC1705     HC     SHFE  3372.0   \n",
       "1515044     3279334 2017-01-03 09:13:00   RB1705     RB     SHFE  2944.0   \n",
       "505527      1093120 2017-01-03 09:13:00    I1705      I      DCE   560.5   \n",
       "2474728     5465548 2017-01-03 09:13:00   SM1705     SM     CZCE  6936.0   \n",
       "1013680     2186227 2017-01-03 09:13:00   JM1705     JM      DCE  1184.5   \n",
       "\n",
       "           high     low   close  openinterest  ...     Signal  Volatility_10  \\\n",
       "0        3372.0  3362.0  3363.0      172022.0  ...  15.745432       0.757838   \n",
       "1515044  2945.0  2933.0  2933.0     1160893.0  ...  15.191008       0.626449   \n",
       "505527    560.5   558.0   558.0      439663.0  ...   2.528772      -0.294013   \n",
       "2474728  6936.0  6920.0  6928.0        9811.0  ...  16.054833       0.334108   \n",
       "1013680  1185.0  1180.0  1180.5       75153.0  ...   3.461766      -0.093331   \n",
       "\n",
       "         Volume_Change  Price_Volume_Corr  future_close       涨跌幅  hour  \\\n",
       "0            -0.013410           0.196844        3356.0 -0.208147     9   \n",
       "1515044      -0.036573           0.106531        2925.0 -0.272758     9   \n",
       "505527       -0.019669           0.142922         556.5 -0.268817     9   \n",
       "2474728       0.738855          -0.092269        6804.0 -1.771117     9   \n",
       "1013680       0.068832           0.076725        1169.0 -0.974163     9   \n",
       "\n",
       "         minute  session  涨跌幅_scaled  \n",
       "0            13  Morning   -0.408166  \n",
       "1515044      13  Morning   -0.532414  \n",
       "505527       13  Morning   -0.524835  \n",
       "2474728      13  Morning   -3.413782  \n",
       "1013680      13  Morning   -1.881227  \n",
       "\n",
       "[5 rows x 26 columns]"
      ]
     },
     "execution_count": 29,
     "metadata": {},
     "output_type": "execute_result"
    }
   ],
   "source": [
    "real_time_df.head()"
   ]
  },
  {
   "cell_type": "code",
   "execution_count": 30,
   "id": "67719238-faed-4d82-8fcf-bc1a60141d73",
   "metadata": {},
   "outputs": [
    {
     "data": {
      "text/plain": [
       "0         -0.417443\n",
       "1515044   -0.520015\n",
       "505527    -1.089222\n",
       "2474728    0.432299\n",
       "1013680   -0.940232\n",
       "             ...   \n",
       "2020637   -0.486508\n",
       "1515043   -0.996291\n",
       "505526    -0.463264\n",
       "2474727    0.133794\n",
       "3318337    1.830556\n",
       "Name: MA5, Length: 3318338, dtype: float64"
      ]
     },
     "execution_count": 30,
     "metadata": {},
     "output_type": "execute_result"
    }
   ],
   "source": [
    "real_time_df[\"MA5\"]"
   ]
  },
  {
   "cell_type": "code",
   "execution_count": 36,
   "id": "47775ce3-bdf3-4f7e-a935-a7aa255090d0",
   "metadata": {},
   "outputs": [],
   "source": [
    "# 假设需要预测的时间点为2025-04-18 14:59:00\n",
    "prediction_time = pd.Timestamp(\"2025-04-17 9:00:00\")\n",
    "input_window_start = prediction_time - pd.Timedelta(minutes=60)\n",
    "\n",
    "# 提取数据窗口\n",
    "input_data = real_time_df[\n",
    "    (real_time_df[\"datetime\"] >= input_window_start) &\n",
    "    (real_time_df[\"datetime\"] < prediction_time)\n",
    "].sort_values(\"datetime\")\n",
    "\n"
   ]
  },
  {
   "cell_type": "code",
   "execution_count": 37,
   "id": "e7aea3c4-026a-40a9-9fbd-8150a4659a09",
   "metadata": {},
   "outputs": [
    {
     "data": {
      "text/html": [
       "<div>\n",
       "<style scoped>\n",
       "    .dataframe tbody tr th:only-of-type {\n",
       "        vertical-align: middle;\n",
       "    }\n",
       "\n",
       "    .dataframe tbody tr th {\n",
       "        vertical-align: top;\n",
       "    }\n",
       "\n",
       "    .dataframe thead th {\n",
       "        text-align: right;\n",
       "    }\n",
       "</style>\n",
       "<table border=\"1\" class=\"dataframe\">\n",
       "  <thead>\n",
       "    <tr style=\"text-align: right;\">\n",
       "      <th></th>\n",
       "      <th>Unnamed: 0</th>\n",
       "      <th>datetime</th>\n",
       "      <th>contract</th>\n",
       "      <th>symbol</th>\n",
       "      <th>exchange</th>\n",
       "      <th>open</th>\n",
       "      <th>high</th>\n",
       "      <th>low</th>\n",
       "      <th>close</th>\n",
       "      <th>openinterest</th>\n",
       "      <th>...</th>\n",
       "      <th>Signal</th>\n",
       "      <th>Volatility_10</th>\n",
       "      <th>Volume_Change</th>\n",
       "      <th>Price_Volume_Corr</th>\n",
       "      <th>future_close</th>\n",
       "      <th>涨跌幅</th>\n",
       "      <th>hour</th>\n",
       "      <th>minute</th>\n",
       "      <th>session</th>\n",
       "      <th>涨跌幅_scaled</th>\n",
       "    </tr>\n",
       "  </thead>\n",
       "  <tbody>\n",
       "  </tbody>\n",
       "</table>\n",
       "<p>0 rows × 26 columns</p>\n",
       "</div>"
      ],
      "text/plain": [
       "Empty DataFrame\n",
       "Columns: [Unnamed: 0, datetime, contract, symbol, exchange, open, high, low, close, openinterest, volume, amount, MA5, MA20, RSI, MACD, Signal, Volatility_10, Volume_Change, Price_Volume_Corr, future_close, 涨跌幅, hour, minute, session, 涨跌幅_scaled]\n",
       "Index: []\n",
       "\n",
       "[0 rows x 26 columns]"
      ]
     },
     "execution_count": 37,
     "metadata": {},
     "output_type": "execute_result"
    }
   ],
   "source": [
    "input_data"
   ]
  },
  {
   "cell_type": "code",
   "execution_count": null,
   "id": "54afe188-b398-4749-9cea-f2d70b98b3be",
   "metadata": {},
   "outputs": [],
   "source": []
  }
 ],
 "metadata": {
  "kernelspec": {
   "display_name": "Python 3 (ipykernel)",
   "language": "python",
   "name": "python3"
  },
  "language_info": {
   "codemirror_mode": {
    "name": "ipython",
    "version": 3
   },
   "file_extension": ".py",
   "mimetype": "text/x-python",
   "name": "python",
   "nbconvert_exporter": "python",
   "pygments_lexer": "ipython3",
   "version": "3.12.3"
  }
 },
 "nbformat": 4,
 "nbformat_minor": 5
}
