{
 "cells": [
  {
   "cell_type": "code",
   "execution_count": 3,
   "id": "48f53428-738f-4207-9128-e5efaae1e452",
   "metadata": {},
   "outputs": [],
   "source": [
    "import pandas as pd\n",
    "import numpy as np\n",
    "\n"
   ]
  },
  {
   "cell_type": "code",
   "execution_count": 6,
   "id": "01b20914-9dd7-4f67-b83a-12e3285b2b0d",
   "metadata": {},
   "outputs": [],
   "source": [
    "merged_df=pd.read_csv(\"./data/merge.csv\")"
   ]
  },
  {
   "cell_type": "code",
   "execution_count": 7,
   "id": "c702fa7e-e387-45c2-9bef-28111db8438b",
   "metadata": {},
   "outputs": [],
   "source": [
    "# ----------------------\n",
    "# 1. 重新生成MA10特征\n",
    "# ----------------------\n",
    "def add_technical_features(df):\n",
    "    # 移动平均线\n",
    "    df['MA5'] = df.groupby('symbol')['close'].transform(lambda x: x.rolling(5).mean())\n",
    "    df['MA10'] = df.groupby('symbol')['close'].transform(lambda x: x.rolling(10).mean())  # 修复点\n",
    "    df['MA20'] = df.groupby('symbol')['close'].transform(lambda x: x.rolling(20).mean())\n",
    "    \n",
    "    # RSI（14分钟窗口）\n",
    "    delta = df.groupby('symbol')['close'].diff()\n",
    "    gain = delta.where(delta > 0, 0)\n",
    "    loss = -delta.where(delta < 0, 0)\n",
    "    avg_gain = gain.groupby(df['symbol']).transform(lambda x: x.rolling(14).mean())\n",
    "    avg_loss = loss.groupby(df['symbol']).transform(lambda x: x.rolling(14).mean())\n",
    "    rs = avg_gain / avg_loss\n",
    "    df['RSI'] = 100 - (100 / (1 + rs))\n",
    "    \n",
    "    # MACD\n",
    "    ema12 = df.groupby('symbol')['close'].transform(lambda x: x.ewm(span=12, adjust=False).mean())\n",
    "    ema26 = df.groupby('symbol')['close'].transform(lambda x: x.ewm(span=26, adjust=False).mean())\n",
    "    df['MACD'] = ema12 - ema26\n",
    "    df['Signal'] = df.groupby('symbol')['MACD'].transform(lambda x: x.ewm(span=9, adjust=False).mean())\n",
    "    \n",
    "    # 其他特征...\n",
    "    return df\n",
    "\n",
    "# 重新生成特征\n",
    "merged_df = add_technical_features(merged_df)\n"
   ]
  },
  {
   "cell_type": "code",
   "execution_count": 8,
   "id": "09a7db88-325f-4458-be24-e28801e4bb26",
   "metadata": {},
   "outputs": [
    {
     "name": "stdout",
     "output_type": "stream",
     "text": [
      "所有特征列已正确生成！\n"
     ]
    },
    {
     "ename": "IndexError",
     "evalue": "only integers, slices (`:`), ellipsis (`...`), numpy.newaxis (`None`) and integer or boolean arrays are valid indices",
     "output_type": "error",
     "traceback": [
      "\u001b[0;31m---------------------------------------------------------------------------\u001b[0m",
      "\u001b[0;31mIndexError\u001b[0m                                Traceback (most recent call last)",
      "Cell \u001b[0;32mIn[8], line 23\u001b[0m\n\u001b[1;32m     21\u001b[0m \u001b[38;5;66;03m# 按品种生成序列数据\u001b[39;00m\n\u001b[1;32m     22\u001b[0m symbol_data \u001b[38;5;241m=\u001b[39m merged_df[merged_df[\u001b[38;5;124m\"\u001b[39m\u001b[38;5;124msymbol\u001b[39m\u001b[38;5;124m\"\u001b[39m] \u001b[38;5;241m==\u001b[39m \u001b[38;5;124m\"\u001b[39m\u001b[38;5;124mHC\u001b[39m\u001b[38;5;124m\"\u001b[39m]  \u001b[38;5;66;03m# 以热轧卷板为例\u001b[39;00m\n\u001b[0;32m---> 23\u001b[0m X_seq, y_seq \u001b[38;5;241m=\u001b[39m \u001b[43mcreate_sequences\u001b[49m\u001b[43m(\u001b[49m\u001b[43msymbol_data\u001b[49m\u001b[43m[\u001b[49m\u001b[43mrequired_features\u001b[49m\u001b[43m \u001b[49m\u001b[38;5;241;43m+\u001b[39;49m\u001b[43m \u001b[49m\u001b[43m[\u001b[49m\u001b[38;5;124;43m'\u001b[39;49m\u001b[38;5;124;43mclose\u001b[39;49m\u001b[38;5;124;43m'\u001b[39;49m\u001b[43m,\u001b[49m\u001b[43m \u001b[49m\u001b[38;5;124;43m'\u001b[39;49m\u001b[38;5;124;43mvolume\u001b[39;49m\u001b[38;5;124;43m'\u001b[39;49m\u001b[43m]\u001b[49m\u001b[43m]\u001b[49m\u001b[38;5;241;43m.\u001b[39;49m\u001b[43mvalues\u001b[49m\u001b[43m,\u001b[49m\u001b[43m \u001b[49m\u001b[43mwindow\u001b[49m\u001b[38;5;241;43m=\u001b[39;49m\u001b[38;5;241;43m60\u001b[39;49m\u001b[43m)\u001b[49m\n",
      "Cell \u001b[0;32mIn[8], line 18\u001b[0m, in \u001b[0;36mcreate_sequences\u001b[0;34m(data, window)\u001b[0m\n\u001b[1;32m     16\u001b[0m \u001b[38;5;28;01mfor\u001b[39;00m i \u001b[38;5;129;01min\u001b[39;00m \u001b[38;5;28mrange\u001b[39m(\u001b[38;5;28mlen\u001b[39m(data) \u001b[38;5;241m-\u001b[39m window \u001b[38;5;241m-\u001b[39m \u001b[38;5;241m30\u001b[39m):  \u001b[38;5;66;03m# 预留30分钟计算涨跌幅\u001b[39;00m\n\u001b[1;32m     17\u001b[0m     X\u001b[38;5;241m.\u001b[39mappend(data[i:i\u001b[38;5;241m+\u001b[39mwindow])\n\u001b[0;32m---> 18\u001b[0m     y\u001b[38;5;241m.\u001b[39mappend(\u001b[43mdata\u001b[49m\u001b[43m[\u001b[49m\u001b[43mi\u001b[49m\u001b[38;5;241;43m+\u001b[39;49m\u001b[43mwindow\u001b[49m\u001b[38;5;241;43m+\u001b[39;49m\u001b[38;5;241;43m30\u001b[39;49m\u001b[43m]\u001b[49m\u001b[43m[\u001b[49m\u001b[38;5;124;43m\"\u001b[39;49m\u001b[38;5;124;43m涨跌幅\u001b[39;49m\u001b[38;5;124;43m\"\u001b[39;49m\u001b[43m]\u001b[49m)  \u001b[38;5;66;03m# 未来第30分钟的标签\u001b[39;00m\n\u001b[1;32m     19\u001b[0m \u001b[38;5;28;01mreturn\u001b[39;00m np\u001b[38;5;241m.\u001b[39marray(X), np\u001b[38;5;241m.\u001b[39marray(y)\n",
      "\u001b[0;31mIndexError\u001b[0m: only integers, slices (`:`), ellipsis (`...`), numpy.newaxis (`None`) and integer or boolean arrays are valid indices"
     ]
    }
   ],
   "source": [
    "# ----------------------\n",
    "# 2. 检查数据列\n",
    "# ----------------------\n",
    "required_features = ['MA5', 'MA10', 'MA20', 'RSI', 'MACD', 'Signal']\n",
    "missing = [col for col in required_features if col not in merged_df.columns]\n",
    "if missing:\n",
    "    raise ValueError(f\"缺失关键特征列: {missing}\")\n",
    "else:\n",
    "    print(\"所有特征列已正确生成！\")\n",
    "\n",
    "# ----------------------\n",
    "# 3. 重新生成序列数据\n",
    "# ----------------------\n",
    "def create_sequences(data, window=60):\n",
    "    X, y = [], []\n",
    "    for i in range(len(data) - window - 30):  # 预留30分钟计算涨跌幅\n",
    "        X.append(data[i:i+window])\n",
    "        y.append(data[i+window+30][\"涨跌幅\"])  # 未来第30分钟的标签\n",
    "    return np.array(X), np.array(y)\n",
    "\n",
    "# 按品种生成序列数据\n",
    "symbol_data = merged_df[merged_df[\"symbol\"] == \"HC\"]  # 以热轧卷板为例\n",
    "X_seq, y_seq = create_sequences(symbol_data[required_features + ['close', 'volume']].values, window=60)"
   ]
  },
  {
   "cell_type": "code",
   "execution_count": null,
   "id": "966eac60-e1d4-49ee-8f40-4ba18e8b075d",
   "metadata": {},
   "outputs": [],
   "source": []
  }
 ],
 "metadata": {
  "kernelspec": {
   "display_name": "Python 3 (ipykernel)",
   "language": "python",
   "name": "python3"
  },
  "language_info": {
   "codemirror_mode": {
    "name": "ipython",
    "version": 3
   },
   "file_extension": ".py",
   "mimetype": "text/x-python",
   "name": "python",
   "nbconvert_exporter": "python",
   "pygments_lexer": "ipython3",
   "version": "3.12.3"
  }
 },
 "nbformat": 4,
 "nbformat_minor": 5
}
