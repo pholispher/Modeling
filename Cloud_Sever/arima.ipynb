{
 "cells": [
  {
   "cell_type": "code",
   "execution_count": 2,
   "id": "8d2c2b4b-c1fa-400c-8bd8-07830a4bccd3",
   "metadata": {},
   "outputs": [],
   "source": [
    "import numpy as np\n",
    "import pandas as pd\n",
    "import matplotlib.pyplot as plt\n",
    "from statsmodels.tsa.stattools import adfuller\n",
    "from statsmodels.graphics.tsaplots import plot_acf, plot_pacf\n",
    "from statsmodels.tsa.arima.model import ARIMA\n",
    "from statsmodels.stats.diagnostic import acorr_ljungbox"
   ]
  },
  {
   "cell_type": "code",
   "execution_count": 5,
   "id": "a6784c0d-a531-44c2-baf0-48fe2f31f17f",
   "metadata": {},
   "outputs": [],
   "source": [
    "df=pd.read_csv(\"./data_clean/normalized_vol.csv\")"
   ]
  },
  {
   "cell_type": "code",
   "execution_count": 7,
   "id": "97a9eec8-3376-4a71-9160-8f4ac48d426e",
   "metadata": {},
   "outputs": [
    {
     "name": "stdout",
     "output_type": "stream",
     "text": [
      "              datetime contract symbol exchange      open      high       low  \\\n",
      "0  2017-01-03 09:00:00   SM1705     SM     CZCE  0.254069  0.249790  0.253348   \n",
      "1  2017-01-03 09:01:00   SM1705     SM     CZCE  0.253045  0.249035  0.254378   \n",
      "2  2017-01-03 09:02:00   SM1705     SM     CZCE  0.253642  0.249790  0.255151   \n",
      "3  2017-01-03 09:03:00   SM1705     SM     CZCE  0.254410  0.251720  0.255580   \n",
      "4  2017-01-03 09:04:00   SM1705     SM     CZCE  0.255946  0.252223  0.257040   \n",
      "\n",
      "      close  openinterest    volume  amount  \n",
      "0  0.252874     -0.471365 -0.255511       0  \n",
      "1  0.253301     -0.471307 -0.276446       0  \n",
      "2  0.254069     -0.471259 -0.275214       0  \n",
      "3  0.255946     -0.471302 -0.276035       0  \n",
      "4  0.256117     -0.471355 -0.262900       0  \n"
     ]
    }
   ],
   "source": [
    "import pandas as pd\n",
    "\n",
    "# 假设数据已加载到 DataFrame 中\n",
    "# df = pd.read_csv(\"your_data.csv\")  # 替换为实际文件路径\n",
    "print(df.head())"
   ]
  },
  {
   "cell_type": "code",
   "execution_count": 8,
   "id": "4d9f4523-766a-41b0-89c8-b3c1af5f7d4f",
   "metadata": {},
   "outputs": [
    {
     "name": "stdout",
     "output_type": "stream",
     "text": [
      "ADF Statistic: -14.626091710333588\n",
      "p-value: 3.8168357888814895e-27\n"
     ]
    }
   ],
   "source": [
    "from statsmodels.tsa.stattools import adfuller\n",
    "\n",
    "# 提取 close 列并设置时间索引\n",
    "df['datetime'] = pd.to_datetime(df['datetime'])\n",
    "df.set_index('datetime', inplace=True)\n",
    "close_series = df['close']\n",
    "\n",
    "# ADF 检验\n",
    "result = adfuller(close_series)\n",
    "print(f'ADF Statistic: {result[0]}')\n",
    "print(f'p-value: {result[1]}')"
   ]
  },
  {
   "cell_type": "code",
   "execution_count": 10,
   "id": "a1a10d5a-c6fe-4a74-84d6-3b9f5ba7113e",
   "metadata": {},
   "outputs": [
    {
     "data": {
      "text/html": [
       "<div>\n",
       "<style scoped>\n",
       "    .dataframe tbody tr th:only-of-type {\n",
       "        vertical-align: middle;\n",
       "    }\n",
       "\n",
       "    .dataframe tbody tr th {\n",
       "        vertical-align: top;\n",
       "    }\n",
       "\n",
       "    .dataframe thead th {\n",
       "        text-align: right;\n",
       "    }\n",
       "</style>\n",
       "<table border=\"1\" class=\"dataframe\">\n",
       "  <thead>\n",
       "    <tr style=\"text-align: right;\">\n",
       "      <th></th>\n",
       "      <th>contract</th>\n",
       "      <th>symbol</th>\n",
       "      <th>exchange</th>\n",
       "      <th>open</th>\n",
       "      <th>high</th>\n",
       "      <th>low</th>\n",
       "      <th>close</th>\n",
       "      <th>openinterest</th>\n",
       "      <th>volume</th>\n",
       "      <th>amount</th>\n",
       "    </tr>\n",
       "    <tr>\n",
       "      <th>datetime</th>\n",
       "      <th></th>\n",
       "      <th></th>\n",
       "      <th></th>\n",
       "      <th></th>\n",
       "      <th></th>\n",
       "      <th></th>\n",
       "      <th></th>\n",
       "      <th></th>\n",
       "      <th></th>\n",
       "      <th></th>\n",
       "    </tr>\n",
       "  </thead>\n",
       "  <tbody>\n",
       "    <tr>\n",
       "      <th>2017-01-03 09:00:00</th>\n",
       "      <td>SM1705</td>\n",
       "      <td>SM</td>\n",
       "      <td>CZCE</td>\n",
       "      <td>0.254069</td>\n",
       "      <td>0.249790</td>\n",
       "      <td>0.253348</td>\n",
       "      <td>0.252874</td>\n",
       "      <td>-0.471365</td>\n",
       "      <td>-0.255511</td>\n",
       "      <td>0</td>\n",
       "    </tr>\n",
       "    <tr>\n",
       "      <th>2017-01-03 09:01:00</th>\n",
       "      <td>SM1705</td>\n",
       "      <td>SM</td>\n",
       "      <td>CZCE</td>\n",
       "      <td>0.253045</td>\n",
       "      <td>0.249035</td>\n",
       "      <td>0.254378</td>\n",
       "      <td>0.253301</td>\n",
       "      <td>-0.471307</td>\n",
       "      <td>-0.276446</td>\n",
       "      <td>0</td>\n",
       "    </tr>\n",
       "    <tr>\n",
       "      <th>2017-01-03 09:02:00</th>\n",
       "      <td>SM1705</td>\n",
       "      <td>SM</td>\n",
       "      <td>CZCE</td>\n",
       "      <td>0.253642</td>\n",
       "      <td>0.249790</td>\n",
       "      <td>0.255151</td>\n",
       "      <td>0.254069</td>\n",
       "      <td>-0.471259</td>\n",
       "      <td>-0.275214</td>\n",
       "      <td>0</td>\n",
       "    </tr>\n",
       "    <tr>\n",
       "      <th>2017-01-03 09:03:00</th>\n",
       "      <td>SM1705</td>\n",
       "      <td>SM</td>\n",
       "      <td>CZCE</td>\n",
       "      <td>0.254410</td>\n",
       "      <td>0.251720</td>\n",
       "      <td>0.255580</td>\n",
       "      <td>0.255946</td>\n",
       "      <td>-0.471302</td>\n",
       "      <td>-0.276035</td>\n",
       "      <td>0</td>\n",
       "    </tr>\n",
       "    <tr>\n",
       "      <th>2017-01-03 09:04:00</th>\n",
       "      <td>SM1705</td>\n",
       "      <td>SM</td>\n",
       "      <td>CZCE</td>\n",
       "      <td>0.255946</td>\n",
       "      <td>0.252223</td>\n",
       "      <td>0.257040</td>\n",
       "      <td>0.256117</td>\n",
       "      <td>-0.471355</td>\n",
       "      <td>-0.262900</td>\n",
       "      <td>0</td>\n",
       "    </tr>\n",
       "  </tbody>\n",
       "</table>\n",
       "</div>"
      ],
      "text/plain": [
       "                    contract symbol exchange      open      high       low  \\\n",
       "datetime                                                                     \n",
       "2017-01-03 09:00:00   SM1705     SM     CZCE  0.254069  0.249790  0.253348   \n",
       "2017-01-03 09:01:00   SM1705     SM     CZCE  0.253045  0.249035  0.254378   \n",
       "2017-01-03 09:02:00   SM1705     SM     CZCE  0.253642  0.249790  0.255151   \n",
       "2017-01-03 09:03:00   SM1705     SM     CZCE  0.254410  0.251720  0.255580   \n",
       "2017-01-03 09:04:00   SM1705     SM     CZCE  0.255946  0.252223  0.257040   \n",
       "\n",
       "                        close  openinterest    volume  amount  \n",
       "datetime                                                       \n",
       "2017-01-03 09:00:00  0.252874     -0.471365 -0.255511       0  \n",
       "2017-01-03 09:01:00  0.253301     -0.471307 -0.276446       0  \n",
       "2017-01-03 09:02:00  0.254069     -0.471259 -0.275214       0  \n",
       "2017-01-03 09:03:00  0.255946     -0.471302 -0.276035       0  \n",
       "2017-01-03 09:04:00  0.256117     -0.471355 -0.262900       0  "
      ]
     },
     "execution_count": 10,
     "metadata": {},
     "output_type": "execute_result"
    }
   ],
   "source": [
    "df.head()"
   ]
  },
  {
   "cell_type": "code",
   "execution_count": 12,
   "id": "a59c58ed-b81b-47e0-b2b4-97e6a0e512e7",
   "metadata": {},
   "outputs": [
    {
     "data": {
      "text/plain": [
       "['contract',\n",
       " 'symbol',\n",
       " 'exchange',\n",
       " 'open',\n",
       " 'high',\n",
       " 'low',\n",
       " 'close',\n",
       " 'openinterest',\n",
       " 'volume',\n",
       " 'amount']"
      ]
     },
     "execution_count": 12,
     "metadata": {},
     "output_type": "execute_result"
    }
   ],
   "source": [
    "df.columns.tolist()"
   ]
  },
  {
   "cell_type": "code",
   "execution_count": 17,
   "id": "88e9d942-78a8-480a-b874-16c91226b9ae",
   "metadata": {},
   "outputs": [
    {
     "name": "stdout",
     "output_type": "stream",
     "text": [
      "datetime\n"
     ]
    }
   ],
   "source": [
    "print(df.index.name)       # 输出: 'datetime'"
   ]
  },
  {
   "cell_type": "code",
   "execution_count": 18,
   "id": "3876aee6-5fe1-4758-9343-80ea92b4f27b",
   "metadata": {},
   "outputs": [
    {
     "name": "stdout",
     "output_type": "stream",
     "text": [
      "['datetime', 'contract', 'symbol', 'exchange', 'open', 'high', 'low', 'close', 'openinterest', 'volume', 'amount']\n"
     ]
    }
   ],
   "source": [
    "df2 = df.reset_index()\n",
    "print(df2.columns.tolist())\n",
    "# ['datetime', 'contract', 'symbol', ...]\n"
   ]
  },
  {
   "cell_type": "code",
   "execution_count": 19,
   "id": "dddedb88-8ed0-4ad4-b00f-71d9d5489144",
   "metadata": {},
   "outputs": [],
   "source": [
    "df=df2"
   ]
  },
  {
   "cell_type": "code",
   "execution_count": 20,
   "id": "5a8e749b-6e05-4dcf-8dfc-51e39b235bb5",
   "metadata": {},
   "outputs": [
    {
     "data": {
      "image/png": "[encoded data removed]",
      "text/plain": [
       "<Figure size 1200x600 with 1 Axes>"
      ]
     },
     "metadata": {},
     "output_type": "display_data"
    }
   ],
   "source": [
    "import pandas as pd\n",
    "import matplotlib.pyplot as plt\n",
    "\n",
    "# 假设原始数据已加载到 DataFrame 中\n",
    "# df = pd.read_csv(\"your_data.csv\")\n",
    "# 设置时间索引\n",
    "df['datetime'] = pd.to_datetime(df['datetime'])\n",
    "df.set_index('datetime', inplace=True)\n",
    "\n",
    "# 绘制时序图\n",
    "plt.figure(figsize=(12, 6))\n",
    "plt.plot(df.index, df['close'], label='Close Price')\n",
    "plt.title('Time Series of Close Price (Original)')\n",
    "plt.xlabel('Date')\n",
    "plt.ylabel('Price')\n",
    "plt.legend()\n",
    "plt.grid(True)\n",
    "plt.show()"
   ]
  },
  {
   "cell_type": "code",
   "execution_count": 25,
   "id": "083b7213-2b67-4c57-bf11-6e0285c1bb8c",
   "metadata": {},
   "outputs": [
    {
     "data": {
      "text/plain": [
       "<Figure size 1200x600 with 0 Axes>"
      ]
     },
     "metadata": {},
     "output_type": "display_data"
    },
    {
     "data": {
      "image/png": "[encoded data removed]",
      "text/plain": [
       "<Figure size 640x480 with 1 Axes>"
      ]
     },
     "metadata": {},
     "output_type": "display_data"
    },
    {
     "data": {
      "text/plain": [
       "<Figure size 1200x600 with 0 Axes>"
      ]
     },
     "metadata": {},
     "output_type": "display_data"
    },
    {
     "data": {
      "image/png": "[encoded data removed]",
      "text/plain": [
       "<Figure size 640x480 with 1 Axes>"
      ]
     },
     "metadata": {},
     "output_type": "display_data"
    }
   ],
   "source": [
    "from statsmodels.graphics.tsaplots import plot_acf, plot_pacf\n",
    "\n",
    "# 绘制 ACF 图（自相关图）\n",
    "plt.figure(figsize=(12, 6))\n",
    "plot_acf(df['close'], lags=40, alpha=0.05, title='ACF of Close Price')\n",
    "plt.show()\n",
    "\n",
    "# 绘制 PACF 图（偏自相关图）\n",
    "plt.figure(figsize=(12, 6))\n",
    "plot_pacf(df['close'], lags=40, alpha=0.05, title='PACF of Close Price')\n",
    "plt.show()"
   ]
  },
  {
   "cell_type": "code",
   "execution_count": 28,
   "id": "67da9de1-eb24-4d63-9cf2-57e4493a5cec",
   "metadata": {},
   "outputs": [
    {
     "name": "stderr",
     "output_type": "stream",
     "text": [
      "/root/miniconda3/lib/python3.12/site-packages/sklearn/utils/deprecation.py:151: FutureWarning: 'force_all_finite' was renamed to 'ensure_all_finite' in 1.6 and will be removed in 1.8.\n",
      "  warnings.warn(\n",
      "/root/miniconda3/lib/python3.12/site-packages/sklearn/utils/deprecation.py:151: FutureWarning: 'force_all_finite' was renamed to 'ensure_all_finite' in 1.6 and will be removed in 1.8.\n",
      "  warnings.warn(\n",
      "/root/miniconda3/lib/python3.12/site-packages/sklearn/utils/deprecation.py:151: FutureWarning: 'force_all_finite' was renamed to 'ensure_all_finite' in 1.6 and will be removed in 1.8.\n",
      "  warnings.warn(\n",
      "/root/miniconda3/lib/python3.12/site-packages/sklearn/utils/deprecation.py:151: FutureWarning: 'force_all_finite' was renamed to 'ensure_all_finite' in 1.6 and will be removed in 1.8.\n",
      "  warnings.warn(\n",
      "/root/miniconda3/lib/python3.12/site-packages/sklearn/utils/deprecation.py:151: FutureWarning: 'force_all_finite' was renamed to 'ensure_all_finite' in 1.6 and will be removed in 1.8.\n",
      "  warnings.warn(\n",
      "/root/miniconda3/lib/python3.12/site-packages/sklearn/utils/deprecation.py:151: FutureWarning: 'force_all_finite' was renamed to 'ensure_all_finite' in 1.6 and will be removed in 1.8.\n",
      "  warnings.warn(\n",
      "/root/miniconda3/lib/python3.12/site-packages/sklearn/utils/deprecation.py:151: FutureWarning: 'force_all_finite' was renamed to 'ensure_all_finite' in 1.6 and will be removed in 1.8.\n",
      "  warnings.warn(\n",
      "/root/miniconda3/lib/python3.12/site-packages/sklearn/utils/deprecation.py:151: FutureWarning: 'force_all_finite' was renamed to 'ensure_all_finite' in 1.6 and will be removed in 1.8.\n",
      "  warnings.warn(\n",
      "/root/miniconda3/lib/python3.12/site-packages/sklearn/utils/deprecation.py:151: FutureWarning: 'force_all_finite' was renamed to 'ensure_all_finite' in 1.6 and will be removed in 1.8.\n",
      "  warnings.warn(\n"
     ]
    },
    {
     "name": "stdout",
     "output_type": "stream",
     "text": [
      "Performing stepwise search to minimize aic\n",
      " ARIMA(2,1,2)(0,0,0)[0] intercept   : AIC=-5650103.313, Time=104.26 sec\n"
     ]
    },
    {
     "name": "stderr",
     "output_type": "stream",
     "text": [
      "/root/miniconda3/lib/python3.12/site-packages/sklearn/utils/deprecation.py:151: FutureWarning: 'force_all_finite' was renamed to 'ensure_all_finite' in 1.6 and will be removed in 1.8.\n",
      "  warnings.warn(\n"
     ]
    },
    {
     "name": "stdout",
     "output_type": "stream",
     "text": [
      " ARIMA(0,1,0)(0,0,0)[0] intercept   : AIC=-5650111.313, Time=55.34 sec\n"
     ]
    },
    {
     "name": "stderr",
     "output_type": "stream",
     "text": [
      "/root/miniconda3/lib/python3.12/site-packages/sklearn/utils/deprecation.py:151: FutureWarning: 'force_all_finite' was renamed to 'ensure_all_finite' in 1.6 and will be removed in 1.8.\n",
      "  warnings.warn(\n"
     ]
    },
    {
     "name": "stdout",
     "output_type": "stream",
     "text": [
      " ARIMA(1,1,0)(0,0,0)[0] intercept   : AIC=-5650109.356, Time=65.38 sec\n"
     ]
    },
    {
     "name": "stderr",
     "output_type": "stream",
     "text": [
      "/root/miniconda3/lib/python3.12/site-packages/sklearn/utils/deprecation.py:151: FutureWarning: 'force_all_finite' was renamed to 'ensure_all_finite' in 1.6 and will be removed in 1.8.\n",
      "  warnings.warn(\n"
     ]
    },
    {
     "name": "stdout",
     "output_type": "stream",
     "text": [
      " ARIMA(0,1,1)(0,0,0)[0] intercept   : AIC=-5650109.356, Time=65.58 sec\n"
     ]
    },
    {
     "name": "stderr",
     "output_type": "stream",
     "text": [
      "/root/miniconda3/lib/python3.12/site-packages/sklearn/utils/deprecation.py:151: FutureWarning: 'force_all_finite' was renamed to 'ensure_all_finite' in 1.6 and will be removed in 1.8.\n",
      "  warnings.warn(\n"
     ]
    },
    {
     "name": "stdout",
     "output_type": "stream",
     "text": [
      " ARIMA(0,1,0)(0,0,0)[0]             : AIC=-5650113.312, Time=26.14 sec\n"
     ]
    },
    {
     "name": "stderr",
     "output_type": "stream",
     "text": [
      "/root/miniconda3/lib/python3.12/site-packages/sklearn/utils/deprecation.py:151: FutureWarning: 'force_all_finite' was renamed to 'ensure_all_finite' in 1.6 and will be removed in 1.8.\n",
      "  warnings.warn(\n"
     ]
    },
    {
     "name": "stdout",
     "output_type": "stream",
     "text": [
      " ARIMA(1,1,1)(0,0,0)[0] intercept   : AIC=-5650107.357, Time=64.05 sec\n",
      "\n",
      "Best model:  ARIMA(0,1,0)(0,0,0)[0]          \n",
      "Total fit time: 380.944 seconds\n",
      "(0, 1, 0)\n"
     ]
    }
   ],
   "source": [
    "from pmdarima import auto_arima\n",
    "model = auto_arima(df['close'], stepwise=True, trace=True)\n",
    "print(model.order)  # 输出 (p, d, q)"
   ]
  },
  {
   "cell_type": "code",
   "execution_count": 29,
   "id": "4de2c322-8c6b-4c97-a08e-3f329c7c80a8",
   "metadata": {},
   "outputs": [
    {
     "name": "stdout",
     "output_type": "stream",
     "text": [
      "                               SARIMAX Results                                \n",
      "==============================================================================\n",
      "Dep. Variable:                      y   No. Observations:               846105\n",
      "Model:               SARIMAX(0, 1, 0)   Log Likelihood             2825057.656\n",
      "Date:                Thu, 01 May 2025   AIC                       -5650113.312\n",
      "Time:                        16:03:36   BIC                       -5650101.664\n",
      "Sample:                             0   HQIC                      -5650110.085\n",
      "                             - 846105                                         \n",
      "Covariance Type:                  opg                                         \n",
      "==============================================================================\n",
      "                 coef    std err          z      P>|z|      [0.025      0.975]\n",
      "------------------------------------------------------------------------------\n",
      "sigma2      7.369e-05   5.92e-09   1.24e+04      0.000    7.37e-05    7.37e-05\n",
      "===================================================================================\n",
      "Ljung-Box (L1) (Q):                   0.04   Jarque-Bera (JB):       18788150641.61\n",
      "Prob(Q):                              0.84   Prob(JB):                         0.00\n",
      "Heteroskedasticity (H):               0.00   Skew:                           -12.92\n",
      "Prob(H) (two-sided):                  0.00   Kurtosis:                       732.56\n",
      "===================================================================================\n",
      "\n",
      "Warnings:\n",
      "[1] Covariance matrix calculated using the outer product of gradients (complex-step).\n"
     ]
    }
   ],
   "source": [
    "print(model.summary())  # 打印模型详细信息"
   ]
  },
  {
   "cell_type": "code",
   "execution_count": 30,
   "id": "061d5e39-4540-4632-a784-ab81ceb9d932",
   "metadata": {},
   "outputs": [
    {
     "name": "stdout",
     "output_type": "stream",
     "text": [
      "ADF Statistic: -108.79085130118095\n",
      "p-value: 0.0\n"
     ]
    }
   ],
   "source": [
    "from statsmodels.tsa.stattools import adfuller\n",
    "result = adfuller(df['close'].diff().dropna())\n",
    "print('ADF Statistic:', result[0])\n",
    "print('p-value:', result[1])"
   ]
  },
  {
   "cell_type": "code",
   "execution_count": 31,
   "id": "ece47db0-69e5-4184-9f54-95eb54e29e22",
   "metadata": {},
   "outputs": [
    {
     "name": "stderr",
     "output_type": "stream",
     "text": [
      "/root/miniconda3/lib/python3.12/site-packages/statsmodels/tsa/base/tsa_model.py:473: ValueWarning: A date index has been provided, but it has no associated frequency information and so will be ignored when e.g. forecasting.\n",
      "  self._init_dates(dates, freq)\n",
      "/root/miniconda3/lib/python3.12/site-packages/statsmodels/tsa/base/tsa_model.py:473: ValueWarning: A date index has been provided, but it is not monotonic and so will be ignored when e.g. forecasting.\n",
      "  self._init_dates(dates, freq)\n",
      "/root/miniconda3/lib/python3.12/site-packages/statsmodels/tsa/base/tsa_model.py:473: ValueWarning: A date index has been provided, but it has no associated frequency information and so will be ignored when e.g. forecasting.\n",
      "  self._init_dates(dates, freq)\n",
      "/root/miniconda3/lib/python3.12/site-packages/statsmodels/tsa/base/tsa_model.py:473: ValueWarning: A date index has been provided, but it is not monotonic and so will be ignored when e.g. forecasting.\n",
      "  self._init_dates(dates, freq)\n",
      "/root/miniconda3/lib/python3.12/site-packages/statsmodels/tsa/base/tsa_model.py:473: ValueWarning: A date index has been provided, but it has no associated frequency information and so will be ignored when e.g. forecasting.\n",
      "  self._init_dates(dates, freq)\n",
      "/root/miniconda3/lib/python3.12/site-packages/statsmodels/tsa/base/tsa_model.py:473: ValueWarning: A date index has been provided, but it is not monotonic and so will be ignored when e.g. forecasting.\n",
      "  self._init_dates(dates, freq)\n",
      "/root/miniconda3/lib/python3.12/site-packages/statsmodels/base/model.py:607: ConvergenceWarning: Maximum Likelihood optimization failed to converge. Check mle_retvals\n",
      "  warnings.warn(\"Maximum Likelihood optimization failed to \"\n"
     ]
    },
    {
     "name": "stdout",
     "output_type": "stream",
     "text": [
      "     lb_stat  lb_pvalue\n",
      "1   0.041886   0.837838\n",
      "2   0.042930   0.978764\n",
      "3   0.044009   0.997577\n",
      "4   0.044750   0.999753\n",
      "5   0.047935   0.999974\n",
      "6   0.048578   0.999998\n",
      "7   0.051186   1.000000\n",
      "8   0.051584   1.000000\n",
      "9   0.051620   1.000000\n",
      "10  0.051627   1.000000\n"
     ]
    }
   ],
   "source": [
    "from statsmodels.stats.diagnostic import acorr_ljungbox\n",
    "model = ARIMA(df['close'], order=(0,1,0)).fit()\n",
    "lb_test = acorr_ljungbox(model.resid, lags=10, return_df=True)\n",
    "print(lb_test)"
   ]
  },
  {
   "cell_type": "code",
   "execution_count": 32,
   "id": "d2da5949-b8bd-455d-9180-22f3c1b74adc",
   "metadata": {},
   "outputs": [
    {
     "name": "stdout",
     "output_type": "stream",
     "text": [
      "差分后 ADF Statistic: -108.79085130118095\n",
      "差分后 p-value: 0.0\n"
     ]
    }
   ],
   "source": [
    "from statsmodels.tsa.stattools import adfuller\n",
    "\n",
    "# 对差分后的数据进行 ADF 检验\n",
    "result_diff = adfuller(df['close'].diff().dropna())\n",
    "print('差分后 ADF Statistic:', result_diff[0])\n",
    "print('差分后 p-value:', result_diff[1])"
   ]
  },
  {
   "cell_type": "code",
   "execution_count": 33,
   "id": "9e6c3cb0-b7cb-4ca8-b1f5-23c9d1f07b44",
   "metadata": {},
   "outputs": [
    {
     "name": "stderr",
     "output_type": "stream",
     "text": [
      "/root/miniconda3/lib/python3.12/site-packages/sklearn/utils/deprecation.py:151: FutureWarning: 'force_all_finite' was renamed to 'ensure_all_finite' in 1.6 and will be removed in 1.8.\n",
      "  warnings.warn(\n",
      "/root/miniconda3/lib/python3.12/site-packages/sklearn/utils/deprecation.py:151: FutureWarning: 'force_all_finite' was renamed to 'ensure_all_finite' in 1.6 and will be removed in 1.8.\n",
      "  warnings.warn(\n"
     ]
    },
    {
     "name": "stdout",
     "output_type": "stream",
     "text": [
      "Performing stepwise search to minimize aic\n",
      " ARIMA(2,0,2)(0,0,0)[0] intercept   : AIC=inf, Time=648.50 sec\n"
     ]
    },
    {
     "name": "stderr",
     "output_type": "stream",
     "text": [
      "/root/miniconda3/lib/python3.12/site-packages/sklearn/utils/deprecation.py:151: FutureWarning: 'force_all_finite' was renamed to 'ensure_all_finite' in 1.6 and will be removed in 1.8.\n",
      "  warnings.warn(\n"
     ]
    },
    {
     "name": "stdout",
     "output_type": "stream",
     "text": [
      " ARIMA(0,0,0)(0,0,0)[0] intercept   : AIC=-305501.556, Time=45.19 sec\n"
     ]
    },
    {
     "name": "stderr",
     "output_type": "stream",
     "text": [
      "/root/miniconda3/lib/python3.12/site-packages/sklearn/utils/deprecation.py:151: FutureWarning: 'force_all_finite' was renamed to 'ensure_all_finite' in 1.6 and will be removed in 1.8.\n",
      "  warnings.warn(\n"
     ]
    },
    {
     "name": "stdout",
     "output_type": "stream",
     "text": [
      " ARIMA(1,0,0)(0,0,0)[0] intercept   : AIC=inf, Time=38.86 sec\n"
     ]
    },
    {
     "name": "stderr",
     "output_type": "stream",
     "text": [
      "/root/miniconda3/lib/python3.12/site-packages/sklearn/utils/deprecation.py:151: FutureWarning: 'force_all_finite' was renamed to 'ensure_all_finite' in 1.6 and will be removed in 1.8.\n",
      "  warnings.warn(\n"
     ]
    },
    {
     "name": "stdout",
     "output_type": "stream",
     "text": [
      " ARIMA(0,0,1)(0,0,0)[0] intercept   : AIC=-1434217.296, Time=85.40 sec\n"
     ]
    },
    {
     "name": "stderr",
     "output_type": "stream",
     "text": [
      "/root/miniconda3/lib/python3.12/site-packages/sklearn/utils/deprecation.py:151: FutureWarning: 'force_all_finite' was renamed to 'ensure_all_finite' in 1.6 and will be removed in 1.8.\n",
      "  warnings.warn(\n"
     ]
    },
    {
     "name": "stdout",
     "output_type": "stream",
     "text": [
      " ARIMA(0,0,0)(0,0,0)[0]             : AIC=1338634.523, Time=15.85 sec\n"
     ]
    },
    {
     "name": "stderr",
     "output_type": "stream",
     "text": [
      "/root/miniconda3/lib/python3.12/site-packages/sklearn/utils/deprecation.py:151: FutureWarning: 'force_all_finite' was renamed to 'ensure_all_finite' in 1.6 and will be removed in 1.8.\n",
      "  warnings.warn(\n"
     ]
    },
    {
     "name": "stdout",
     "output_type": "stream",
     "text": [
      " ARIMA(1,0,1)(0,0,0)[0] intercept   : AIC=-5650490.069, Time=52.32 sec\n"
     ]
    },
    {
     "name": "stderr",
     "output_type": "stream",
     "text": [
      "/root/miniconda3/lib/python3.12/site-packages/sklearn/utils/deprecation.py:151: FutureWarning: 'force_all_finite' was renamed to 'ensure_all_finite' in 1.6 and will be removed in 1.8.\n",
      "  warnings.warn(\n"
     ]
    },
    {
     "name": "stdout",
     "output_type": "stream",
     "text": [
      " ARIMA(2,0,1)(0,0,0)[0] intercept   : AIC=inf, Time=523.21 sec\n"
     ]
    },
    {
     "name": "stderr",
     "output_type": "stream",
     "text": [
      "/root/miniconda3/lib/python3.12/site-packages/sklearn/utils/deprecation.py:151: FutureWarning: 'force_all_finite' was renamed to 'ensure_all_finite' in 1.6 and will be removed in 1.8.\n",
      "  warnings.warn(\n"
     ]
    },
    {
     "name": "stdout",
     "output_type": "stream",
     "text": [
      " ARIMA(1,0,2)(0,0,0)[0] intercept   : AIC=-5650488.214, Time=70.61 sec\n"
     ]
    },
    {
     "name": "stderr",
     "output_type": "stream",
     "text": [
      "/root/miniconda3/lib/python3.12/site-packages/sklearn/utils/deprecation.py:151: FutureWarning: 'force_all_finite' was renamed to 'ensure_all_finite' in 1.6 and will be removed in 1.8.\n",
      "  warnings.warn(\n"
     ]
    },
    {
     "name": "stdout",
     "output_type": "stream",
     "text": [
      " ARIMA(0,0,2)(0,0,0)[0] intercept   : AIC=-2354250.144, Time=137.55 sec\n"
     ]
    },
    {
     "name": "stderr",
     "output_type": "stream",
     "text": [
      "/root/miniconda3/lib/python3.12/site-packages/sklearn/utils/deprecation.py:151: FutureWarning: 'force_all_finite' was renamed to 'ensure_all_finite' in 1.6 and will be removed in 1.8.\n",
      "  warnings.warn(\n"
     ]
    },
    {
     "name": "stdout",
     "output_type": "stream",
     "text": [
      " ARIMA(2,0,0)(0,0,0)[0] intercept   : AIC=inf, Time=52.91 sec\n"
     ]
    },
    {
     "name": "stderr",
     "output_type": "stream",
     "text": [
      "/root/miniconda3/lib/python3.12/site-packages/sklearn/utils/deprecation.py:151: FutureWarning: 'force_all_finite' was renamed to 'ensure_all_finite' in 1.6 and will be removed in 1.8.\n",
      "  warnings.warn(\n"
     ]
    },
    {
     "name": "stdout",
     "output_type": "stream",
     "text": [
      " ARIMA(1,0,1)(0,0,0)[0]             : AIC=-5650162.910, Time=33.57 sec\n",
      "\n",
      "Best model:  ARIMA(1,0,1)(0,0,0)[0] intercept\n",
      "Total fit time: 1703.998 seconds\n",
      "(1, 0, 1)\n"
     ]
    }
   ],
   "source": [
    "from pmdarima import auto_arima\n",
    "\n",
    "# 强制 d=0，搜索最佳 (p, q)\n",
    "model = auto_arima(df['close'], d=0, stepwise=True, trace=True)\n",
    "print(model.order)  # 输出 (p, 0, q)"
   ]
  },
  {
   "cell_type": "code",
   "execution_count": 34,
   "id": "79de80a9-6c23-448b-9e09-a41cc08bd475",
   "metadata": {},
   "outputs": [
    {
     "name": "stdout",
     "output_type": "stream",
     "text": [
      "KPSS Statistic: 102.03844521119726\n",
      "KPSS p-value: 0.01\n"
     ]
    },
    {
     "name": "stderr",
     "output_type": "stream",
     "text": [
      "/tmp/ipykernel_1146/3256241944.py:2: InterpolationWarning: The test statistic is outside of the range of p-values available in the\n",
      "look-up table. The actual p-value is smaller than the p-value returned.\n",
      "\n",
      "  kpss_result = kpss(df['close'])\n"
     ]
    }
   ],
   "source": [
    "from statsmodels.tsa.stattools import kpss\n",
    "kpss_result = kpss(df['close'])\n",
    "print('KPSS Statistic:', kpss_result[0])\n",
    "print('KPSS p-value:', kpss_result[1])"
   ]
  },
  {
   "cell_type": "code",
   "execution_count": 35,
   "id": "5de23394-ff6a-4c23-8a3b-07471edbcda3",
   "metadata": {},
   "outputs": [
    {
     "name": "stderr",
     "output_type": "stream",
     "text": [
      "/root/miniconda3/lib/python3.12/site-packages/statsmodels/tsa/base/tsa_model.py:473: ValueWarning: A date index has been provided, but it has no associated frequency information and so will be ignored when e.g. forecasting.\n",
      "  self._init_dates(dates, freq)\n",
      "/root/miniconda3/lib/python3.12/site-packages/statsmodels/tsa/base/tsa_model.py:473: ValueWarning: A date index has been provided, but it is not monotonic and so will be ignored when e.g. forecasting.\n",
      "  self._init_dates(dates, freq)\n",
      "/root/miniconda3/lib/python3.12/site-packages/statsmodels/tsa/base/tsa_model.py:473: ValueWarning: A date index has been provided, but it has no associated frequency information and so will be ignored when e.g. forecasting.\n",
      "  self._init_dates(dates, freq)\n",
      "/root/miniconda3/lib/python3.12/site-packages/statsmodels/tsa/base/tsa_model.py:473: ValueWarning: A date index has been provided, but it is not monotonic and so will be ignored when e.g. forecasting.\n",
      "  self._init_dates(dates, freq)\n",
      "/root/miniconda3/lib/python3.12/site-packages/statsmodels/tsa/base/tsa_model.py:473: ValueWarning: A date index has been provided, but it has no associated frequency information and so will be ignored when e.g. forecasting.\n",
      "  self._init_dates(dates, freq)\n",
      "/root/miniconda3/lib/python3.12/site-packages/statsmodels/tsa/base/tsa_model.py:473: ValueWarning: A date index has been provided, but it is not monotonic and so will be ignored when e.g. forecasting.\n",
      "  self._init_dates(dates, freq)\n"
     ]
    },
    {
     "name": "stdout",
     "output_type": "stream",
     "text": [
      "         lb_stat  lb_pvalue\n",
      "1   5.481244e-07   0.999409\n",
      "2   1.424870e-01   0.931235\n",
      "3   3.309299e-01   0.954110\n",
      "4   4.799769e-01   0.975421\n",
      "5   7.020096e-01   0.982858\n",
      "6   8.538310e-01   0.990552\n",
      "7   1.072451e+00   0.993574\n",
      "8   1.223083e+00   0.996409\n",
      "9   1.391008e+00   0.997877\n",
      "10  1.562159e+00   0.998728\n"
     ]
    }
   ],
   "source": [
    "from statsmodels.stats.diagnostic import acorr_ljungbox\n",
    "model = ARIMA(df['close'], order=(1,0,1)).fit()\n",
    "lb_test = acorr_ljungbox(model.resid, lags=10, return_df=True)\n",
    "print(lb_test)"
   ]
  },
  {
   "cell_type": "code",
   "execution_count": 36,
   "id": "11a7dc81-9600-4ebe-a7aa-913bf77f6d33",
   "metadata": {},
   "outputs": [
    {
     "name": "stdout",
     "output_type": "stream",
     "text": [
      "                               SARIMAX Results                                \n",
      "==============================================================================\n",
      "Dep. Variable:                  close   No. Observations:               846105\n",
      "Model:                 ARIMA(1, 0, 1)   Log Likelihood             2825249.036\n",
      "Date:                Thu, 01 May 2025   AIC                       -5650490.071\n",
      "Time:                        17:02:55   BIC                       -5650443.477\n",
      "Sample:                             0   HQIC                      -5650477.162\n",
      "                             - 846105                                         \n",
      "Covariance Type:                  opg                                         \n",
      "==============================================================================\n",
      "                 coef    std err          z      P>|z|      [0.025      0.975]\n",
      "------------------------------------------------------------------------------\n",
      "const          0.4940      0.064      7.779      0.000       0.370       0.618\n",
      "ar.L1          0.9991      0.000   5768.211      0.000       0.999       0.999\n",
      "ma.L1          0.0002      0.013      0.017      0.986      -0.026       0.026\n",
      "sigma2      7.365e-05   1.29e-08   5688.794      0.000    7.36e-05    7.37e-05\n",
      "===================================================================================\n",
      "Ljung-Box (L1) (Q):                   0.00   Jarque-Bera (JB):       18855230141.02\n",
      "Prob(Q):                              1.00   Prob(JB):                         0.00\n",
      "Heteroskedasticity (H):               0.00   Skew:                           -13.01\n",
      "Prob(H) (two-sided):                  0.00   Kurtosis:                       733.86\n",
      "===================================================================================\n",
      "\n",
      "Warnings:\n",
      "[1] Covariance matrix calculated using the outer product of gradients (complex-step).\n"
     ]
    }
   ],
   "source": [
    "print(model.summary())"
   ]
  },
  {
   "cell_type": "code",
   "execution_count": 37,
   "id": "8554c13f-1201-4468-b773-d0d2fda10080",
   "metadata": {},
   "outputs": [
    {
     "name": "stdout",
     "output_type": "stream",
     "text": [
      "-5650490.071052678 -5650443.4774577\n"
     ]
    }
   ],
   "source": [
    "print(model.aic, model.bic)"
   ]
  },
  {
   "cell_type": "code",
   "execution_count": null,
   "id": "17629e51-3333-4115-90fb-7d2260b11b06",
   "metadata": {},
   "outputs": [],
   "source": []
  }
 ],
 "metadata": {
  "kernelspec": {
   "display_name": "Python 3 (ipykernel)",
   "language": "python",
   "name": "python3"
  },
  "language_info": {
   "codemirror_mode": {
    "name": "ipython",
    "version": 3
   },
   "file_extension": ".py",
   "mimetype": "text/x-python",
   "name": "python",
   "nbconvert_exporter": "python",
   "pygments_lexer": "ipython3",
   "version": "3.12.3"
  }
 },
 "nbformat": 4,
 "nbformat_minor": 5
}
